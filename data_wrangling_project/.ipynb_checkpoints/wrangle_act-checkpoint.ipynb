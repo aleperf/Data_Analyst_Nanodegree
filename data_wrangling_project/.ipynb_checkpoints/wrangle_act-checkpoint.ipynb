{
 "cells": [
  {
   "cell_type": "markdown",
   "metadata": {},
   "source": [
    "# Wrangling WeRateDogs\n",
    "\n",
    "### Introduction : project motivation\n",
    "In this project I'm going to gather, asses, clean, store and finally analyze and visualize data relative to the WeRateDogs twitter account. <br>\n",
    "Usually images of dogs are posted on this account to be rated according to a particular fractional system where every dog or sometimes some other animal receives a score in tenths (like 9/10), but the score can be greater than one (or ten tenths) as value, so scores like 11/10 or 20/10 are valid scores.<br>\n",
    " \n",
    "WeRateDogs is a website strongly based on humour about dogs and pets, so sometimes the images posted aren't really of a dog, nor of an animal. <br>\n",
    "\n",
    "I'll wrangle three source of data: a csv file containing an archive of tweets by WeRateDogs, a tsv file obtained from an url provided by Udacity, containing predictions about the most probable race of dogs contained in the images and finally I'll extract additional data about the tweets contained in the twitter archive directly from Twitter using the Tweepy API. <br>\n",
    "\n",
    "On Twitter messagges can be retweeted by other users, but for the purpose of this project I'll keep only data about original tweets with an image (as per instructions on Udacity) and a score, while I'll remove retweeted tweets, so not original tweets."
   ]
  },
  {
   "cell_type": "markdown",
   "metadata": {},
   "source": [
    "### Summary\n",
    "#### - [Gathering](#gathering)\n",
    "   - [Gathering data from file: importing the WeRateDogs Twitter archive](#gathering_from_file)\n",
    "   - [ Gathering data from url: retrieving the image predictions ](#gathering_from_url)\n",
    "   - [Gathering data from Twitter with the Tweepy API](#gathering_from_tweepy)\n",
    "\n",
    "#### -[ Assessing](#assessing)\n",
    "   - [Assessing the twitter_archive dataframe](#assessing_twitter_archive)\n",
    "   - [Tidiness and Quality issue for the twitter_archive dataframe](#tidy_quality_ta)\n",
    "   - [Assessing the image_predictions dataframe](#assessing_image_predictions)\n",
    "   - [image_predictions dataframe issues](#image_predictions_issues)\n",
    "   - [Assessing the tweet_extra dataframe](#assessing_tweet_extra)\n",
    "   - [tweet_extra dataframe issues](#tweet_extra_issues)\n",
    "     \n",
    "#### - [Cleaning](#cleaning_section) \n",
    "   - [Cleaning the twitter_archive_dataframe](#cleaning_twitter_archive)\n",
    "   - [Cleaning the image_predictions dataframe](#cleaning_image_predictions)\n",
    "   - [Cleaning the tweet_extra dataframe](#cleaning_tweet_extra)\n",
    "   \n",
    "#### - [Saving the cleaned dataframe to a csv file](#saving_csv)   \n",
    "\n",
    "#### - [Analyzing and Visualizing](#analyzing_and_visualizing)"
   ]
  },
  {
   "cell_type": "code",
   "execution_count": 1,
   "metadata": {},
   "outputs": [],
   "source": [
    "### imports\n",
    "import pandas as pd\n",
    "import numpy as np\n",
    "import tweepy \n",
    "import json\n",
    "import requests\n",
    "import matplotlib.pyplot as plt\n",
    "%matplotlib inline "
   ]
  },
  {
   "cell_type": "markdown",
   "metadata": {},
   "source": [
    "<a id='gathering'></a>\n",
    "## Gathering "
   ]
  },
  {
   "cell_type": "markdown",
   "metadata": {},
   "source": [
    "<a id='gathering_from_file'></a>\n",
    "### Gathering data from file: importing the WeRateDogs Twitter archive\n",
    "An archive of tweets from WeRateDogs has already been provided as csv file and it will be imported in the next cell.\n"
   ]
  },
  {
   "cell_type": "code",
   "execution_count": 2,
   "metadata": {},
   "outputs": [],
   "source": [
    "#importing the WeRateDogs twitter archive\n",
    "twitter_archive = pd.read_csv(\"twitter-archive-enhanced.csv\")"
   ]
  },
  {
   "cell_type": "markdown",
   "metadata": {},
   "source": [
    "<a id= '#gathering_from_url'></a>\n",
    "### Gathering data from url: retrieving the image predictions"
   ]
  },
  {
   "cell_type": "markdown",
   "metadata": {},
   "source": [
    "In the following cell, I'll download a tsv file from a url provided by Udacity, containing predictions on the race of cat and dogs in photos included in tweets."
   ]
  },
  {
   "cell_type": "code",
   "execution_count": 542,
   "metadata": {},
   "outputs": [],
   "source": [
    "predictions_url = \"https://d17h27t6h515a5.cloudfront.net/topher/2017/August/599fd2ad_image-predictions/image-predictions.tsv\""
   ]
  },
  {
   "cell_type": "code",
   "execution_count": 543,
   "metadata": {},
   "outputs": [],
   "source": [
    "response = requests.get(predictions_url)"
   ]
  },
  {
   "cell_type": "code",
   "execution_count": 490,
   "metadata": {},
   "outputs": [],
   "source": [
    "with open(\"image-predictions.tsv\", mode='wb') as file:\n",
    "    file.write(response.content)"
   ]
  },
  {
   "cell_type": "code",
   "execution_count": 3,
   "metadata": {},
   "outputs": [],
   "source": [
    "image_predictions = pd.read_csv(\"image-predictions.tsv\", sep=\"\\t\")"
   ]
  },
  {
   "cell_type": "markdown",
   "metadata": {},
   "source": [
    "<a id='gathering_from_tweepy'></a>\n",
    "### Gathering data from the Twitter with the Tweepy API\n",
    "## NOTA: RIMUOVI LE API KEY PRIMA DI MANDARE QUESTO NOTEBOOK!!"
   ]
  },
  {
   "cell_type": "markdown",
   "metadata": {},
   "source": [
    "In the following cells I'll download data about the count of retweets and and favorites for every tweet included in the twitter_archive dataframe."
   ]
  },
  {
   "cell_type": "code",
   "execution_count": 492,
   "metadata": {},
   "outputs": [],
   "source": [
    "\n",
    "consumer_key = 'YOUR CONSUMER KEY'\n",
    "consumer_secret = 'YOUR CONSUMER SECRET'\n",
    "access_token = 'YOUR ACCESS TOKEN'\n",
    "access_secret = 'YOUR ACCESS SECRET'\n",
    "\n",
    "auth = tweepy.OAuthHandler(consumer_key, consumer_secret)\n",
    "auth.set_access_token(access_token, access_secret)\n",
    "## create an API object and set wait_on_rate_limit to True in order to not exceed the rate limits for querying the api,\n",
    "## while wait_on_rate_limit_notify set to True will print a statement informing if waiting (because rate limit exceeded)\n",
    "api = tweepy.API(auth,wait_on_rate_limit=True, wait_on_rate_limit_notify= True)"
   ]
  },
  {
   "cell_type": "markdown",
   "metadata": {},
   "source": [
    "The following cell download data from the Twitter with the Tweepy API.<br>\n",
    "Some of the tweets in the twitter_archive may not be still on Twitter: the orginal author may have deleted the tweet or the entire account, in this case the Tweepy API will throw an exception that will be captured in a try-catch block.<br>\n"
   ]
  },
  {
   "cell_type": "code",
   "execution_count": 494,
   "metadata": {},
   "outputs": [
    {
     "name": "stdout",
     "output_type": "stream",
     "text": [
      "id: 888202515573088257 {\"errors\":[{\"code\":144,\"message\":\"No status found with that ID.\"}]}\n",
      "id: 873697596434513921 {\"errors\":[{\"code\":144,\"message\":\"No status found with that ID.\"}]}\n",
      "id: 872668790621863937 {\"errors\":[{\"code\":144,\"message\":\"No status found with that ID.\"}]}\n",
      "id: 869988702071779329 {\"errors\":[{\"code\":144,\"message\":\"No status found with that ID.\"}]}\n",
      "id: 866816280283807744 {\"errors\":[{\"code\":144,\"message\":\"No status found with that ID.\"}]}\n",
      "id: 861769973181624320 {\"errors\":[{\"code\":144,\"message\":\"No status found with that ID.\"}]}\n",
      "id: 845459076796616705 {\"errors\":[{\"code\":144,\"message\":\"No status found with that ID.\"}]}\n",
      "id: 842892208864923648 {\"errors\":[{\"code\":144,\"message\":\"No status found with that ID.\"}]}\n",
      "id: 837012587749474308 {\"errors\":[{\"code\":144,\"message\":\"No status found with that ID.\"}]}\n",
      "id: 827228250799742977 {\"errors\":[{\"code\":144,\"message\":\"No status found with that ID.\"}]}\n",
      "id: 812747805718642688 {\"errors\":[{\"code\":144,\"message\":\"No status found with that ID.\"}]}\n",
      "id: 802247111496568832 {\"errors\":[{\"code\":144,\"message\":\"No status found with that ID.\"}]}\n",
      "id: 775096608509886464 {\"errors\":[{\"code\":144,\"message\":\"No status found with that ID.\"}]}\n",
      "id: 770743923962707968 {\"errors\":[{\"code\":144,\"message\":\"No status found with that ID.\"}]}\n"
     ]
    },
    {
     "name": "stderr",
     "output_type": "stream",
     "text": [
      "Rate limit reached. Sleeping for: 350\n"
     ]
    },
    {
     "name": "stdout",
     "output_type": "stream",
     "text": [
      "id: 754011816964026368 {\"errors\":[{\"code\":144,\"message\":\"No status found with that ID.\"}]}\n",
      "id: 680055455951884288 {\"errors\":[{\"code\":144,\"message\":\"No status found with that ID.\"}]}\n"
     ]
    },
    {
     "name": "stderr",
     "output_type": "stream",
     "text": [
      "Rate limit reached. Sleeping for: 416\n"
     ]
    },
    {
     "name": "stdout",
     "output_type": "stream",
     "text": [
      "2168.095754623413\n"
     ]
    }
   ],
   "source": [
    "### running this cell could take 35 minutes or more\n",
    "import time\n",
    "start = time.time()\n",
    "with open('tweet_json.txt', mode = 'w', encoding='utf-8') as file:\n",
    " \n",
    "    for index, row in twitter_archive.iterrows():\n",
    "       \n",
    "        tweet_id = row.tweet_id\n",
    "        data ={}\n",
    "        try:  \n",
    "           \n",
    "            current_tweet = api.get_status(tweet_id, tweet_mode='extended')\n",
    "            data['tweet_id'] = tweet_id\n",
    "            data['retweet_count'] = current_tweet.retweet_count\n",
    "            data['favorite_count'] = current_tweet.favorite_count\n",
    "            data['is_valid_tweet'] = True\n",
    "            \n",
    "           \n",
    "       ### catch both error for not existing tweet and rate limit error\n",
    "        except tweepy.TweepError as e:\n",
    "            data['tweet_id'] = tweet_id\n",
    "            ### if is_valid_tweet is False, it hasn't be possible to retrieve the tweet from twitter.\n",
    "            data['is_valid_tweet'] = False\n",
    "            print(\"id: \" + str(tweet_id) + \" \" + e.response.text)\n",
    "            \n",
    "        json.dump(data, file)\n",
    "        file.write('\\n')  \n",
    "            \n",
    "end = time.time()\n",
    "print(end - start)"
   ]
  },
  {
   "cell_type": "code",
   "execution_count": 4,
   "metadata": {},
   "outputs": [],
   "source": [
    "### reading json data to dataframe\n",
    "tweet_extra = pd.read_json(\"tweet_json.txt\", lines=True,encoding='utf-8')"
   ]
  },
  {
   "cell_type": "markdown",
   "metadata": {},
   "source": [
    "<a id='assessing'></a>\n",
    "## Assessing "
   ]
  },
  {
   "cell_type": "markdown",
   "metadata": {},
   "source": [
    "<a id= \"assessing_twitter_archive\"> </a>\n",
    "### Assessing the twitter archive dataframe"
   ]
  },
  {
   "cell_type": "code",
   "execution_count": 600,
   "metadata": {},
   "outputs": [
    {
     "data": {
      "text/plain": [
       "(2356, 17)"
      ]
     },
     "execution_count": 600,
     "metadata": {},
     "output_type": "execute_result"
    }
   ],
   "source": [
    "twitter_archive.shape"
   ]
  },
  {
   "cell_type": "code",
   "execution_count": 601,
   "metadata": {},
   "outputs": [
    {
     "data": {
      "text/html": [
       "<div>\n",
       "<style scoped>\n",
       "    .dataframe tbody tr th:only-of-type {\n",
       "        vertical-align: middle;\n",
       "    }\n",
       "\n",
       "    .dataframe tbody tr th {\n",
       "        vertical-align: top;\n",
       "    }\n",
       "\n",
       "    .dataframe thead th {\n",
       "        text-align: right;\n",
       "    }\n",
       "</style>\n",
       "<table border=\"1\" class=\"dataframe\">\n",
       "  <thead>\n",
       "    <tr style=\"text-align: right;\">\n",
       "      <th></th>\n",
       "      <th>tweet_id</th>\n",
       "      <th>in_reply_to_status_id</th>\n",
       "      <th>in_reply_to_user_id</th>\n",
       "      <th>timestamp</th>\n",
       "      <th>source</th>\n",
       "      <th>text</th>\n",
       "      <th>retweeted_status_id</th>\n",
       "      <th>retweeted_status_user_id</th>\n",
       "      <th>retweeted_status_timestamp</th>\n",
       "      <th>expanded_urls</th>\n",
       "      <th>rating_numerator</th>\n",
       "      <th>rating_denominator</th>\n",
       "      <th>name</th>\n",
       "      <th>doggo</th>\n",
       "      <th>floofer</th>\n",
       "      <th>pupper</th>\n",
       "      <th>puppo</th>\n",
       "    </tr>\n",
       "  </thead>\n",
       "  <tbody>\n",
       "    <tr>\n",
       "      <th>0</th>\n",
       "      <td>892420643555336193</td>\n",
       "      <td>NaN</td>\n",
       "      <td>NaN</td>\n",
       "      <td>2017-08-01 16:23:56 +0000</td>\n",
       "      <td>&lt;a href=\"http://twitter.com/download/iphone\" r...</td>\n",
       "      <td>This is Phineas. He's a mystical boy. Only eve...</td>\n",
       "      <td>NaN</td>\n",
       "      <td>NaN</td>\n",
       "      <td>NaN</td>\n",
       "      <td>https://twitter.com/dog_rates/status/892420643...</td>\n",
       "      <td>13</td>\n",
       "      <td>10</td>\n",
       "      <td>Phineas</td>\n",
       "      <td>None</td>\n",
       "      <td>None</td>\n",
       "      <td>None</td>\n",
       "      <td>None</td>\n",
       "    </tr>\n",
       "    <tr>\n",
       "      <th>1</th>\n",
       "      <td>892177421306343426</td>\n",
       "      <td>NaN</td>\n",
       "      <td>NaN</td>\n",
       "      <td>2017-08-01 00:17:27 +0000</td>\n",
       "      <td>&lt;a href=\"http://twitter.com/download/iphone\" r...</td>\n",
       "      <td>This is Tilly. She's just checking pup on you....</td>\n",
       "      <td>NaN</td>\n",
       "      <td>NaN</td>\n",
       "      <td>NaN</td>\n",
       "      <td>https://twitter.com/dog_rates/status/892177421...</td>\n",
       "      <td>13</td>\n",
       "      <td>10</td>\n",
       "      <td>Tilly</td>\n",
       "      <td>None</td>\n",
       "      <td>None</td>\n",
       "      <td>None</td>\n",
       "      <td>None</td>\n",
       "    </tr>\n",
       "    <tr>\n",
       "      <th>2</th>\n",
       "      <td>891815181378084864</td>\n",
       "      <td>NaN</td>\n",
       "      <td>NaN</td>\n",
       "      <td>2017-07-31 00:18:03 +0000</td>\n",
       "      <td>&lt;a href=\"http://twitter.com/download/iphone\" r...</td>\n",
       "      <td>This is Archie. He is a rare Norwegian Pouncin...</td>\n",
       "      <td>NaN</td>\n",
       "      <td>NaN</td>\n",
       "      <td>NaN</td>\n",
       "      <td>https://twitter.com/dog_rates/status/891815181...</td>\n",
       "      <td>12</td>\n",
       "      <td>10</td>\n",
       "      <td>Archie</td>\n",
       "      <td>None</td>\n",
       "      <td>None</td>\n",
       "      <td>None</td>\n",
       "      <td>None</td>\n",
       "    </tr>\n",
       "    <tr>\n",
       "      <th>3</th>\n",
       "      <td>891689557279858688</td>\n",
       "      <td>NaN</td>\n",
       "      <td>NaN</td>\n",
       "      <td>2017-07-30 15:58:51 +0000</td>\n",
       "      <td>&lt;a href=\"http://twitter.com/download/iphone\" r...</td>\n",
       "      <td>This is Darla. She commenced a snooze mid meal...</td>\n",
       "      <td>NaN</td>\n",
       "      <td>NaN</td>\n",
       "      <td>NaN</td>\n",
       "      <td>https://twitter.com/dog_rates/status/891689557...</td>\n",
       "      <td>13</td>\n",
       "      <td>10</td>\n",
       "      <td>Darla</td>\n",
       "      <td>None</td>\n",
       "      <td>None</td>\n",
       "      <td>None</td>\n",
       "      <td>None</td>\n",
       "    </tr>\n",
       "    <tr>\n",
       "      <th>4</th>\n",
       "      <td>891327558926688256</td>\n",
       "      <td>NaN</td>\n",
       "      <td>NaN</td>\n",
       "      <td>2017-07-29 16:00:24 +0000</td>\n",
       "      <td>&lt;a href=\"http://twitter.com/download/iphone\" r...</td>\n",
       "      <td>This is Franklin. He would like you to stop ca...</td>\n",
       "      <td>NaN</td>\n",
       "      <td>NaN</td>\n",
       "      <td>NaN</td>\n",
       "      <td>https://twitter.com/dog_rates/status/891327558...</td>\n",
       "      <td>12</td>\n",
       "      <td>10</td>\n",
       "      <td>Franklin</td>\n",
       "      <td>None</td>\n",
       "      <td>None</td>\n",
       "      <td>None</td>\n",
       "      <td>None</td>\n",
       "    </tr>\n",
       "  </tbody>\n",
       "</table>\n",
       "</div>"
      ],
      "text/plain": [
       "             tweet_id  in_reply_to_status_id  in_reply_to_user_id  \\\n",
       "0  892420643555336193                    NaN                  NaN   \n",
       "1  892177421306343426                    NaN                  NaN   \n",
       "2  891815181378084864                    NaN                  NaN   \n",
       "3  891689557279858688                    NaN                  NaN   \n",
       "4  891327558926688256                    NaN                  NaN   \n",
       "\n",
       "                   timestamp  \\\n",
       "0  2017-08-01 16:23:56 +0000   \n",
       "1  2017-08-01 00:17:27 +0000   \n",
       "2  2017-07-31 00:18:03 +0000   \n",
       "3  2017-07-30 15:58:51 +0000   \n",
       "4  2017-07-29 16:00:24 +0000   \n",
       "\n",
       "                                              source  \\\n",
       "0  <a href=\"http://twitter.com/download/iphone\" r...   \n",
       "1  <a href=\"http://twitter.com/download/iphone\" r...   \n",
       "2  <a href=\"http://twitter.com/download/iphone\" r...   \n",
       "3  <a href=\"http://twitter.com/download/iphone\" r...   \n",
       "4  <a href=\"http://twitter.com/download/iphone\" r...   \n",
       "\n",
       "                                                text  retweeted_status_id  \\\n",
       "0  This is Phineas. He's a mystical boy. Only eve...                  NaN   \n",
       "1  This is Tilly. She's just checking pup on you....                  NaN   \n",
       "2  This is Archie. He is a rare Norwegian Pouncin...                  NaN   \n",
       "3  This is Darla. She commenced a snooze mid meal...                  NaN   \n",
       "4  This is Franklin. He would like you to stop ca...                  NaN   \n",
       "\n",
       "   retweeted_status_user_id retweeted_status_timestamp  \\\n",
       "0                       NaN                        NaN   \n",
       "1                       NaN                        NaN   \n",
       "2                       NaN                        NaN   \n",
       "3                       NaN                        NaN   \n",
       "4                       NaN                        NaN   \n",
       "\n",
       "                                       expanded_urls  rating_numerator  \\\n",
       "0  https://twitter.com/dog_rates/status/892420643...                13   \n",
       "1  https://twitter.com/dog_rates/status/892177421...                13   \n",
       "2  https://twitter.com/dog_rates/status/891815181...                12   \n",
       "3  https://twitter.com/dog_rates/status/891689557...                13   \n",
       "4  https://twitter.com/dog_rates/status/891327558...                12   \n",
       "\n",
       "   rating_denominator      name doggo floofer pupper puppo  \n",
       "0                  10   Phineas  None    None   None  None  \n",
       "1                  10     Tilly  None    None   None  None  \n",
       "2                  10    Archie  None    None   None  None  \n",
       "3                  10     Darla  None    None   None  None  \n",
       "4                  10  Franklin  None    None   None  None  "
      ]
     },
     "execution_count": 601,
     "metadata": {},
     "output_type": "execute_result"
    }
   ],
   "source": [
    "twitter_archive.head()"
   ]
  },
  {
   "cell_type": "code",
   "execution_count": 602,
   "metadata": {},
   "outputs": [
    {
     "name": "stdout",
     "output_type": "stream",
     "text": [
      "<class 'pandas.core.frame.DataFrame'>\n",
      "RangeIndex: 2356 entries, 0 to 2355\n",
      "Data columns (total 17 columns):\n",
      "tweet_id                      2356 non-null int64\n",
      "in_reply_to_status_id         78 non-null float64\n",
      "in_reply_to_user_id           78 non-null float64\n",
      "timestamp                     2356 non-null object\n",
      "source                        2356 non-null object\n",
      "text                          2356 non-null object\n",
      "retweeted_status_id           181 non-null float64\n",
      "retweeted_status_user_id      181 non-null float64\n",
      "retweeted_status_timestamp    181 non-null object\n",
      "expanded_urls                 2297 non-null object\n",
      "rating_numerator              2356 non-null int64\n",
      "rating_denominator            2356 non-null int64\n",
      "name                          2356 non-null object\n",
      "doggo                         2356 non-null object\n",
      "floofer                       2356 non-null object\n",
      "pupper                        2356 non-null object\n",
      "puppo                         2356 non-null object\n",
      "dtypes: float64(4), int64(3), object(10)\n",
      "memory usage: 313.0+ KB\n"
     ]
    }
   ],
   "source": [
    "twitter_archive.info()"
   ]
  },
  {
   "cell_type": "markdown",
   "metadata": {},
   "source": [
    "There are 2356 rows and 17 columns in the twitter_archive dataframe, some of the columns are mostly empty (only 78 values for in_reply_to_status_id and in_reply_to_user_id and 181 for retweeted_status_id and retweeted_status_user_id ) and some of the types of the columns seem not appropriate: float used for columns dedicated to ids, but according to the twitter API this fields should be int."
   ]
  },
  {
   "cell_type": "code",
   "execution_count": 603,
   "metadata": {},
   "outputs": [
    {
     "data": {
      "text/plain": [
       "<a href=\"http://twitter.com/download/iphone\" rel=\"nofollow\">Twitter for iPhone</a>     2221\n",
       "<a href=\"http://vine.co\" rel=\"nofollow\">Vine - Make a Scene</a>                          91\n",
       "<a href=\"http://twitter.com\" rel=\"nofollow\">Twitter Web Client</a>                       33\n",
       "<a href=\"https://about.twitter.com/products/tweetdeck\" rel=\"nofollow\">TweetDeck</a>      11\n",
       "Name: source, dtype: int64"
      ]
     },
     "execution_count": 603,
     "metadata": {},
     "output_type": "execute_result"
    }
   ],
   "source": [
    "#Looking at the values in source\n",
    "twitter_archive.source.value_counts()"
   ]
  },
  {
   "cell_type": "markdown",
   "metadata": {},
   "source": [
    "Looking at the values for the source, the format for the source is inappropriate: it contains tags that aren't particularly useful for classification, the data could be simplified to  \"Twitter for iPhone\", \"Vine\", \"Twitter Web Client\" and \"TweetDeck\". The source sites included aren't again particularly useful: <br>\n",
    "- https://about.twitter.com/products/tweetdeck  simply invites to download the iPhone app\n",
    "- http://vine.co is what remains  the Vine company website that stopped working in 2017 and it is a dead end\n",
    "- http://twitter.com it is simply the twitter homepage\n",
    "- https://about.twitter.com/products/tweetdeck  this redirects to the twitter homepage.\n",
    "\n",
    "It seems the information about the websiste could be removed without any particular loss of information about the source,because the website aren't particurlarly informative, we only need to know there are four different sources."
   ]
  },
  {
   "cell_type": "code",
   "execution_count": 604,
   "metadata": {},
   "outputs": [
    {
     "name": "stdout",
     "output_type": "stream",
     "text": [
      "<class 'str'>\n"
     ]
    }
   ],
   "source": [
    "## the timestamp is a string \n",
    "print(type(twitter_archive.timestamp[0]))"
   ]
  },
  {
   "cell_type": "markdown",
   "metadata": {},
   "source": [
    "The type of the timestamp column is string, not useful for ordering and comparisons."
   ]
  },
  {
   "cell_type": "code",
   "execution_count": 605,
   "metadata": {},
   "outputs": [
    {
     "data": {
      "text/plain": [
       "None            745\n",
       "a                55\n",
       "Charlie          12\n",
       "Lucy             11\n",
       "Cooper           11\n",
       "Oliver           11\n",
       "Lola             10\n",
       "Tucker           10\n",
       "Penny            10\n",
       "Winston           9\n",
       "Bo                9\n",
       "the               8\n",
       "Sadie             8\n",
       "Buddy             7\n",
       "Toby              7\n",
       "Bailey            7\n",
       "Daisy             7\n",
       "an                7\n",
       "Stanley           6\n",
       "Oscar             6\n",
       "Scout             6\n",
       "Rusty             6\n",
       "Milo              6\n",
       "Leo               6\n",
       "Dave              6\n",
       "Jax               6\n",
       "Jack              6\n",
       "Bella             6\n",
       "Koda              6\n",
       "Bentley           5\n",
       "               ... \n",
       "Gòrdón            1\n",
       "Geno              1\n",
       "Bodie             1\n",
       "Willem            1\n",
       "Nugget            1\n",
       "Beckham           1\n",
       "Crawford          1\n",
       "Mike              1\n",
       "Bode              1\n",
       "Cal               1\n",
       "Aldrick           1\n",
       "Divine            1\n",
       "Emmie             1\n",
       "Walker            1\n",
       "Kody              1\n",
       "Wafer             1\n",
       "Doobert           1\n",
       "Bauer             1\n",
       "Miguel            1\n",
       "Eleanor           1\n",
       "Julius            1\n",
       "Mac               1\n",
       "Beya              1\n",
       "Rhino             1\n",
       "Alexanderson      1\n",
       "Kendall           1\n",
       "Rueben            1\n",
       "Jeffrie           1\n",
       "Kara              1\n",
       "Tess              1\n",
       "Name: name, Length: 957, dtype: int64"
      ]
     },
     "execution_count": 605,
     "metadata": {},
     "output_type": "execute_result"
    }
   ],
   "source": [
    "### looking at dog names\n",
    "twitter_archive.name.value_counts()"
   ]
  },
  {
   "cell_type": "markdown",
   "metadata": {},
   "source": [
    "There are 55 dogs with name \"a\", which is a very improbable name, let's look at those and to dogs with name \"an\" and \"the\"."
   ]
  },
  {
   "cell_type": "code",
   "execution_count": 606,
   "metadata": {},
   "outputs": [],
   "source": [
    "wrong_names = twitter_archive[(twitter_archive.name == 'a' )| (twitter_archive.name == 'an') |\\\n",
    "                              (twitter_archive.name == 'the')]"
   ]
  },
  {
   "cell_type": "code",
   "execution_count": 607,
   "metadata": {},
   "outputs": [
    {
     "name": "stdout",
     "output_type": "stream",
     "text": [
      "56 : Here is a pupper approaching maximum borkdrive. Zooming at never before seen speeds. 14/10 paw-inspiring af \n",
      "(IG: puffie_the_chow) https://t.co/ghXBIIeQZF\n",
      "649 : Here is a perfect example of someone who has their priorities in order. 13/10 for both owner and Forrest https://t.co/LRyMrU7Wfq\n",
      "759 : RT @dog_rates: This is an East African Chalupa Seal. We only rate dogs. Please only send in dogs. Thank you... 10/10 https://t.co/iHe6liLwWR\n",
      "801 : Guys this is getting so out of hand. We only rate dogs. This is a Galapagos Speed Panda. Pls only send dogs... 10/10 https://t.co/8lpAGaZRFn\n",
      "1002 : This is a mighty rare blue-tailed hammer sherk. Human almost lost a limb trying to take these. Be careful guys. 8/10 https://t.co/TGenMeXreW\n",
      "1004 : Viewer discretion is advised. This is a terrible attack in progress. Not even in water (tragic af). 4/10 bad sherk https://t.co/L3U0j14N5R\n",
      "1017 : This is a carrot. We only rate dogs. Please only send in dogs. You all really should know this by now ...11/10 https://t.co/9e48aPrBm2\n",
      "1025 : This is an Iraqi Speed Kangaroo. It is not a dog. Please only send in dogs. I'm very angry with all of you ...9/10 https://t.co/5qpBTTpgUt\n",
      "1049 : This is a very rare Great Alaskan Bush Pupper. Hard to stumble upon without spooking. 12/10 would pet passionately https://t.co/xOBKCdpzaa\n",
      "1193 : People please. This is a Deadly Mediterranean Plop T-Rex. We only rate dogs. Only send in dogs. Thanks you... 11/10 https://t.co/2ATDsgHD4n\n",
      "1207 : This is a taco. We only rate dogs. Please only send in dogs. Dogs are what we rate. Not tacos. Thank you... 10/10 https://t.co/cxl6xGY8B9\n",
      "1340 : Here is a heartbreaking scene of an incredible pupper being laid to rest. 10/10 RIP pupper https://t.co/81mvJ0rGRu\n",
      "1351 : Here is a whole flock of puppers.  60/50 I'll take the lot https://t.co/9dpcw6MdWa\n",
      "1361 : This is a Butternut Cumberfloof. It's not windy they just look like that. 11/10 back at it again with the red socks https://t.co/hMjzhdUHaW\n",
      "1362 : This is an East African Chalupa Seal. We only rate dogs. Please only send in dogs. Thank you... 10/10 https://t.co/iHe6liLwWR\n",
      "1368 : This is a Wild Tuscan Poofwiggle. Careful not to startle. Rare tongue slip. One eye magical. 12/10 would def pet https://t.co/4EnShAQjv6\n",
      "1382 : \"Pupper is a present to world. Here is a bow for pupper.\" 12/10 precious as hell https://t.co/ItSsE92gCW\n",
      "1499 : This is a rare Arctic Wubberfloof. Unamused by the happenings. No longer has the appetites. 12/10 would totally hug https://t.co/krvbacIX0N\n",
      "1527 : Stop sending in lobsters. This is the final warning. We only rate dogs. Thank you... 9/10 https://t.co/B9ZXXKJYNx\n",
      "1603 : This is the newly formed pupper a capella group. They're just starting out but I see tons of potential. 8/10 for all https://t.co/wbAcvFoNtn\n",
      "1737 : Guys this really needs to stop. We've been over this way too many times. This is a giraffe. We only rate dogs.. 7/10 https://t.co/yavgkHYPOC\n",
      "1785 : This is a dog swinging. I really enjoyed it so I hope you all do as well. 11/10 https://t.co/Ozo9KHTRND\n",
      "1797 : This is the happiest pupper I've ever seen. 10/10 would trade lives with https://t.co/ep8ATEJwRb\n",
      "1815 : This is the saddest/sweetest/best picture I've been sent. 12/10 😢🐶 https://t.co/vQ2Lw1BLBF\n",
      "1853 : This is a Sizzlin Menorah spaniel from Brooklyn named Wylie. Lovable eyes. Chiller as hell. 10/10 and I'm out.. poof https://t.co/7E0AiJXPmI\n",
      "1854 : Seriously guys?! Only send in dogs. I only rate dogs. This is a baby black bear... 11/10 https://t.co/H7kpabTfLj\n",
      "1877 : C'mon guys. We've been over this. We only rate dogs. This is a cow. Please only submit dogs. Thank you...... 9/10 https://t.co/WjcELNEqN2\n",
      "1878 : This is a fluffy albino Bacardi Columbia mix. Excellent at the tweets. 11/10 would hug gently https://t.co/diboDRUuEI\n",
      "1923 : This is a Sagitariot Baklava mix. Loves her new hat. 11/10 radiant pup https://t.co/Bko5kFJYUU\n",
      "1941 : This is a heavily opinionated dog. Loves walls. Nobody knows how the hair works. Always ready for a kiss. 4/10 https://t.co/dFiaKZ9cDl\n",
      "1955 : This is a Lofted Aphrodisiac Terrier named Kip. Big fan of bed n breakfasts. Fits perfectly. 10/10 would pet firmly https://t.co/gKlLpNzIl3\n",
      "1994 : This is a baby Rand Paul. Curls for days. 11/10 would cuddle the hell out of https://t.co/xHXNaPAYRe\n",
      "2034 : This is a Tuscaloosa Alcatraz named Jacob (Yacōb). Loves to sit in swing. Stellar tongue. 11/10 look at his feet https://t.co/2IslQ8ZSc7\n",
      "2037 : This is the best thing I've ever seen so spread it like wildfire &amp; maybe we'll find the genius who created it. 13/10 https://t.co/q6RsuOVYwU\n",
      "2066 : This is a Helvetica Listerine named Rufus. This time Rufus will be ready for the UPS guy. He'll never expect it 9/10 https://t.co/34OhVhMkVr\n",
      "2116 : This is a Deciduous Trimester mix named Spork. Only 1 ear works. No seat belt. Incredibly reckless. 9/10 still cute https://t.co/CtuJoLHiDo\n",
      "2125 : This is a Rich Mahogany Seltzer named Cherokee. Just got destroyed by a snowball. Isn't very happy about it. 9/10 https://t.co/98ZBi6o4dj\n",
      "2128 : This is a Speckled Cauliflower Yosemite named Hemry. He's terrified of intruder dog. Not one bit comfortable. 9/10 https://t.co/yV3Qgjh8iN\n",
      "2146 : This is a spotted Lipitor Rumpelstiltskin named Alphred. He can't wait for the Turkey. 10/10 would pet really well https://t.co/6GUGO7azNX\n",
      "2153 : This is a brave dog. Excellent free climber. Trying to get closer to God. Not very loyal though. Doesn't bark. 5/10 https://t.co/ODnILTr4QM\n",
      "2161 : This is a Coriander Baton Rouge named Alfredo. Loves to cuddle with smaller well-dressed dog. 10/10 would hug lots https://t.co/eCRdwouKCl\n",
      "2191 : This is a Slovakian Helter Skelter Feta named Leroi. Likes to skip on roofs. Good traction. Much balance. 10/10 wow! https://t.co/Dmy2mY2Qj5\n",
      "2198 : This is a wild Toblerone from Papua New Guinea. Mouth always open. Addicted to hay. Acts blind. 7/10 handsome dog https://t.co/IGmVbz07tZ\n",
      "2204 : This is an Irish Rigatoni terrier named Berta. Completely made of rope. No eyes. Quite large. Loves to dance. 10/10 https://t.co/EM5fDykrJg\n",
      "2211 : Here is a horned dog. Much grace. Can jump over moons (dam!). Paws not soft. Bad at barking. 7/10 can still pet tho https://t.co/2Su7gmsnZm\n",
      "2212 : Never forget this vine. You will not stop watching for at least 15 minutes. This is the second coveted.. 13/10 https://t.co/roqIxCvEB3\n",
      "2218 : This is a Birmingham Quagmire named Chuk. Loves to relax and watch the game while sippin on that iced mocha. 10/10 https://t.co/HvNg9JWxFt\n",
      "2222 : Here is a mother dog caring for her pups. Snazzy red mohawk. Doesn't wag tail. Pups look confused. Overall 4/10 https://t.co/YOHe6lf09m\n",
      "2235 : This is a Trans Siberian Kellogg named Alfonso. Huge ass eyeballs. Actually Dobby from Harry Potter. 7/10 https://t.co/XpseHBlAAb\n",
      "2249 : This is a Shotokon Macadamia mix named Cheryl. Sophisticated af. Looks like a disappointed librarian. Shh (lol) 9/10 https://t.co/J4GnJ5Swba\n",
      "2255 : This is a rare Hungarian Pinot named Jessiga. She is either mid-stroke or got stuck in the washing machine. 8/10 https://t.co/ZU0i0KJyqD\n",
      "2264 : This is a southwest Coriander named Klint. Hat looks expensive. Still on house arrest :(\n",
      "9/10 https://t.co/IQTOMqDUIe\n",
      "2273 : This is a northern Wahoo named Kohl. He runs this town. Chases tumbleweeds. Draws gun wicked fast. 11/10 legendary https://t.co/J4vn2rOYFk\n",
      "2287 : This is a Dasani Kingfisher from Maine. His name is Daryl. Daryl doesn't like being swallowed by a panda. 8/10 https://t.co/jpaeu6LNmW\n",
      "2304 : This is a curly Ticonderoga named Pepe. No feet. Loves to jet ski. 11/10 would hug until forever https://t.co/cyDfaK8NBc\n",
      "2311 : This is a purebred Bacardi named Octaviath. Can shoot spaghetti out of mouth. 10/10 https://t.co/uEvsGLOFHa\n",
      "2314 : This is a golden Buckminsterfullerene named Johm. Drives trucks. Lumberjack (?). Enjoys wall. 8/10 would hug softly https://t.co/uQbZJM2DQB\n",
      "2327 : This is a southern Vesuvius bumblegruff. Can drive a truck (wow). Made friends with 5 other nifty dogs (neat). 7/10 https://t.co/LopTBkKa8h\n",
      "2333 : This is an extremely rare horned Parthenon. Not amused. Wears shoes. Overall very nice. 9/10 would pet aggressively https://t.co/QpRjllzWAL\n",
      "2334 : This is a funny dog. Weird toes. Won't come down. Loves branch. Refuses to eat his food. Hard to cuddle with. 3/10 https://t.co/IIXis0zta0\n",
      "2335 : This is an Albanian 3 1/2 legged  Episcopalian. Loves well-polished hardwood flooring. Penis on the collar. 9/10 https://t.co/d9NcXFKwLv\n",
      "2345 : This is the happiest dog you will ever see. Very committed owner. Nice couch. 10/10 https://t.co/RhUEAloehK\n",
      "2346 : Here is the Rand Paul of retrievers folks! He's probably good at poker. Can drink beer (lol rad). 8/10 good dog https://t.co/pYAJkAe76p\n",
      "2347 : My oh my. This is a rare blond Canadian terrier on wheels. Only $8.98. Rather docile. 9/10 very rare https://t.co/yWBqbrzy8O\n",
      "2348 : Here is a Siberian heavily armored polar bear mix. Strong owner. 10/10 I would do unspeakable things to pet this dog https://t.co/rdivxLiqEt\n",
      "2349 : This is an odd dog. Hard on the outside but loving on the inside. Petting still fun. Doesn't play catch well. 2/10 https://t.co/v5A4vzSDdc\n",
      "2350 : This is a truly beautiful English Wilson Staff retriever. Has a nice phone. Privileged. 10/10 would trade lives with https://t.co/fvIbQfHjIe\n",
      "2352 : This is a purebred Piers Morgan. Loves to Netflix and chill. Always looks like he forgot to unplug the iron. 6/10 https://t.co/DWnyCjf2mx\n",
      "2353 : Here is a very happy pup. Big fan of well-maintained decks. Just look at that tongue. 9/10 would cuddle af https://t.co/y671yMhoiR\n",
      "2354 : This is a western brown Mitsubishi terrier. Upset about leaf. Actually 2 dogs here. 7/10 would walk the shit out of https://t.co/r7mOb2m0UI\n"
     ]
    }
   ],
   "source": [
    "for index, row in wrong_names.iterrows():\n",
    "    print(str(index) + \" : \" + row.text )"
   ]
  },
  {
   "cell_type": "markdown",
   "metadata": {},
   "source": [
    "It seems the name of the dog has been obtained extracting the word after \"This is\" which for the tweets above is the article \"a\" or \"an\" or \"the\"."
   ]
  },
  {
   "cell_type": "code",
   "execution_count": 608,
   "metadata": {
    "scrolled": true
   },
   "outputs": [
    {
     "data": {
      "text/plain": [
       "10     2333\n",
       "11        3\n",
       "50        3\n",
       "80        2\n",
       "20        2\n",
       "2         1\n",
       "16        1\n",
       "40        1\n",
       "70        1\n",
       "15        1\n",
       "90        1\n",
       "110       1\n",
       "120       1\n",
       "130       1\n",
       "150       1\n",
       "170       1\n",
       "7         1\n",
       "0         1\n",
       "Name: rating_denominator, dtype: int64"
      ]
     },
     "execution_count": 608,
     "metadata": {},
     "output_type": "execute_result"
    }
   ],
   "source": [
    "### rating denominator should be 10\n",
    "twitter_archive.rating_denominator.value_counts()"
   ]
  },
  {
   "cell_type": "markdown",
   "metadata": {},
   "source": [
    "Some of the denominators are different from 10, they may be errors or simply unconventional scores,  let's look at those"
   ]
  },
  {
   "cell_type": "code",
   "execution_count": 609,
   "metadata": {},
   "outputs": [],
   "source": [
    "df_den_not_10= twitter_archive[twitter_archive.rating_denominator != 10]"
   ]
  },
  {
   "cell_type": "code",
   "execution_count": 610,
   "metadata": {},
   "outputs": [
    {
     "data": {
      "text/plain": [
       "(23, 17)"
      ]
     },
     "execution_count": 610,
     "metadata": {},
     "output_type": "execute_result"
    }
   ],
   "source": [
    "df_den_not_10.shape"
   ]
  },
  {
   "cell_type": "code",
   "execution_count": 611,
   "metadata": {},
   "outputs": [
    {
     "name": "stdout",
     "output_type": "stream",
     "text": [
      "313 @jonnysun @Lin_Manuel ok jomny I know you're excited but 960/00 isn't a valid rating, 13/10 is tho\n",
      "342 @docmisterio account started on 11/15/15\n",
      "433 The floofs have been released I repeat the floofs have been released. 84/70 https://t.co/NIYC820tmd\n",
      "516 Meet Sam. She smiles 24/7 &amp; secretly aspires to be a reindeer. \n",
      "Keep Sam smiling by clicking and sharing this link:\n",
      "https://t.co/98tB8y7y7t https://t.co/LouL5vdvxx\n",
      "784 RT @dog_rates: After so many requests, this is Bretagne. She was the last surviving 9/11 search dog, and our second ever 14/10. RIP https:/…\n",
      "902 Why does this never happen at my front door... 165/150 https://t.co/HmwrdfEfUE\n",
      "1068 After so many requests, this is Bretagne. She was the last surviving 9/11 search dog, and our second ever 14/10. RIP https://t.co/XAVDNDaVgQ\n",
      "1120 Say hello to this unbelievably well behaved squad of doggos. 204/170 would try to pet all at once https://t.co/yGQI3He3xv\n",
      "1165 Happy 4/20 from the squad! 13/10 for all https://t.co/eV1diwds8a\n",
      "1202 This is Bluebert. He just saw that both #FinalFur match ups are split 50/50. Amazed af. 11/10 https://t.co/Kky1DPG4iq\n",
      "1228 Happy Saturday here's 9 puppers on a bench. 99/90 good work everybody https://t.co/mpvaVxKmc1\n",
      "1254 Here's a brigade of puppers. All look very prepared for whatever happens next. 80/80 https://t.co/0eb7R1Om12\n",
      "1274 From left to right:\n",
      "Cletus, Jerome, Alejandro, Burp, &amp; Titson\n",
      "None know where camera is. 45/50 would hug all at once https://t.co/sedre1ivTK\n",
      "1351 Here is a whole flock of puppers.  60/50 I'll take the lot https://t.co/9dpcw6MdWa\n",
      "1433 Happy Wednesday here's a bucket of pups. 44/40 would pet all at once https://t.co/HppvrYuamZ\n",
      "1598 Yes I do realize a rating of 4/20 would've been fitting. However, it would be unjust to give these cooperative pups that low of a rating\n",
      "1634 Two sneaky puppers were not initially seen, moving the rating to 143/130. Please forgive us. Thank you https://t.co/kRK51Y5ac3\n",
      "1635 Someone help the girl is being mugged. Several are distracting her while two steal her shoes. Clever puppers 121/110 https://t.co/1zfnTJLt55\n",
      "1662 This is Darrel. He just robbed a 7/11 and is in a high speed police chase. Was just spotted by the helicopter 10/10 https://t.co/7EsP8LmSp5\n",
      "1663 I'm aware that I could've said 20/16, but here at WeRateDogs we are very professional. An inconsistent rating scale is simply irresponsible\n",
      "1779 IT'S PUPPERGEDDON. Total of 144/120 ...I think https://t.co/ZanVtAtvIq\n",
      "1843 Here we have an entire platoon of puppers. Total score: 88/80 would pet all at once https://t.co/y93p6FLvVw\n",
      "2335 This is an Albanian 3 1/2 legged  Episcopalian. Loves well-polished hardwood flooring. Penis on the collar. 9/10 https://t.co/d9NcXFKwLv\n"
     ]
    }
   ],
   "source": [
    "for index,  row in df_den_not_10.iterrows():\n",
    "    print(str(index) + \" \" + row.text)"
   ]
  },
  {
   "cell_type": "markdown",
   "metadata": {},
   "source": [
    "As expected some of the scores aren't real scores and some of them are scores, but inconsistent with a format in tenths."
   ]
  },
  {
   "cell_type": "markdown",
   "metadata": {},
   "source": [
    "Let's now look at the numerator"
   ]
  },
  {
   "cell_type": "code",
   "execution_count": 612,
   "metadata": {},
   "outputs": [
    {
     "data": {
      "text/plain": [
       "12      558\n",
       "11      464\n",
       "10      461\n",
       "13      351\n",
       "9       158\n",
       "8       102\n",
       "7        55\n",
       "14       54\n",
       "5        37\n",
       "6        32\n",
       "3        19\n",
       "4        17\n",
       "1         9\n",
       "2         9\n",
       "420       2\n",
       "0         2\n",
       "15        2\n",
       "75        2\n",
       "80        1\n",
       "20        1\n",
       "24        1\n",
       "26        1\n",
       "44        1\n",
       "50        1\n",
       "60        1\n",
       "165       1\n",
       "84        1\n",
       "88        1\n",
       "144       1\n",
       "182       1\n",
       "143       1\n",
       "666       1\n",
       "960       1\n",
       "1776      1\n",
       "17        1\n",
       "27        1\n",
       "45        1\n",
       "99        1\n",
       "121       1\n",
       "204       1\n",
       "Name: rating_numerator, dtype: int64"
      ]
     },
     "execution_count": 612,
     "metadata": {},
     "output_type": "execute_result"
    }
   ],
   "source": [
    "twitter_archive.rating_numerator.value_counts()"
   ]
  },
  {
   "cell_type": "markdown",
   "metadata": {},
   "source": [
    "There are some strange values here as well, let's look at votes greater than 20, a value that seem a bit off (even for a loyal dog)."
   ]
  },
  {
   "cell_type": "code",
   "execution_count": 613,
   "metadata": {},
   "outputs": [],
   "source": [
    "df_over_20 = twitter_archive[twitter_archive.rating_numerator >20]"
   ]
  },
  {
   "cell_type": "code",
   "execution_count": 614,
   "metadata": {
    "scrolled": true
   },
   "outputs": [
    {
     "name": "stdout",
     "output_type": "stream",
     "text": [
      "188 : @dhmontgomery We also gave snoop dogg a 420/10 but I think that predated your research\n",
      "189 : @s8n You tried very hard to portray this good boy as not so good, but you have ultimately failed. His goodness shines through. 666/10\n",
      "290 : @markhoppus 182/10\n",
      "313 : @jonnysun @Lin_Manuel ok jomny I know you're excited but 960/00 isn't a valid rating, 13/10 is tho\n",
      "340 : RT @dog_rates: This is Logan, the Chow who lived. He solemnly swears he's up to lots of good. H*ckin magical af 9.75/10 https://t.co/yBO5wu…\n",
      "433 : The floofs have been released I repeat the floofs have been released. 84/70 https://t.co/NIYC820tmd\n",
      "516 : Meet Sam. She smiles 24/7 &amp; secretly aspires to be a reindeer. \n",
      "Keep Sam smiling by clicking and sharing this link:\n",
      "https://t.co/98tB8y7y7t https://t.co/LouL5vdvxx\n",
      "695 : This is Logan, the Chow who lived. He solemnly swears he's up to lots of good. H*ckin magical af 9.75/10 https://t.co/yBO5wuqaPS\n",
      "763 : This is Sophie. She's a Jubilant Bush Pupper. Super h*ckin rare. Appears at random just to smile at the locals. 11.27/10 would smile back https://t.co/QFaUiIHxHq\n",
      "902 : Why does this never happen at my front door... 165/150 https://t.co/HmwrdfEfUE\n",
      "979 : This is Atticus. He's quite simply America af. 1776/10 https://t.co/GRXwMxLBkh\n",
      "1120 : Say hello to this unbelievably well behaved squad of doggos. 204/170 would try to pet all at once https://t.co/yGQI3He3xv\n",
      "1202 : This is Bluebert. He just saw that both #FinalFur match ups are split 50/50. Amazed af. 11/10 https://t.co/Kky1DPG4iq\n",
      "1228 : Happy Saturday here's 9 puppers on a bench. 99/90 good work everybody https://t.co/mpvaVxKmc1\n",
      "1254 : Here's a brigade of puppers. All look very prepared for whatever happens next. 80/80 https://t.co/0eb7R1Om12\n",
      "1274 : From left to right:\n",
      "Cletus, Jerome, Alejandro, Burp, &amp; Titson\n",
      "None know where camera is. 45/50 would hug all at once https://t.co/sedre1ivTK\n",
      "1351 : Here is a whole flock of puppers.  60/50 I'll take the lot https://t.co/9dpcw6MdWa\n",
      "1433 : Happy Wednesday here's a bucket of pups. 44/40 would pet all at once https://t.co/HppvrYuamZ\n",
      "1634 : Two sneaky puppers were not initially seen, moving the rating to 143/130. Please forgive us. Thank you https://t.co/kRK51Y5ac3\n",
      "1635 : Someone help the girl is being mugged. Several are distracting her while two steal her shoes. Clever puppers 121/110 https://t.co/1zfnTJLt55\n",
      "1712 : Here we have uncovered an entire battalion of holiday puppers. Average of 11.26/10 https://t.co/eNm2S6p9BD\n",
      "1779 : IT'S PUPPERGEDDON. Total of 144/120 ...I think https://t.co/ZanVtAtvIq\n",
      "1843 : Here we have an entire platoon of puppers. Total score: 88/80 would pet all at once https://t.co/y93p6FLvVw\n",
      "2074 : After so many requests... here you go.\n",
      "\n",
      "Good dogg. 420/10 https://t.co/yfAAo1gdeY\n"
     ]
    }
   ],
   "source": [
    "for index, row in df_over_20.iterrows():\n",
    "    print(str(index) + \" : \" + row.text)"
   ]
  },
  {
   "cell_type": "markdown",
   "metadata": {},
   "source": [
    "Some of the scores are really super high, some aren't scores at all and some aren't  about dogs (like the one at index 2074 which is about a singer with the word \"dog\" in his name, Snoop Dogg)."
   ]
  },
  {
   "cell_type": "code",
   "execution_count": 615,
   "metadata": {},
   "outputs": [
    {
     "data": {
      "text/html": [
       "<div>\n",
       "<style scoped>\n",
       "    .dataframe tbody tr th:only-of-type {\n",
       "        vertical-align: middle;\n",
       "    }\n",
       "\n",
       "    .dataframe tbody tr th {\n",
       "        vertical-align: top;\n",
       "    }\n",
       "\n",
       "    .dataframe thead th {\n",
       "        text-align: right;\n",
       "    }\n",
       "</style>\n",
       "<table border=\"1\" class=\"dataframe\">\n",
       "  <thead>\n",
       "    <tr style=\"text-align: right;\">\n",
       "      <th></th>\n",
       "      <th>tweet_id</th>\n",
       "      <th>in_reply_to_status_id</th>\n",
       "      <th>in_reply_to_user_id</th>\n",
       "      <th>timestamp</th>\n",
       "      <th>source</th>\n",
       "      <th>text</th>\n",
       "      <th>retweeted_status_id</th>\n",
       "      <th>retweeted_status_user_id</th>\n",
       "      <th>retweeted_status_timestamp</th>\n",
       "      <th>expanded_urls</th>\n",
       "      <th>rating_numerator</th>\n",
       "      <th>rating_denominator</th>\n",
       "      <th>name</th>\n",
       "      <th>doggo</th>\n",
       "      <th>floofer</th>\n",
       "      <th>pupper</th>\n",
       "      <th>puppo</th>\n",
       "    </tr>\n",
       "  </thead>\n",
       "  <tbody>\n",
       "    <tr>\n",
       "      <th>0</th>\n",
       "      <td>892420643555336193</td>\n",
       "      <td>NaN</td>\n",
       "      <td>NaN</td>\n",
       "      <td>2017-08-01 16:23:56 +0000</td>\n",
       "      <td>&lt;a href=\"http://twitter.com/download/iphone\" r...</td>\n",
       "      <td>This is Phineas. He's a mystical boy. Only eve...</td>\n",
       "      <td>NaN</td>\n",
       "      <td>NaN</td>\n",
       "      <td>NaN</td>\n",
       "      <td>https://twitter.com/dog_rates/status/892420643...</td>\n",
       "      <td>13</td>\n",
       "      <td>10</td>\n",
       "      <td>Phineas</td>\n",
       "      <td>None</td>\n",
       "      <td>None</td>\n",
       "      <td>None</td>\n",
       "      <td>None</td>\n",
       "    </tr>\n",
       "  </tbody>\n",
       "</table>\n",
       "</div>"
      ],
      "text/plain": [
       "             tweet_id  in_reply_to_status_id  in_reply_to_user_id  \\\n",
       "0  892420643555336193                    NaN                  NaN   \n",
       "\n",
       "                   timestamp  \\\n",
       "0  2017-08-01 16:23:56 +0000   \n",
       "\n",
       "                                              source  \\\n",
       "0  <a href=\"http://twitter.com/download/iphone\" r...   \n",
       "\n",
       "                                                text  retweeted_status_id  \\\n",
       "0  This is Phineas. He's a mystical boy. Only eve...                  NaN   \n",
       "\n",
       "   retweeted_status_user_id retweeted_status_timestamp  \\\n",
       "0                       NaN                        NaN   \n",
       "\n",
       "                                       expanded_urls  rating_numerator  \\\n",
       "0  https://twitter.com/dog_rates/status/892420643...                13   \n",
       "\n",
       "   rating_denominator     name doggo floofer pupper puppo  \n",
       "0                  10  Phineas  None    None   None  None  "
      ]
     },
     "execution_count": 615,
     "metadata": {},
     "output_type": "execute_result"
    }
   ],
   "source": [
    "twitter_archive.head(1)"
   ]
  },
  {
   "cell_type": "markdown",
   "metadata": {},
   "source": [
    "There are four columns for indicating the stage of the dog: doggo, floofer, pupper, puppo. Let's give a look at their content."
   ]
  },
  {
   "cell_type": "code",
   "execution_count": 616,
   "metadata": {},
   "outputs": [
    {
     "data": {
      "text/plain": [
       "None     2259\n",
       "doggo      97\n",
       "Name: doggo, dtype: int64"
      ]
     },
     "execution_count": 616,
     "metadata": {},
     "output_type": "execute_result"
    }
   ],
   "source": [
    "twitter_archive.doggo.value_counts()"
   ]
  },
  {
   "cell_type": "code",
   "execution_count": 617,
   "metadata": {},
   "outputs": [
    {
     "data": {
      "text/plain": [
       "None       2346\n",
       "floofer      10\n",
       "Name: floofer, dtype: int64"
      ]
     },
     "execution_count": 617,
     "metadata": {},
     "output_type": "execute_result"
    }
   ],
   "source": [
    "twitter_archive.floofer.value_counts()"
   ]
  },
  {
   "cell_type": "code",
   "execution_count": 618,
   "metadata": {},
   "outputs": [
    {
     "data": {
      "text/plain": [
       "None      2099\n",
       "pupper     257\n",
       "Name: pupper, dtype: int64"
      ]
     },
     "execution_count": 618,
     "metadata": {},
     "output_type": "execute_result"
    }
   ],
   "source": [
    "twitter_archive.pupper.value_counts()"
   ]
  },
  {
   "cell_type": "code",
   "execution_count": 619,
   "metadata": {},
   "outputs": [
    {
     "data": {
      "text/plain": [
       "None     2326\n",
       "puppo      30\n",
       "Name: puppo, dtype: int64"
      ]
     },
     "execution_count": 619,
     "metadata": {},
     "output_type": "execute_result"
    }
   ],
   "source": [
    "twitter_archive.puppo.value_counts()"
   ]
  },
  {
   "cell_type": "code",
   "execution_count": 620,
   "metadata": {},
   "outputs": [
    {
     "name": "stdout",
     "output_type": "stream",
     "text": [
      "None\n",
      "<class 'str'>\n"
     ]
    }
   ],
   "source": [
    "print(twitter_archive.doggo[0])\n",
    "print(type(twitter_archive.doggo[0]))"
   ]
  },
  {
   "cell_type": "markdown",
   "metadata": {},
   "source": [
    "It seems most of the dog aren't classified in one of the four categories, in any case these four columns should be just one, because they represent one variable, the stage of the dog.<br>\n",
    "There is also a quality problem reguarding these 4 columns: the value None is represented as string and this can cause problems, as showed in the following cell:"
   ]
  },
  {
   "cell_type": "code",
   "execution_count": 621,
   "metadata": {},
   "outputs": [
    {
     "name": "stdout",
     "output_type": "stream",
     "text": [
      "False\n"
     ]
    }
   ],
   "source": [
    "#showing that despite the presence of many None as values, they don't show up as null\n",
    "print(twitter_archive.doggo.isnull().any())"
   ]
  },
  {
   "cell_type": "markdown",
   "metadata": {},
   "source": [
    "Let's now check if there are tweets with dogs labeled for more than one stage (a doggo who is also a puppo etc)."
   ]
  },
  {
   "cell_type": "code",
   "execution_count": 622,
   "metadata": {},
   "outputs": [],
   "source": [
    "#transforms boolean in int i\n",
    "doggos = np.array(twitter_archive.doggo != 'None', dtype = int)\n",
    "floofer = np.array(twitter_archive.floofer != 'None', dtype = int)\n",
    "puppo = np.array(twitter_archive.puppo != 'None', dtype = int)\n",
    "pupper = np.array(twitter_archive.pupper != 'None', dtype = int)\n"
   ]
  },
  {
   "cell_type": "code",
   "execution_count": 623,
   "metadata": {},
   "outputs": [],
   "source": [
    "dog_sum = doggos + floofer + puppo + pupper"
   ]
  },
  {
   "cell_type": "code",
   "execution_count": 624,
   "metadata": {},
   "outputs": [],
   "source": [
    "# summing the dog stage categories\n",
    "dog_sum = doggos + floofer + puppo + pupper"
   ]
  },
  {
   "cell_type": "code",
   "execution_count": 625,
   "metadata": {},
   "outputs": [],
   "source": [
    "dog_sum = pd.Series(dog_sum)"
   ]
  },
  {
   "cell_type": "code",
   "execution_count": 626,
   "metadata": {},
   "outputs": [
    {
     "data": {
      "text/plain": [
       "0    1976\n",
       "1     366\n",
       "2      14\n",
       "dtype: int64"
      ]
     },
     "execution_count": 626,
     "metadata": {},
     "output_type": "execute_result"
    }
   ],
   "source": [
    "dog_sum.value_counts()"
   ]
  },
  {
   "cell_type": "markdown",
   "metadata": {},
   "source": [
    "There are 14 values with 2 indications for the dog stage, as can be seen in the following cells:"
   ]
  },
  {
   "cell_type": "code",
   "execution_count": 627,
   "metadata": {},
   "outputs": [
    {
     "data": {
      "text/html": [
       "<div>\n",
       "<style scoped>\n",
       "    .dataframe tbody tr th:only-of-type {\n",
       "        vertical-align: middle;\n",
       "    }\n",
       "\n",
       "    .dataframe tbody tr th {\n",
       "        vertical-align: top;\n",
       "    }\n",
       "\n",
       "    .dataframe thead th {\n",
       "        text-align: right;\n",
       "    }\n",
       "</style>\n",
       "<table border=\"1\" class=\"dataframe\">\n",
       "  <thead>\n",
       "    <tr style=\"text-align: right;\">\n",
       "      <th></th>\n",
       "      <th>doggo</th>\n",
       "      <th>floofer</th>\n",
       "      <th>pupper</th>\n",
       "      <th>puppo</th>\n",
       "      <th>tweet_id</th>\n",
       "    </tr>\n",
       "  </thead>\n",
       "  <tbody>\n",
       "    <tr>\n",
       "      <th>191</th>\n",
       "      <td>doggo</td>\n",
       "      <td>None</td>\n",
       "      <td>None</td>\n",
       "      <td>puppo</td>\n",
       "      <td>855851453814013952</td>\n",
       "    </tr>\n",
       "    <tr>\n",
       "      <th>200</th>\n",
       "      <td>doggo</td>\n",
       "      <td>floofer</td>\n",
       "      <td>None</td>\n",
       "      <td>None</td>\n",
       "      <td>854010172552949760</td>\n",
       "    </tr>\n",
       "    <tr>\n",
       "      <th>460</th>\n",
       "      <td>doggo</td>\n",
       "      <td>None</td>\n",
       "      <td>pupper</td>\n",
       "      <td>None</td>\n",
       "      <td>817777686764523521</td>\n",
       "    </tr>\n",
       "    <tr>\n",
       "      <th>531</th>\n",
       "      <td>doggo</td>\n",
       "      <td>None</td>\n",
       "      <td>pupper</td>\n",
       "      <td>None</td>\n",
       "      <td>808106460588765185</td>\n",
       "    </tr>\n",
       "    <tr>\n",
       "      <th>565</th>\n",
       "      <td>doggo</td>\n",
       "      <td>None</td>\n",
       "      <td>pupper</td>\n",
       "      <td>None</td>\n",
       "      <td>802265048156610565</td>\n",
       "    </tr>\n",
       "    <tr>\n",
       "      <th>575</th>\n",
       "      <td>doggo</td>\n",
       "      <td>None</td>\n",
       "      <td>pupper</td>\n",
       "      <td>None</td>\n",
       "      <td>801115127852503040</td>\n",
       "    </tr>\n",
       "    <tr>\n",
       "      <th>705</th>\n",
       "      <td>doggo</td>\n",
       "      <td>None</td>\n",
       "      <td>pupper</td>\n",
       "      <td>None</td>\n",
       "      <td>785639753186217984</td>\n",
       "    </tr>\n",
       "    <tr>\n",
       "      <th>733</th>\n",
       "      <td>doggo</td>\n",
       "      <td>None</td>\n",
       "      <td>pupper</td>\n",
       "      <td>None</td>\n",
       "      <td>781308096455073793</td>\n",
       "    </tr>\n",
       "    <tr>\n",
       "      <th>778</th>\n",
       "      <td>doggo</td>\n",
       "      <td>None</td>\n",
       "      <td>pupper</td>\n",
       "      <td>None</td>\n",
       "      <td>775898661951791106</td>\n",
       "    </tr>\n",
       "    <tr>\n",
       "      <th>822</th>\n",
       "      <td>doggo</td>\n",
       "      <td>None</td>\n",
       "      <td>pupper</td>\n",
       "      <td>None</td>\n",
       "      <td>770093767776997377</td>\n",
       "    </tr>\n",
       "    <tr>\n",
       "      <th>889</th>\n",
       "      <td>doggo</td>\n",
       "      <td>None</td>\n",
       "      <td>pupper</td>\n",
       "      <td>None</td>\n",
       "      <td>759793422261743616</td>\n",
       "    </tr>\n",
       "    <tr>\n",
       "      <th>956</th>\n",
       "      <td>doggo</td>\n",
       "      <td>None</td>\n",
       "      <td>pupper</td>\n",
       "      <td>None</td>\n",
       "      <td>751583847268179968</td>\n",
       "    </tr>\n",
       "    <tr>\n",
       "      <th>1063</th>\n",
       "      <td>doggo</td>\n",
       "      <td>None</td>\n",
       "      <td>pupper</td>\n",
       "      <td>None</td>\n",
       "      <td>741067306818797568</td>\n",
       "    </tr>\n",
       "    <tr>\n",
       "      <th>1113</th>\n",
       "      <td>doggo</td>\n",
       "      <td>None</td>\n",
       "      <td>pupper</td>\n",
       "      <td>None</td>\n",
       "      <td>733109485275860992</td>\n",
       "    </tr>\n",
       "  </tbody>\n",
       "</table>\n",
       "</div>"
      ],
      "text/plain": [
       "      doggo  floofer  pupper  puppo            tweet_id\n",
       "191   doggo     None    None  puppo  855851453814013952\n",
       "200   doggo  floofer    None   None  854010172552949760\n",
       "460   doggo     None  pupper   None  817777686764523521\n",
       "531   doggo     None  pupper   None  808106460588765185\n",
       "565   doggo     None  pupper   None  802265048156610565\n",
       "575   doggo     None  pupper   None  801115127852503040\n",
       "705   doggo     None  pupper   None  785639753186217984\n",
       "733   doggo     None  pupper   None  781308096455073793\n",
       "778   doggo     None  pupper   None  775898661951791106\n",
       "822   doggo     None  pupper   None  770093767776997377\n",
       "889   doggo     None  pupper   None  759793422261743616\n",
       "956   doggo     None  pupper   None  751583847268179968\n",
       "1063  doggo     None  pupper   None  741067306818797568\n",
       "1113  doggo     None  pupper   None  733109485275860992"
      ]
     },
     "execution_count": 627,
     "metadata": {},
     "output_type": "execute_result"
    }
   ],
   "source": [
    "multi_stage_clean = twitter_archive[dog_sum > 1][['doggo', 'floofer', 'pupper', 'puppo', 'tweet_id']]\n",
    "multi_stage_clean"
   ]
  },
  {
   "cell_type": "markdown",
   "metadata": {},
   "source": [
    "Some of these tweets may contain really more than one dogs, while for other tweets maybe there is some sort of word pun, word jokes are very common on WeRateDogs, so these tweets need to be assessed visually (both reading the text and looking at the pictures)."
   ]
  },
  {
   "cell_type": "markdown",
   "metadata": {},
   "source": [
    "Results of the visual assessment, on the left the row index: <br>\n",
    "191--> puppo <br>\n",
    "200 --> doggo <br>\n",
    "460 --> pupper <br>\n",
    "531 --> doggo + pupper <br>\n",
    "565 --> doggo + pupper <br>\n",
    "575 --> pupper <br>\n",
    "705 --> it isn't a dog, it is a hedgehog , I'll remove this tweet <br>\n",
    "733 --> doggo + pupper <br>\n",
    "778 --> doggo + pupper <br>\n",
    "822 --> doggo + pupper <br>\n",
    "889 --> doggo + pupper <br>\n",
    "956 --> The text of this tweet doesn't really assess the stage of the dog, it invites to stop to post pictures without dogs in it, so I'll set this to null<br>\n",
    "1063 --> doggo + pupper <br>\n",
    "1113 --> doggo + pupper"
   ]
  },
  {
   "cell_type": "markdown",
   "metadata": {},
   "source": [
    "We want only tweets with at least one image, every tweet with an image contains an url starting with  https://t.co/ , let's  now see how many tweets have an image in twitter_archive"
   ]
  },
  {
   "cell_type": "code",
   "execution_count": 628,
   "metadata": {},
   "outputs": [
    {
     "data": {
      "text/plain": [
       "2231"
      ]
     },
     "execution_count": 628,
     "metadata": {},
     "output_type": "execute_result"
    }
   ],
   "source": [
    "sum(twitter_archive.text.str.contains(\"https://t.co/\"))"
   ]
  },
  {
   "cell_type": "markdown",
   "metadata": {},
   "source": [
    "There are 2356 rows in twitter archive,but only 2231 contains an url for a photo, let's look at those tweet texts to confirm they don't contain an url to an image."
   ]
  },
  {
   "cell_type": "code",
   "execution_count": 629,
   "metadata": {},
   "outputs": [],
   "source": [
    "tweet_with_photos = twitter_archive.text.str.contains(\"https://t.co/\")"
   ]
  },
  {
   "cell_type": "code",
   "execution_count": 630,
   "metadata": {},
   "outputs": [],
   "source": [
    "tweet_no_photos = -tweet_with_photos"
   ]
  },
  {
   "cell_type": "code",
   "execution_count": 631,
   "metadata": {},
   "outputs": [],
   "source": [
    "no_photos_df = twitter_archive[tweet_no_photos]"
   ]
  },
  {
   "cell_type": "code",
   "execution_count": 632,
   "metadata": {},
   "outputs": [
    {
     "name": "stdout",
     "output_type": "stream",
     "text": [
      "30 : @NonWhiteHat @MayhewMayhem omg hello tanner you are a scary good boy 12/10 would pet with extreme caution\n",
      "55 : @roushfenway These are good dogs but 17/10 is an emotional impulse rating. More like 13/10s\n",
      "64 : @RealKentMurphy 14/10 confirmed\n",
      "68 : RT @dog_rates: This is Emmy. She was adopted today. Massive round of pupplause for Emmy and her new family. 14/10 for all involved https://…\n",
      "73 : RT @dog_rates: Meet Shadow. In an attempt to reach maximum zooming borkdrive, he tore his ACL. Still 13/10 tho. Help him out below\n",
      "\n",
      "https:/…\n",
      "91 : RT @dog_rates: This is Coco. At first I thought she was a cloud but clouds don't bork with such passion. 12/10 would hug softly https://t.c…\n",
      "97 : RT @dog_rates: This is Sierra. She's one precious pupper. Absolute 12/10. Been in and out of ICU her whole life. Help Sierra below\n",
      "\n",
      "https:/…\n",
      "101 : RT @loganamnosis: Penelope here is doing me quite a divertir. Well done, @dog_rates! Loving the pupdate. 14/10, je jouerais de nouveau. htt…\n",
      "113 : @ComplicitOwl @ShopWeRateDogs &gt;10/10 is reserved for dogs\n",
      "118 : RT @dog_rates: We only rate dogs. This is quite clearly a smol broken polar bear. We'd appreciate if you only send dogs. Thank you... 12/10…\n",
      "124 : RT @dog_rates: Say hello to Cooper. His expression is the same wet or dry. Absolute 12/10 but Coop desperately requests your help\n",
      "\n",
      "https://…\n",
      "146 : RT @dog_rates: Say hello to Quinn. She's quite the goofball. Not even a year old. Confirmed 13/10 but she really needs your help \n",
      "\n",
      "https://…\n",
      "148 : @Jack_Septic_Eye I'd need a few more pics to polish a full analysis, but based on the good boy content above I'm leaning towards 12/10\n",
      "159 : RT @dog_rates: Meet Lorenzo. He's an avid nifty hat wearer and absolute 13/10, but he needs your help to beat cancer. Link below\n",
      "\n",
      "https://t…\n",
      "165 : RT @dog_rates: Ohboyohboyohboyohboyohboyohboyohboyohboyohboyohboyohboyohboyohboyohboyohboy. 10/10 for all (by happytailsresort) https://t.c…\n",
      "171 : RT @dog_rates: Meet Winston. He knows he's a little too big for the swing, but he doesn't care. Kindly requests a push. 12/10 would happily…\n",
      "179 : @Marc_IRL pixelated af 12/10\n",
      "182 : RT @dog_rates: This is Luna. It's her first time outside and a bee stung her nose. Completely h*ckin uncalled for. 13/10 where's the bee I…\n",
      "185 : RT @Jenna_Marbles: @dog_rates Thanks for rating my cermets 14/10 wow I'm so proud I watered them so much\n",
      "186 : @xianmcguire @Jenna_Marbles Kardashians wouldn't be famous if as a society we didn't place enormous value on what they do. The dogs are very deserving of their 14/10\n",
      "188 : @dhmontgomery We also gave snoop dogg a 420/10 but I think that predated your research\n",
      "189 : @s8n You tried very hard to portray this good boy as not so good, but you have ultimately failed. His goodness shines through. 666/10\n",
      "194 : RT @dog_rates: Meet George. He looks slightly deflated but overall quite powerful. Not sure how that human restrained him. 12/10 would snug…\n",
      "195 : RT @frasercampbell_: oh my... what's that... beautiful scarf around your neck... 14/10 a h*ckin good dog in a h*ckin good game @GoodDogsGam…\n",
      "204 : RT @dog_rates: I usually only share these on Friday's, but this is Blue. He's a very smoochable pooch who needs your help. 13/10\n",
      "\n",
      "https://t…\n",
      "218 : @markhoppus MARK THAT DOG HAS SEEN AND EXPERIENCED MANY THINGS. PROBABLY LOST OTHER EAR DOING SOMETHING HEROIC. 13/10 HUG THE DOG HOPPUS\n",
      "222 : RT @dog_rates: This is Gidget. She's a spy pupper. Stealthy as h*ck. Must've slipped pup and got caught. 12/10 would forgive then pet https…\n",
      "228 : Jerry just apuppologized to me. He said there was no ill-intent to the slippage. I overreacted I admit. Pupgraded to an 11/10 would pet\n",
      "230 : RT @dog_rates: This is Charlie. He fell asleep on a heating vent. Would puppreciate your assistance. 11/10 someone help Charlie https://t.c…\n",
      "234 : .@breaannanicolee PUPDATE: Cannon has a heart on his nose. Pupgraded to a 13/10\n",
      "247 : RT @dog_rates: Here's a heartwarming scene of a single father raising his two pups. Downright awe-inspiring af. 12/10 for everyone https://…\n",
      "250 : RT @dog_rates: This is Bungalo. She uses that face to get what she wants. It works unbelievably well. 12/10 would never say no to https://t…\n",
      "272 : RT @dog_rates: Say hello to Maddie and Gunner. They are considerably pupset about bath time. Both 12/10 but Gunner needs your help\n",
      "\n",
      "https:/…\n",
      "273 : RT @dog_rates: This is Pipsy. He is a fluffball. Enjoys traveling the sea &amp; getting tangled in leash. 12/10 I would kill for Pipsy https://…\n",
      "274 : @0_kelvin_0 &gt;10/10 is reserved for puppos sorry Kevin\n",
      "286 : RT @dog_rates: This is Riley. His owner put a donut pillow around him and he loves it so much he won't let anyone take it off. 13/10 https:…\n",
      "290 : @markhoppus 182/10\n",
      "291 : @bragg6of8 @Andy_Pace_ we are still looking for the first 15/10\n",
      "302 : RT @SchafeBacon2016: @dog_rates Slightly disturbed by the outright profanity, but confident doggos were involved. 11/10, would tailgate aga…\n",
      "303 : RT @dog_rates: This is Buddy. He ran into a glass door once. Now he's h*ckin skeptical. 13/10 empowering af (vid by Brittany Gaunt) https:/…\n",
      "309 : RT @dog_rates: Meet Lola. Her hobbies include being precious af and using her foot as a toothbrush. 12/10 Lola requests your help\n",
      "\n",
      "https://…\n",
      "313 : @jonnysun @Lin_Manuel ok jomny I know you're excited but 960/00 isn't a valid rating, 13/10 is tho\n",
      "319 : RT @dog_rates: This is Leo. He was a skater pup. She said see ya later pup. He wasn't good enough for her. 12/10 you're good enough for me…\n",
      "327 : RT @rolltidered: This is Gabby. Now requests to be referred to as a guide dog, thanks to @dog_rates and @ShopWeRateDogs. 12/10 in my book.…\n",
      "342 : @docmisterio account started on 11/15/15\n",
      "346 : @UNC can confirm 12/10\n",
      "357 : RT @dog_rates: This is Kyro. He's a Stratocumulus Flop. Tongue ejects at random. Serious h*ckin condition. Still 12/10 would pet passionate…\n",
      "366 : RT @dog_rates: This is Gus. He likes to be close to you, which is good because you want to be close to Gus. 12/10 would boop then pet https…\n",
      "375 : Beebop and Doobert should start a band 12/10 would listen\n",
      "382 : RT @dog_rates: This is Phil. He's an important dog. Can control the seasons. Magical as hell. 12/10 would let him sign my forehead https://…\n",
      "386 : RT @dog_rates: Please only send in dogs. We only rate dogs, not seemingly heartbroken ewoks. Thank you... still 10/10 would console https:/…\n",
      "387 : I was going to do 007/10, but the joke wasn't worth the &lt;10 rating\n",
      "397 : RT @dog_rates: Say hello to Pablo. He's one gorgeous puppo. A true 12/10. Click the link to see why Pablo requests your assistance\n",
      "\n",
      "https:/…\n",
      "409 : @HistoryInPics 13/10\n",
      "420 : RT @dog_rates: This is Mattie. She's extremely dangerous. Will bite your h*ckin finger right off. Still 11/10 would pet with caution https:…\n",
      "425 : RT @dog_rates: This is Sampson. He just graduated. Ready to be a doggo now. Time for the real world. 12/10 have fun with taxes https://t.co…\n",
      "427 : @imgur for a polar bear tho I'd say 13/10 is appropriate\n",
      "434 : RT @dog_rates: We are proud to support @LoveYourMelon on their mission to put a hat on every kid battling cancer. They are 14/10\n",
      "\n",
      "https://t…\n",
      "438 : RT @dog_rates: This is Oliver. He has dreams of being a service puppo so he can help his owner. 13/10 selfless af\n",
      "\n",
      "make it happen:\n",
      "https://…\n",
      "462 : RT @dog_rates: Meet Herschel. He's slightly bigger than ur average pupper. Looks lonely. Could probably ride 7/10 would totally pet https:/…\n",
      "475 : RT @dog_rates: Meet Jack. He's one of the rare doggos that doesn't mind baths. 11/10 click the link to see how you can help Jack!\n",
      "\n",
      "https://…\n",
      "479 : RT @dog_rates: Say hello to Levi. He's a Madagascan Butterbop. One of the more docile Butterbops I've seen. 12/10 would give all the pets h…\n",
      "485 : RT @dog_rates: Meet Beau &amp; Wilbur. Wilbur stole Beau's bed from him. Wilbur now has so much room for activities. 9/10 for both pups https:/…\n",
      "498 : I've been informed by multiple sources that this is actually a dog elf who's tired from helping Santa all night. Pupgraded to 12/10\n",
      "506 : RT @dog_rates: Meet Sammy. At first I was like \"that's a snowflake. we only rate dogs,\" but he would've melted by now, so 10/10 https://t.c…\n",
      "513 : PUPDATE: I've been informed that Augie was actually bringing his family these flowers when he tripped. Very good boy. Pupgraded to 11/10\n",
      "538 : RT @dog_rates: Idk why this keeps happening. We only rate dogs. Not Bangladeshi Couch Chipmunks. Please only send dogs... 12/10 https://t.c…\n",
      "568 : RT @ChinoChinako: They're good products, Brent\n",
      "\n",
      "Mug holds drinks; hoodie is comfy af. 13/10 \n",
      "\n",
      "Puppy Aika h*cking agrees. @dog_rates https:/…\n",
      "570 : .@NBCSports OMG THE TINY HAT I'M GOING TO HAVE TO SAY 11/10 NBC\n",
      "574 : RT @dog_rates: This is Anakin. He strives to reach his full doggo potential. Born with blurry tail tho. 11/10 would still pet well https://…\n",
      "576 : @SkyWilliams doggo simply protecting you from evil that which you cannot see. 11/10 would give extra pets\n",
      "583 : RT @dog_rates: This is Bo. He's a Benedoop Cumbersnatch. Seems frustrated with own feet. Portable as hell. 11/10 very solid pupper https://…\n",
      "594 : RT @dog_rates: Meet Baloo. He's expecting a fast ground ball, hence the wide stance. Prepared af. 11/10 nothing runs like a pupper https://…\n",
      "595 : RT @dog_rates: We normally don't rate marshmallows but this one appears to be flawlessly toasted so I'll make an exception. 10/10 https://t…\n",
      "599 : RT @dog_rates: Here we see a rare pouched pupper. Ample storage space. Looks alert. Jumps at random. Kicked open that door. 8/10 https://t.…\n",
      "604 : RT @dog_rates: This is Timison. He just told an awful joke but is still hanging on to the hope that you'll laugh with him. 10/10 https://t.…\n",
      "611 : @JODYHiGHROLLER it may be an 11/10 but what do I know 😉\n",
      "612 : RT @dog_rates: This is Tyrone. He's a leaf wizard. Self-motivated. No eyes (tragic). Inspirational af. 11/10 enthusiasm is tangible https:/…\n",
      "671 : RT @dog_rates: This is Buddy. His father was a bear and his mother was a perfectly toasted marshmallow. 12/10 would snug so well https://t.…\n",
      "677 : RT @dog_rates: This is Meyer. He has to hold somebody's hand during car rides. He's also wearing a seatbelt. 12/10 responsible af https://t…\n",
      "694 : RT @dog_rates: This is Oakley. He has no idea what happened here. Even offered to help clean it up. 11/10 such a heckin good boy https://t.…\n",
      "701 : 13/10 for breakdancing puppo @shibbnbot\n",
      "707 : Today, 10/10, should be National Dog Rates Day\n",
      "745 : RT @dog_rates: This is Hank. He's mischievous af. Doesn't even know what he was trying to do here. 8/10 quit the shit Hank damn https://t.c…\n",
      "764 : RT @dog_rates: Meet Gerald. He's a fairly exotic doggo. Floofy af. Inadequate knees tho. Self conscious about large forehead. 8/10 https://…\n",
      "773 : RT @dog_rates: We only rate dogs. Pls stop sending in non-canines like this Mongolian grass snake. This is very frustrating. 11/10 https://…\n",
      "784 : RT @dog_rates: After so many requests, this is Bretagne. She was the last surviving 9/11 search dog, and our second ever 14/10. RIP https:/…\n",
      "794 : RT @dog_rates: Meet Fizz. She thinks love is a social construct consisting solely of ideals perpetuated by mass media 11/10 woke af https:/…\n",
      "818 : RT @dog_rates: Here's a doggo blowing bubbles. It's downright legendary. 13/10 would watch on repeat forever (vid by Kent Duryee) https://t…\n",
      "829 : RT @dog_rates: When it's Janet from accounting's birthday but you can't eat the cake cuz it's chocolate. 10/10 hang in there pupper https:/…\n",
      "833 : RT @dog_rates: This is Nollie. She's waving at you. If you don't wave back you're a monster. She's also portable as hell. 12/10 https://t.c…\n",
      "841 : RT @dog_rates: We only rate dogs... this is a Taiwanese Guide Walrus. Im getting real heckin tired of this. Please send dogs. 10/10 https:/…\n",
      "843 : His name is Charley and he already has a new set of wheels thanks to donations. I heard his top speed was also increased. 13/10 for Charley\n",
      "857 : @TheEllenShow I'm not sure if you know this but that doggo right there is a 12/10\n",
      "860 : RT @dog_rates: Meet Eve. She's a raging alcoholic 8/10 (would b 11/10 but pupper alcoholism is a tragic issue that I can't condone) https:/…\n",
      "937 : RT @dog_rates: This is Carly. She's actually 2 dogs fused together. Very innovative. Probably has superpowers. 12/10 for double dog https:/…\n",
      "967 : 13/10 such a good doggo\n",
      "@spaghemily\n",
      "1005 : Other pupper asked not to have his identity shared. Probably just embarrassed about the headbutt. Also 12/10 it'll be ok mystery pup\n",
      "1012 : RT @dog_rates: This pupper killed this great white in an epic sea battle. Now wears it as a trophy. Such brave. Much fierce. 13/10 https://…\n",
      "1023 : RT @dog_rates: This is Shaggy. He knows exactly how to solve the puzzle but can't talk. All he wants to do is help. 10/10 great guy https:/…\n",
      "1080 : @mount_alex3 13/10\n",
      "1295 : @serial @MrRoles OH MY GOD I listened to all of season 1 during a single road trip. I love you guys! I can confirm Bernie's 12/10 rating :)\n",
      "1345 : 13/10 hero af\n",
      "@ABC\n",
      "1445 : Oh my god 10/10 for every little hot dog pupper\n",
      "1446 : After reading the comments I may have overestimated this pup. Downgraded to a 1/10. Please forgive me\n",
      "1474 : BREAKING PUPDATE: I've just been notified that (if in U.S.) this dog appears to be operating the vehicle. Upgraded to 10/10. Skilled af\n",
      "1479 : Personally I'd give him an 11/10. Not sure why you think you're qualified to rate such a stellar pup.\n",
      "@CommonWhiteGirI\n",
      "1497 : PUPDATE: just noticed this dog has some extra legs. Very advanced. Revolutionary af. Upgraded to a 9/10\n",
      "1523 : 12/10 @LightningHoltt\n",
      "1598 : Yes I do realize a rating of 4/20 would've been fitting. However, it would be unjust to give these cooperative pups that low of a rating\n",
      "1605 : Jack deserves another round of applause. If you missed this earlier today I strongly suggest reading it. Wonderful first 14/10 🐶❤️\n",
      "1618 : For those who claim this is a goat, u are wrong. It is not the Greatest Of All Time. The rating of 5/10 should have made that clear. Thank u\n",
      "1663 : I'm aware that I could've said 20/16, but here at WeRateDogs we are very professional. An inconsistent rating scale is simply irresponsible\n",
      "1689 : I've been told there's a slight possibility he's checking his mirror. We'll bump to 9.5/10. Still a menace\n",
      "1774 : After getting lost in Reese's eyes for several minutes we're going to upgrade him to a 13/10\n",
      "1819 : After some outrage from the crowd. Bubbles is being upgraded to a 7/10. That's as high as I'm going. Thank you\n",
      "1844 : This dog is being demoted to a 9/10 for not wearing a helmet while riding. Gotta stay safe out there. Thank you\n",
      "1895 : Some clarification is required. The dog is singing Cher and that is more than worthy of an 11/10. Thank you\n",
      "1905 : The 13/10 also takes into account this impeccable yard. Louis is great but the future dad in me can't ignore that luscious green grass\n",
      "1914 : 13/10\n",
      "@ABC7\n",
      "1940 : The millennials have spoken and we've decided to immediately demote to a 1/10. Thank you\n",
      "2038 : After 22 minutes of careful deliberation this dog is being demoted to a 1/10. The longer you look at him the more terrifying he becomes\n",
      "2149 : After countless hours of research and hundreds of formula alterations we have concluded that Dug should be bumped to an 11/10\n",
      "2189 : 12/10 good shit Bubka\n",
      "@wane15\n",
      "2298 : After much debate this dog is being upgraded to 10/10. I repeat 10/10\n"
     ]
    }
   ],
   "source": [
    " for index, tweet in no_photos_df.iterrows():\n",
    "        print(str(index) + \" : \" + tweet.text)\n",
    "        \n",
    "        "
   ]
  },
  {
   "cell_type": "markdown",
   "metadata": {},
   "source": [
    "All the tweets above don't contain a valid url or don't contain an url at all, so they need to be removed."
   ]
  },
  {
   "cell_type": "markdown",
   "metadata": {},
   "source": [
    "<a id=\"tidy_quality_ta\"> </a>\n",
    "### Tidiness and Quality issue for the twitter_archive dataframe"
   ]
  },
  {
   "cell_type": "markdown",
   "metadata": {},
   "source": [
    "#### twitter_archive dataframe quality issues\n",
    "1) The tweets with a value different from NaN for  the columns retweeted_status_id or retweeted_status_user_id are retweets and not original tweets and need to be removed from the dataframe  <br>\n",
    "2) Some of the tweets may be no longer on twitter, because eliminated by their author or for other reasons, so they should be removed from the dataframe using the column is_valid_tweet in the tweet_extra dataframe. <br>\n",
    "3) Some of the columns don't contain an image for a dog (or other pet) so they need to be removed. <br>\n",
    "4) Some of the columns are meant to contain ids for tweets, but they are in float format which is unsuitable for queries a to the Twitter API and for comparisons, so the need to be converted to integers, such columns are: <br>\n",
    " - in_reply_to_status_id  <br>\n",
    " - in_reply_to_user_id <br>\n",
    "Other columns have the same problem, but they will be removed, so they won't be converted( retweeted_status_id,     retweeted_status_user_id, retweeted_status_timestamp) <br>\n",
    "\n",
    "5) The Timestamp column is in string format, it should be a datetime object to be useful for comparison and extracting months, days, years and so on. <br>\n",
    "6) The source column contains useless hmtl tags that make diffucult to read the content of the cell and aren't informative.<br>\n",
    "7) The rating numerator and rating denominator contain numbers that aren't real scores for dogs, but errors and some of the scores are incosistent with a scoring in tenths so they need to be converted to tenth in order to have a conistent system of scoring. <br>\n",
    "8) The name column with the name of the dogs contain wrong names, 55 columns have a dog name of just \"a\",other are just \"a\" or \"the\",  but this is probably an error in extracting the name of the dog from the tweet. <br>\n",
    "9) The four columns with the stage of the dog (doggo, fluffer, puppo and pupper) have null values represented as strings, so there is the string 'None' instead of a NaN value for rows where there is no indication of the stage of the dog: this makes difficult to check for nullity of values, because no row is null when containing the string 'None'.  'None'string values should be converted to  NaN.\n",
    "\n",
    "#### twitter_archive dataframe tidiness issues\n",
    "\n",
    "1) Three columns describing the stage of the dog (doggo,floofer,pupper,puppo), but this is just one variable, so there should be only one colum <br>\n",
    "2) Two columns for the score for a pet, rating_numerator and rating_denominator, they refer to the same element, a score, so this should be just one column dog_score<br>\n",
    "3) The columns retweeted_status_id, retweeted_status_user_id and retweeted_status_timestamp are useful only for identifying tweets that are retweets, so they will be removed in the final cleaned dataframe with no retweets."
   ]
  },
  {
   "cell_type": "markdown",
   "metadata": {},
   "source": [
    "<a id =\"assessing_image_predictions\"> </a>\n",
    "### Assessing the image_predictions dataframe"
   ]
  },
  {
   "cell_type": "markdown",
   "metadata": {},
   "source": [
    "The image_predictions dataframe contains predictions about the content of images included in tweets. \n",
    "\n",
    "The columns p1, p2 and p3 give possible predictions about the content of the image. <br>\n",
    "The columns p1_conf, p2_conf and p3_conf give the probability that the image is what described respectively in p1, p2 and p3.<br>\n",
    "The columns p1_dog, p2_dog and p3_dog are columns of boolean indicating if the image is of a dog."
   ]
  },
  {
   "cell_type": "code",
   "execution_count": 633,
   "metadata": {},
   "outputs": [
    {
     "data": {
      "text/html": [
       "<div>\n",
       "<style scoped>\n",
       "    .dataframe tbody tr th:only-of-type {\n",
       "        vertical-align: middle;\n",
       "    }\n",
       "\n",
       "    .dataframe tbody tr th {\n",
       "        vertical-align: top;\n",
       "    }\n",
       "\n",
       "    .dataframe thead th {\n",
       "        text-align: right;\n",
       "    }\n",
       "</style>\n",
       "<table border=\"1\" class=\"dataframe\">\n",
       "  <thead>\n",
       "    <tr style=\"text-align: right;\">\n",
       "      <th></th>\n",
       "      <th>tweet_id</th>\n",
       "      <th>jpg_url</th>\n",
       "      <th>img_num</th>\n",
       "      <th>p1</th>\n",
       "      <th>p1_conf</th>\n",
       "      <th>p1_dog</th>\n",
       "      <th>p2</th>\n",
       "      <th>p2_conf</th>\n",
       "      <th>p2_dog</th>\n",
       "      <th>p3</th>\n",
       "      <th>p3_conf</th>\n",
       "      <th>p3_dog</th>\n",
       "    </tr>\n",
       "  </thead>\n",
       "  <tbody>\n",
       "    <tr>\n",
       "      <th>0</th>\n",
       "      <td>666020888022790149</td>\n",
       "      <td>https://pbs.twimg.com/media/CT4udn0WwAA0aMy.jpg</td>\n",
       "      <td>1</td>\n",
       "      <td>Welsh_springer_spaniel</td>\n",
       "      <td>0.465074</td>\n",
       "      <td>True</td>\n",
       "      <td>collie</td>\n",
       "      <td>0.156665</td>\n",
       "      <td>True</td>\n",
       "      <td>Shetland_sheepdog</td>\n",
       "      <td>0.061428</td>\n",
       "      <td>True</td>\n",
       "    </tr>\n",
       "    <tr>\n",
       "      <th>1</th>\n",
       "      <td>666029285002620928</td>\n",
       "      <td>https://pbs.twimg.com/media/CT42GRgUYAA5iDo.jpg</td>\n",
       "      <td>1</td>\n",
       "      <td>redbone</td>\n",
       "      <td>0.506826</td>\n",
       "      <td>True</td>\n",
       "      <td>miniature_pinscher</td>\n",
       "      <td>0.074192</td>\n",
       "      <td>True</td>\n",
       "      <td>Rhodesian_ridgeback</td>\n",
       "      <td>0.072010</td>\n",
       "      <td>True</td>\n",
       "    </tr>\n",
       "    <tr>\n",
       "      <th>2</th>\n",
       "      <td>666033412701032449</td>\n",
       "      <td>https://pbs.twimg.com/media/CT4521TWwAEvMyu.jpg</td>\n",
       "      <td>1</td>\n",
       "      <td>German_shepherd</td>\n",
       "      <td>0.596461</td>\n",
       "      <td>True</td>\n",
       "      <td>malinois</td>\n",
       "      <td>0.138584</td>\n",
       "      <td>True</td>\n",
       "      <td>bloodhound</td>\n",
       "      <td>0.116197</td>\n",
       "      <td>True</td>\n",
       "    </tr>\n",
       "    <tr>\n",
       "      <th>3</th>\n",
       "      <td>666044226329800704</td>\n",
       "      <td>https://pbs.twimg.com/media/CT5Dr8HUEAA-lEu.jpg</td>\n",
       "      <td>1</td>\n",
       "      <td>Rhodesian_ridgeback</td>\n",
       "      <td>0.408143</td>\n",
       "      <td>True</td>\n",
       "      <td>redbone</td>\n",
       "      <td>0.360687</td>\n",
       "      <td>True</td>\n",
       "      <td>miniature_pinscher</td>\n",
       "      <td>0.222752</td>\n",
       "      <td>True</td>\n",
       "    </tr>\n",
       "    <tr>\n",
       "      <th>4</th>\n",
       "      <td>666049248165822465</td>\n",
       "      <td>https://pbs.twimg.com/media/CT5IQmsXIAAKY4A.jpg</td>\n",
       "      <td>1</td>\n",
       "      <td>miniature_pinscher</td>\n",
       "      <td>0.560311</td>\n",
       "      <td>True</td>\n",
       "      <td>Rottweiler</td>\n",
       "      <td>0.243682</td>\n",
       "      <td>True</td>\n",
       "      <td>Doberman</td>\n",
       "      <td>0.154629</td>\n",
       "      <td>True</td>\n",
       "    </tr>\n",
       "  </tbody>\n",
       "</table>\n",
       "</div>"
      ],
      "text/plain": [
       "             tweet_id                                          jpg_url  \\\n",
       "0  666020888022790149  https://pbs.twimg.com/media/CT4udn0WwAA0aMy.jpg   \n",
       "1  666029285002620928  https://pbs.twimg.com/media/CT42GRgUYAA5iDo.jpg   \n",
       "2  666033412701032449  https://pbs.twimg.com/media/CT4521TWwAEvMyu.jpg   \n",
       "3  666044226329800704  https://pbs.twimg.com/media/CT5Dr8HUEAA-lEu.jpg   \n",
       "4  666049248165822465  https://pbs.twimg.com/media/CT5IQmsXIAAKY4A.jpg   \n",
       "\n",
       "   img_num                      p1   p1_conf  p1_dog                  p2  \\\n",
       "0        1  Welsh_springer_spaniel  0.465074    True              collie   \n",
       "1        1                 redbone  0.506826    True  miniature_pinscher   \n",
       "2        1         German_shepherd  0.596461    True            malinois   \n",
       "3        1     Rhodesian_ridgeback  0.408143    True             redbone   \n",
       "4        1      miniature_pinscher  0.560311    True          Rottweiler   \n",
       "\n",
       "    p2_conf  p2_dog                   p3   p3_conf  p3_dog  \n",
       "0  0.156665    True    Shetland_sheepdog  0.061428    True  \n",
       "1  0.074192    True  Rhodesian_ridgeback  0.072010    True  \n",
       "2  0.138584    True           bloodhound  0.116197    True  \n",
       "3  0.360687    True   miniature_pinscher  0.222752    True  \n",
       "4  0.243682    True             Doberman  0.154629    True  "
      ]
     },
     "execution_count": 633,
     "metadata": {},
     "output_type": "execute_result"
    }
   ],
   "source": [
    "image_predictions.head()"
   ]
  },
  {
   "cell_type": "code",
   "execution_count": 634,
   "metadata": {},
   "outputs": [
    {
     "name": "stdout",
     "output_type": "stream",
     "text": [
      "<class 'pandas.core.frame.DataFrame'>\n",
      "RangeIndex: 2075 entries, 0 to 2074\n",
      "Data columns (total 12 columns):\n",
      "tweet_id    2075 non-null int64\n",
      "jpg_url     2075 non-null object\n",
      "img_num     2075 non-null int64\n",
      "p1          2075 non-null object\n",
      "p1_conf     2075 non-null float64\n",
      "p1_dog      2075 non-null bool\n",
      "p2          2075 non-null object\n",
      "p2_conf     2075 non-null float64\n",
      "p2_dog      2075 non-null bool\n",
      "p3          2075 non-null object\n",
      "p3_conf     2075 non-null float64\n",
      "p3_dog      2075 non-null bool\n",
      "dtypes: bool(3), float64(3), int64(2), object(4)\n",
      "memory usage: 152.1+ KB\n"
     ]
    }
   ],
   "source": [
    "image_predictions.info()"
   ]
  },
  {
   "cell_type": "code",
   "execution_count": 635,
   "metadata": {},
   "outputs": [
    {
     "data": {
      "text/plain": [
       "(2075, 12)"
      ]
     },
     "execution_count": 635,
     "metadata": {},
     "output_type": "execute_result"
    }
   ],
   "source": [
    "image_predictions.shape"
   ]
  },
  {
   "cell_type": "markdown",
   "metadata": {},
   "source": [
    "The image_predictions dataframe has less rows than the twitter_archive dataframe. Some of the tweets in tweets in twitter_archive are short videos from vine, so they probably hasn't been assessed by the neural network as images, as we can see in the following cells."
   ]
  },
  {
   "cell_type": "code",
   "execution_count": 636,
   "metadata": {},
   "outputs": [],
   "source": [
    "####  tweet_id from twitter_archive\n",
    "ta_tweet = twitter_archive.tweet_id"
   ]
  },
  {
   "cell_type": "code",
   "execution_count": 637,
   "metadata": {},
   "outputs": [],
   "source": [
    "#### tweet_id from image_predictions\n",
    "img_tweet = image_predictions.tweet_id"
   ]
  },
  {
   "cell_type": "code",
   "execution_count": 638,
   "metadata": {},
   "outputs": [],
   "source": [
    "### tweet_id present in twitter_archive, but not in image_predictions\n",
    "diff1 = np.setdiff1d(ta_tweet, img_tweet)"
   ]
  },
  {
   "cell_type": "code",
   "execution_count": 639,
   "metadata": {},
   "outputs": [],
   "source": [
    "#### dataframe of rows present in twitter_archive but not in image_predictions\n",
    "tweet_not_in_image_predictions = twitter_archive[twitter_archive.tweet_id.isin(diff1)]"
   ]
  },
  {
   "cell_type": "code",
   "execution_count": 640,
   "metadata": {},
   "outputs": [
    {
     "data": {
      "text/plain": [
       "<a href=\"http://twitter.com/download/iphone\" rel=\"nofollow\">Twitter for iPhone</a>    187\n",
       "<a href=\"http://vine.co\" rel=\"nofollow\">Vine - Make a Scene</a>                        91\n",
       "<a href=\"http://twitter.com\" rel=\"nofollow\">Twitter Web Client</a>                      3\n",
       "Name: source, dtype: int64"
      ]
     },
     "execution_count": 640,
     "metadata": {},
     "output_type": "execute_result"
    }
   ],
   "source": [
    "### let's see what are the sources for tweets present in twitter_archive, but not in image_predictions,\n",
    "## they are mostly vine.\n",
    "tweet_not_in_image_predictions.source.value_counts()"
   ]
  },
  {
   "cell_type": "code",
   "execution_count": 641,
   "metadata": {},
   "outputs": [
    {
     "data": {
      "text/plain": [
       "golden_retriever             150\n",
       "Labrador_retriever           100\n",
       "Pembroke                      89\n",
       "Chihuahua                     83\n",
       "pug                           57\n",
       "chow                          44\n",
       "Samoyed                       43\n",
       "toy_poodle                    39\n",
       "Pomeranian                    38\n",
       "malamute                      30\n",
       "cocker_spaniel                30\n",
       "French_bulldog                26\n",
       "Chesapeake_Bay_retriever      23\n",
       "miniature_pinscher            23\n",
       "seat_belt                     22\n",
       "Siberian_husky                20\n",
       "Staffordshire_bullterrier     20\n",
       "German_shepherd               20\n",
       "Cardigan                      19\n",
       "web_site                      19\n",
       "Eskimo_dog                    18\n",
       "Maltese_dog                   18\n",
       "beagle                        18\n",
       "Shetland_sheepdog             18\n",
       "teddy                         18\n",
       "Shih-Tzu                      17\n",
       "Lakeland_terrier              17\n",
       "Rottweiler                    17\n",
       "Italian_greyhound             16\n",
       "kuvasz                        16\n",
       "                            ... \n",
       "African_grey                   1\n",
       "leopard                        1\n",
       "candle                         1\n",
       "mailbox                        1\n",
       "Scotch_terrier                 1\n",
       "jersey                         1\n",
       "cheetah                        1\n",
       "pole                           1\n",
       "envelope                       1\n",
       "pedestal                       1\n",
       "cheeseburger                   1\n",
       "scorpion                       1\n",
       "leaf_beetle                    1\n",
       "rapeseed                       1\n",
       "harp                           1\n",
       "carton                         1\n",
       "dhole                          1\n",
       "marmot                         1\n",
       "bannister                      1\n",
       "cougar                         1\n",
       "traffic_light                  1\n",
       "Madagascar_cat                 1\n",
       "handkerchief                   1\n",
       "hare                           1\n",
       "black-footed_ferret            1\n",
       "school_bus                     1\n",
       "bookcase                       1\n",
       "cliff                          1\n",
       "mud_turtle                     1\n",
       "conch                          1\n",
       "Name: p1, Length: 378, dtype: int64"
      ]
     },
     "execution_count": 641,
     "metadata": {},
     "output_type": "execute_result"
    }
   ],
   "source": [
    "image_predictions.p1.value_counts()"
   ]
  },
  {
   "cell_type": "code",
   "execution_count": 642,
   "metadata": {},
   "outputs": [
    {
     "data": {
      "text/plain": [
       "Labrador_retriever                104\n",
       "golden_retriever                   92\n",
       "Cardigan                           73\n",
       "Chihuahua                          44\n",
       "Pomeranian                         42\n",
       "French_bulldog                     41\n",
       "Chesapeake_Bay_retriever           41\n",
       "toy_poodle                         37\n",
       "cocker_spaniel                     34\n",
       "miniature_poodle                   33\n",
       "Siberian_husky                     33\n",
       "beagle                             28\n",
       "Pembroke                           27\n",
       "collie                             27\n",
       "Eskimo_dog                         27\n",
       "kuvasz                             26\n",
       "Italian_greyhound                  22\n",
       "American_Staffordshire_terrier     21\n",
       "Pekinese                           21\n",
       "chow                               20\n",
       "malinois                           20\n",
       "miniature_pinscher                 20\n",
       "toy_terrier                        20\n",
       "Samoyed                            20\n",
       "Norwegian_elkhound                 19\n",
       "Boston_bull                        19\n",
       "Staffordshire_bullterrier          18\n",
       "Irish_terrier                      17\n",
       "pug                                17\n",
       "Shih-Tzu                           16\n",
       "                                 ... \n",
       "African_hunting_dog                 1\n",
       "breakwater                          1\n",
       "sandal                              1\n",
       "Bernese_mountain_dog                1\n",
       "waffle_iron                         1\n",
       "coral_fungus                        1\n",
       "pickup                              1\n",
       "volcano                             1\n",
       "peacock                             1\n",
       "lampshade                           1\n",
       "sombrero                            1\n",
       "sock                                1\n",
       "armadillo                           1\n",
       "crib                                1\n",
       "komondor                            1\n",
       "grey_fox                            1\n",
       "saltshaker                          1\n",
       "shower_curtain                      1\n",
       "coffee_mug                          1\n",
       "wallaby                             1\n",
       "soccer_ball                         1\n",
       "Madagascar_cat                      1\n",
       "indri                               1\n",
       "breastplate                         1\n",
       "bucket                              1\n",
       "rain_barrel                         1\n",
       "menu                                1\n",
       "banded_gecko                        1\n",
       "giant_panda                         1\n",
       "tray                                1\n",
       "Name: p2, Length: 405, dtype: int64"
      ]
     },
     "execution_count": 642,
     "metadata": {},
     "output_type": "execute_result"
    }
   ],
   "source": [
    "image_predictions.p2.value_counts()"
   ]
  },
  {
   "cell_type": "code",
   "execution_count": 643,
   "metadata": {},
   "outputs": [
    {
     "data": {
      "text/plain": [
       "Labrador_retriever                79\n",
       "Chihuahua                         58\n",
       "golden_retriever                  48\n",
       "Eskimo_dog                        38\n",
       "kelpie                            35\n",
       "kuvasz                            34\n",
       "Staffordshire_bullterrier         32\n",
       "chow                              32\n",
       "cocker_spaniel                    31\n",
       "beagle                            31\n",
       "toy_poodle                        29\n",
       "Pekinese                          29\n",
       "Pomeranian                        29\n",
       "Chesapeake_Bay_retriever          27\n",
       "Pembroke                          27\n",
       "Great_Pyrenees                    27\n",
       "malamute                          26\n",
       "French_bulldog                    26\n",
       "American_Staffordshire_terrier    24\n",
       "pug                               23\n",
       "Cardigan                          23\n",
       "basenji                           21\n",
       "toy_terrier                       20\n",
       "bull_mastiff                      20\n",
       "Siberian_husky                    19\n",
       "Boston_bull                       17\n",
       "Shetland_sheepdog                 17\n",
       "boxer                             16\n",
       "doormat                           16\n",
       "Lakeland_terrier                  16\n",
       "                                  ..\n",
       "beach_wagon                        1\n",
       "hand-held_computer                 1\n",
       "toyshop                            1\n",
       "standard_schnauzer                 1\n",
       "kimono                             1\n",
       "meerkat                            1\n",
       "nail                               1\n",
       "wolf_spider                        1\n",
       "bow                                1\n",
       "guillotine                         1\n",
       "traffic_light                      1\n",
       "crossword_puzzle                   1\n",
       "mosquito_net                       1\n",
       "neck_brace                         1\n",
       "jeep                               1\n",
       "pop_bottle                         1\n",
       "boathouse                          1\n",
       "passenger_car                      1\n",
       "screen                             1\n",
       "assault_rifle                      1\n",
       "lampshade                          1\n",
       "bannister                          1\n",
       "triceratops                        1\n",
       "brown_bear                         1\n",
       "tripod                             1\n",
       "tiger_cat                          1\n",
       "canoe                              1\n",
       "parachute                          1\n",
       "switch                             1\n",
       "common_newt                        1\n",
       "Name: p3, Length: 408, dtype: int64"
      ]
     },
     "execution_count": 643,
     "metadata": {},
     "output_type": "execute_result"
    }
   ],
   "source": [
    "image_predictions.p3.value_counts()"
   ]
  },
  {
   "cell_type": "markdown",
   "metadata": {},
   "source": [
    "Clearly there is an inconsistency in the string representation of the race of the dog: sometimes the string is capitalized othe times it isn't (for example golden_retriever and Labrador_retriever). <br>\n",
    "The names have underscore between words and this is not useful, so I'll remove them.\n",
    "Some of the names aren't races of dog at all and this proabably happens when the photo has more than one element inside and not only a dog, for example p1 for the entry 1130 is handkerchief https://pbs.twimg.com/media/ChqARqmWsAEI6fB.jpg, while on p2 and p3 there is a race of dog(pomeranian and Shih-Tzu): the photo is a picture of a dog sleeping over some fabric."
   ]
  },
  {
   "cell_type": "code",
   "execution_count": 644,
   "metadata": {},
   "outputs": [
    {
     "data": {
      "text/html": [
       "<div>\n",
       "<style scoped>\n",
       "    .dataframe tbody tr th:only-of-type {\n",
       "        vertical-align: middle;\n",
       "    }\n",
       "\n",
       "    .dataframe tbody tr th {\n",
       "        vertical-align: top;\n",
       "    }\n",
       "\n",
       "    .dataframe thead th {\n",
       "        text-align: right;\n",
       "    }\n",
       "</style>\n",
       "<table border=\"1\" class=\"dataframe\">\n",
       "  <thead>\n",
       "    <tr style=\"text-align: right;\">\n",
       "      <th></th>\n",
       "      <th>tweet_id</th>\n",
       "      <th>jpg_url</th>\n",
       "      <th>img_num</th>\n",
       "      <th>p1</th>\n",
       "      <th>p1_conf</th>\n",
       "      <th>p1_dog</th>\n",
       "      <th>p2</th>\n",
       "      <th>p2_conf</th>\n",
       "      <th>p2_dog</th>\n",
       "      <th>p3</th>\n",
       "      <th>p3_conf</th>\n",
       "      <th>p3_dog</th>\n",
       "    </tr>\n",
       "  </thead>\n",
       "  <tbody>\n",
       "    <tr>\n",
       "      <th>1130</th>\n",
       "      <td>728035342121635841</td>\n",
       "      <td>https://pbs.twimg.com/media/ChqARqmWsAEI6fB.jpg</td>\n",
       "      <td>1</td>\n",
       "      <td>handkerchief</td>\n",
       "      <td>0.302961</td>\n",
       "      <td>False</td>\n",
       "      <td>Pomeranian</td>\n",
       "      <td>0.248664</td>\n",
       "      <td>True</td>\n",
       "      <td>Shih-Tzu</td>\n",
       "      <td>0.111015</td>\n",
       "      <td>True</td>\n",
       "    </tr>\n",
       "  </tbody>\n",
       "</table>\n",
       "</div>"
      ],
      "text/plain": [
       "                tweet_id                                          jpg_url  \\\n",
       "1130  728035342121635841  https://pbs.twimg.com/media/ChqARqmWsAEI6fB.jpg   \n",
       "\n",
       "      img_num            p1   p1_conf  p1_dog          p2   p2_conf  p2_dog  \\\n",
       "1130        1  handkerchief  0.302961   False  Pomeranian  0.248664    True   \n",
       "\n",
       "            p3   p3_conf  p3_dog  \n",
       "1130  Shih-Tzu  0.111015    True  "
      ]
     },
     "execution_count": 644,
     "metadata": {},
     "output_type": "execute_result"
    }
   ],
   "source": [
    "# a look at an handkerchief that may be a dog (or viceversa)\n",
    "image_predictions[image_predictions.p1 == 'handkerchief']"
   ]
  },
  {
   "cell_type": "markdown",
   "metadata": {},
   "source": [
    "Let's give a look to the numerical values in the dataframe"
   ]
  },
  {
   "cell_type": "code",
   "execution_count": 645,
   "metadata": {},
   "outputs": [
    {
     "data": {
      "text/html": [
       "<div>\n",
       "<style scoped>\n",
       "    .dataframe tbody tr th:only-of-type {\n",
       "        vertical-align: middle;\n",
       "    }\n",
       "\n",
       "    .dataframe tbody tr th {\n",
       "        vertical-align: top;\n",
       "    }\n",
       "\n",
       "    .dataframe thead th {\n",
       "        text-align: right;\n",
       "    }\n",
       "</style>\n",
       "<table border=\"1\" class=\"dataframe\">\n",
       "  <thead>\n",
       "    <tr style=\"text-align: right;\">\n",
       "      <th></th>\n",
       "      <th>tweet_id</th>\n",
       "      <th>img_num</th>\n",
       "      <th>p1_conf</th>\n",
       "      <th>p2_conf</th>\n",
       "      <th>p3_conf</th>\n",
       "    </tr>\n",
       "  </thead>\n",
       "  <tbody>\n",
       "    <tr>\n",
       "      <th>count</th>\n",
       "      <td>2.075000e+03</td>\n",
       "      <td>2075.000000</td>\n",
       "      <td>2075.000000</td>\n",
       "      <td>2.075000e+03</td>\n",
       "      <td>2.075000e+03</td>\n",
       "    </tr>\n",
       "    <tr>\n",
       "      <th>mean</th>\n",
       "      <td>7.384514e+17</td>\n",
       "      <td>1.203855</td>\n",
       "      <td>0.594548</td>\n",
       "      <td>1.345886e-01</td>\n",
       "      <td>6.032417e-02</td>\n",
       "    </tr>\n",
       "    <tr>\n",
       "      <th>std</th>\n",
       "      <td>6.785203e+16</td>\n",
       "      <td>0.561875</td>\n",
       "      <td>0.271174</td>\n",
       "      <td>1.006657e-01</td>\n",
       "      <td>5.090593e-02</td>\n",
       "    </tr>\n",
       "    <tr>\n",
       "      <th>min</th>\n",
       "      <td>6.660209e+17</td>\n",
       "      <td>1.000000</td>\n",
       "      <td>0.044333</td>\n",
       "      <td>1.011300e-08</td>\n",
       "      <td>1.740170e-10</td>\n",
       "    </tr>\n",
       "    <tr>\n",
       "      <th>25%</th>\n",
       "      <td>6.764835e+17</td>\n",
       "      <td>1.000000</td>\n",
       "      <td>0.364412</td>\n",
       "      <td>5.388625e-02</td>\n",
       "      <td>1.622240e-02</td>\n",
       "    </tr>\n",
       "    <tr>\n",
       "      <th>50%</th>\n",
       "      <td>7.119988e+17</td>\n",
       "      <td>1.000000</td>\n",
       "      <td>0.588230</td>\n",
       "      <td>1.181810e-01</td>\n",
       "      <td>4.944380e-02</td>\n",
       "    </tr>\n",
       "    <tr>\n",
       "      <th>75%</th>\n",
       "      <td>7.932034e+17</td>\n",
       "      <td>1.000000</td>\n",
       "      <td>0.843855</td>\n",
       "      <td>1.955655e-01</td>\n",
       "      <td>9.180755e-02</td>\n",
       "    </tr>\n",
       "    <tr>\n",
       "      <th>max</th>\n",
       "      <td>8.924206e+17</td>\n",
       "      <td>4.000000</td>\n",
       "      <td>1.000000</td>\n",
       "      <td>4.880140e-01</td>\n",
       "      <td>2.734190e-01</td>\n",
       "    </tr>\n",
       "  </tbody>\n",
       "</table>\n",
       "</div>"
      ],
      "text/plain": [
       "           tweet_id      img_num      p1_conf       p2_conf       p3_conf\n",
       "count  2.075000e+03  2075.000000  2075.000000  2.075000e+03  2.075000e+03\n",
       "mean   7.384514e+17     1.203855     0.594548  1.345886e-01  6.032417e-02\n",
       "std    6.785203e+16     0.561875     0.271174  1.006657e-01  5.090593e-02\n",
       "min    6.660209e+17     1.000000     0.044333  1.011300e-08  1.740170e-10\n",
       "25%    6.764835e+17     1.000000     0.364412  5.388625e-02  1.622240e-02\n",
       "50%    7.119988e+17     1.000000     0.588230  1.181810e-01  4.944380e-02\n",
       "75%    7.932034e+17     1.000000     0.843855  1.955655e-01  9.180755e-02\n",
       "max    8.924206e+17     4.000000     1.000000  4.880140e-01  2.734190e-01"
      ]
     },
     "execution_count": 645,
     "metadata": {},
     "output_type": "execute_result"
    }
   ],
   "source": [
    "image_predictions.describe()"
   ]
  },
  {
   "cell_type": "markdown",
   "metadata": {},
   "source": [
    "At first look the numerical values seem to be correct: the values for p1_conf, p2_conf and p3_conf are between values close to zero and 1, so they are valid possible values for a probability. <br>\n",
    "p1_conf should always be greater than or equal to  p2_conf and p3_conf,  and  p2_conf should be greater than or equal of p3_conf, let's see if it's true.\n"
   ]
  },
  {
   "cell_type": "code",
   "execution_count": 646,
   "metadata": {},
   "outputs": [
    {
     "data": {
      "text/plain": [
       "2075"
      ]
     },
     "execution_count": 646,
     "metadata": {},
     "output_type": "execute_result"
    }
   ],
   "source": [
    "sum(image_predictions.p1_conf >= image_predictions.p2_conf)"
   ]
  },
  {
   "cell_type": "code",
   "execution_count": 647,
   "metadata": {},
   "outputs": [
    {
     "data": {
      "text/plain": [
       "2075"
      ]
     },
     "execution_count": 647,
     "metadata": {},
     "output_type": "execute_result"
    }
   ],
   "source": [
    "sum(image_predictions.p1_conf >= image_predictions.p3_conf)"
   ]
  },
  {
   "cell_type": "code",
   "execution_count": 648,
   "metadata": {},
   "outputs": [
    {
     "data": {
      "text/plain": [
       "2075"
      ]
     },
     "execution_count": 648,
     "metadata": {},
     "output_type": "execute_result"
    }
   ],
   "source": [
    "sum(image_predictions.p2_conf >= image_predictions.p3_conf)"
   ]
  },
  {
   "cell_type": "markdown",
   "metadata": {},
   "source": [
    "Tha data about the probabilities seem to be correct in p1_conf, p2_conf and p3_conf, p1_conf is always greater or equal than p2_conf and p2_conf is always greater or equal than p3_conf."
   ]
  },
  {
   "cell_type": "markdown",
   "metadata": {},
   "source": [
    "<a id=\"image_predictions_issues\"> </a>\n",
    "### image_predictions dataframe issues"
   ]
  },
  {
   "cell_type": "markdown",
   "metadata": {},
   "source": [
    "#### image_predictions dataframe quality issues\n",
    "1) Inconsistent representation of the content of the image in p1, p2 and p3: the content is sometimes capitalized and other times it isn't, furhtermore the strings in p1, p2 and p3 contain underscores that can be removed for better reading. <br>\n",
    "2) Some of the rows may be from retweeted tweets, so they need to be removed, I'll also remove every tweet with a tweet_id that has already been removed from twitter_archive for any reason during the cleaning process.\n"
   ]
  },
  {
   "cell_type": "markdown",
   "metadata": {},
   "source": [
    "#### Tidiness issues\n",
    "1) The image predictions dataframe can be merged to the twitter_archive dataframe in a twitter_main dataframe. Some of the tweets in the image_predictions dataframe won't be present in twitter_archive: some of the tweets in twitter_archive are  short videos from vine, so they probably haven't been assessed for predictions."
   ]
  },
  {
   "cell_type": "markdown",
   "metadata": {},
   "source": [
    "<a id =\"assessing_tweet_extra\"> </a>\n",
    "### Assessing the tweet_extra dataframe"
   ]
  },
  {
   "cell_type": "markdown",
   "metadata": {},
   "source": [
    "The tweet_extra dataframe has been created downloading data from the Twitter API with the help of the Tweepy library. <br>\n",
    "The dataframe contains additional data about the tweets contained in the twitter_archive dataframe.<br>\n",
    "The favorite_count columns represents the number of times a tweet has ben favored.<br>\n",
    "The retweet count represents the number of times a tweet has been retweeted.<br>\n",
    "The is_valid_tweet column represent if the tweet is still on Twitter, some of the tweets in the twitter archive may not accessible anymore, maybe because deleted by the author or because the author account doesn't exist anymore."
   ]
  },
  {
   "cell_type": "code",
   "execution_count": 649,
   "metadata": {},
   "outputs": [
    {
     "data": {
      "text/html": [
       "<div>\n",
       "<style scoped>\n",
       "    .dataframe tbody tr th:only-of-type {\n",
       "        vertical-align: middle;\n",
       "    }\n",
       "\n",
       "    .dataframe tbody tr th {\n",
       "        vertical-align: top;\n",
       "    }\n",
       "\n",
       "    .dataframe thead th {\n",
       "        text-align: right;\n",
       "    }\n",
       "</style>\n",
       "<table border=\"1\" class=\"dataframe\">\n",
       "  <thead>\n",
       "    <tr style=\"text-align: right;\">\n",
       "      <th></th>\n",
       "      <th>favorite_count</th>\n",
       "      <th>is_valid_tweet</th>\n",
       "      <th>retweet_count</th>\n",
       "      <th>tweet_id</th>\n",
       "    </tr>\n",
       "  </thead>\n",
       "  <tbody>\n",
       "    <tr>\n",
       "      <th>0</th>\n",
       "      <td>37927.0</td>\n",
       "      <td>True</td>\n",
       "      <td>8281.0</td>\n",
       "      <td>892420643555336193</td>\n",
       "    </tr>\n",
       "    <tr>\n",
       "      <th>1</th>\n",
       "      <td>32567.0</td>\n",
       "      <td>True</td>\n",
       "      <td>6117.0</td>\n",
       "      <td>892177421306343426</td>\n",
       "    </tr>\n",
       "    <tr>\n",
       "      <th>2</th>\n",
       "      <td>24522.0</td>\n",
       "      <td>True</td>\n",
       "      <td>4051.0</td>\n",
       "      <td>891815181378084864</td>\n",
       "    </tr>\n",
       "    <tr>\n",
       "      <th>3</th>\n",
       "      <td>41266.0</td>\n",
       "      <td>True</td>\n",
       "      <td>8422.0</td>\n",
       "      <td>891689557279858688</td>\n",
       "    </tr>\n",
       "    <tr>\n",
       "      <th>4</th>\n",
       "      <td>39449.0</td>\n",
       "      <td>True</td>\n",
       "      <td>9122.0</td>\n",
       "      <td>891327558926688256</td>\n",
       "    </tr>\n",
       "  </tbody>\n",
       "</table>\n",
       "</div>"
      ],
      "text/plain": [
       "   favorite_count  is_valid_tweet  retweet_count            tweet_id\n",
       "0         37927.0            True         8281.0  892420643555336193\n",
       "1         32567.0            True         6117.0  892177421306343426\n",
       "2         24522.0            True         4051.0  891815181378084864\n",
       "3         41266.0            True         8422.0  891689557279858688\n",
       "4         39449.0            True         9122.0  891327558926688256"
      ]
     },
     "execution_count": 649,
     "metadata": {},
     "output_type": "execute_result"
    }
   ],
   "source": [
    "tweet_extra.head()"
   ]
  },
  {
   "cell_type": "code",
   "execution_count": 650,
   "metadata": {},
   "outputs": [
    {
     "data": {
      "text/plain": [
       "(2356, 4)"
      ]
     },
     "execution_count": 650,
     "metadata": {},
     "output_type": "execute_result"
    }
   ],
   "source": [
    "tweet_extra.shape"
   ]
  },
  {
   "cell_type": "code",
   "execution_count": 651,
   "metadata": {},
   "outputs": [
    {
     "name": "stdout",
     "output_type": "stream",
     "text": [
      "<class 'pandas.core.frame.DataFrame'>\n",
      "RangeIndex: 2356 entries, 0 to 2355\n",
      "Data columns (total 4 columns):\n",
      "favorite_count    2340 non-null float64\n",
      "is_valid_tweet    2356 non-null bool\n",
      "retweet_count     2340 non-null float64\n",
      "tweet_id          2356 non-null int64\n",
      "dtypes: bool(1), float64(2), int64(1)\n",
      "memory usage: 57.6 KB\n"
     ]
    }
   ],
   "source": [
    "tweet_extra.info()"
   ]
  },
  {
   "cell_type": "markdown",
   "metadata": {},
   "source": [
    "Some of the columns have the wrong data type: favorite_count and retweet_count are of type float, but this doesn't make a lot of sense because the number of retweets is  an integer according to the Twitter documentation.<br>\n",
    "All these mismatches in type conversions are due to the fact that I have NaN values as possible values in those columns, in fact when I downloaded the data I didn't insert default data for the missing tweets for those columns. When NaN is one of the possible type for columns, pandas usually import those columns as float.<br>\n",
    "One of the possible solution would be redownloading data with default value for missing colunmns, another solution is to change the data type for the columns. <br> I'll opt for this second solution.\n",
    "\n",
    "The twitter_extra dataframe is a helper dataframe for retrieving data about the retweet and favorite count, so these columns will be merged in the twitter_archive dataframe, while the is_valid_tweet column will be used to delete tweets no more present on twitter from the other two dataframes."
   ]
  },
  {
   "cell_type": "markdown",
   "metadata": {},
   "source": [
    "<a id =\"tweet_extra_issues\"></a>\n",
    "### tweet_extra issues"
   ]
  },
  {
   "cell_type": "markdown",
   "metadata": {},
   "source": [
    "#### Quality issues\n",
    "1) The favorite_count column is of type float, it should be of type integer because it is an id (so no decimal parts).<br>\n",
    "2) The retweet_count column if of type float, it should be of type integer because it is an id .<br>\n",
    "3) Some of the tweets are retweets so they need to be removed from the dataframe.\n",
    "\n",
    "#### Tidiness issues\n",
    "\n",
    "1) The retweet_count and favorite_count column should be merged to the twitter_archive dataframe because they represent data belonging to a tweet from WeRateDogs and there is already a table for this kind of data."
   ]
  },
  {
   "cell_type": "markdown",
   "metadata": {},
   "source": [
    "<a id=\"cleaning_section\"> </a>\n",
    "## Cleaning"
   ]
  },
  {
   "cell_type": "markdown",
   "metadata": {},
   "source": [
    "All the cleaning operations will be performed on copies of the original dataframes. <br>"
   ]
  },
  {
   "cell_type": "code",
   "execution_count": 652,
   "metadata": {},
   "outputs": [],
   "source": [
    "## creating copies of the original dataframe"
   ]
  },
  {
   "cell_type": "code",
   "execution_count": 653,
   "metadata": {},
   "outputs": [],
   "source": [
    "twitter_archive_clean = twitter_archive.copy()"
   ]
  },
  {
   "cell_type": "code",
   "execution_count": 654,
   "metadata": {},
   "outputs": [],
   "source": [
    "image_predictions_clean = image_predictions.copy()"
   ]
  },
  {
   "cell_type": "code",
   "execution_count": 655,
   "metadata": {},
   "outputs": [],
   "source": [
    "tweet_extra_clean = tweet_extra.copy()"
   ]
  },
  {
   "cell_type": "markdown",
   "metadata": {},
   "source": [
    "<a id=\"cleaning_twitter_archive\"></a>\n",
    "### Cleaning twitter_archive dataframe"
   ]
  },
  {
   "cell_type": "markdown",
   "metadata": {},
   "source": [
    "The list of all the tidiness and quality issues for the twitter archive dataframe is [here](#tidy_quality_ta) .\n",
    "I won't follow the exact order in which the issues are listed because some cleaning operations need to be performed before other ones (like removing all 'None' string values, which is a quality issue, before merging some columns, which is a tidiness issue), but there is a title for each of them."
   ]
  },
  {
   "cell_type": "markdown",
   "metadata": {},
   "source": [
    "I'll probably need to delete some rows with incorrect data, but this could cause problems when merging columns, so I'll create a set of index and tweet_id to remove from the final cleaned dataframes."
   ]
  },
  {
   "cell_type": "code",
   "execution_count": 656,
   "metadata": {},
   "outputs": [],
   "source": [
    "indexes_to_remove = set()\n",
    "tweet_ids_to_remove = set()"
   ]
  },
  {
   "cell_type": "code",
   "execution_count": 657,
   "metadata": {},
   "outputs": [],
   "source": [
    "### helper functions\n",
    "def add_indexes_and_ids_to_remove(sub_df):\n",
    "    '''\n",
    "    Add the indexes in the provided dataframe to the indexes_to_remove set\n",
    "    and the tweet_id for each row in the tweet_ids_to_remove set\n",
    "    \n",
    "    Parameters\n",
    "    ----------\n",
    "    sub_df: DataFrame\n",
    "     A subset of a dataframe\n",
    "    '''\n",
    "    for index, row in sub_df.iterrows():\n",
    "        indexes_to_remove.add(index)\n",
    "        tweet_ids_to_remove.add(row.tweet_id)\n",
    "        \n",
    "def drop_row_if_index_in_df(indexes, df):\n",
    "    '''\n",
    "    Drop  the rows with index contained in indexes from the DataFrame df, inplace\n",
    "    \n",
    "    Parameters\n",
    "    ----------\n",
    "    indexes: an array-like list or other iterable\n",
    "    The indexes to drop from the DataFrame df.\n",
    "    \n",
    "    df: DataFrame\n",
    "    The DataFrame whose rows need to be dropped.\n",
    "    \n",
    "    '''\n",
    "    for index in indexes:\n",
    "        if index in df.index:\n",
    "            df.drop(index, axis = 0, inplace = True)\n",
    "            \n",
    "    \n",
    "\n",
    "def is_index_in_dataframe(indexes, df):\n",
    "    '''\n",
    "    Return True if at least one index in indexes is in the dataframe,\n",
    "    return False if no index in indexes is in the dataframe\n",
    "    \n",
    "    Parameters\n",
    "    ----------\n",
    "    \n",
    "    indexes: an array-like list or other iterable\n",
    "    Represents the list of indexes to check\n",
    "    \n",
    "    df: Dataframe\n",
    "    \n",
    "    \n",
    "    '''\n",
    "    for index in indexes:\n",
    "        if index in df.index:\n",
    "            return True\n",
    "    return False\n",
    "    "
   ]
  },
  {
   "cell_type": "markdown",
   "metadata": {},
   "source": [
    "#### Quality issue 1, twitter_archive : some of the tweets are retweets they should be removed"
   ]
  },
  {
   "cell_type": "markdown",
   "metadata": {},
   "source": [
    "##### Define - quality issue 1,  twitter_archive\n",
    "\n",
    "Drop all the tweets with values different from NaN in columns retweeted_status_id, this will also remove rows with not null values in retweeted_status_user_id and retweeted_status_timestamp."
   ]
  },
  {
   "cell_type": "markdown",
   "metadata": {},
   "source": [
    "##### Code - quality issue 1, twitter_archive"
   ]
  },
  {
   "cell_type": "code",
   "execution_count": 658,
   "metadata": {},
   "outputs": [],
   "source": [
    "### define a retweets dataframe\n",
    "retweets = twitter_archive_clean[twitter_archive_clean.retweeted_status_id.notnull()]"
   ]
  },
  {
   "cell_type": "code",
   "execution_count": 659,
   "metadata": {},
   "outputs": [],
   "source": [
    "## store the indexes and tweet_ids of retweets for future checks on the other dataframes\n",
    "add_indexes_and_ids_to_remove(retweets)"
   ]
  },
  {
   "cell_type": "code",
   "execution_count": 660,
   "metadata": {},
   "outputs": [],
   "source": [
    "twitter_archive_clean.drop(retweets.index, axis = 0, inplace = True)"
   ]
  },
  {
   "cell_type": "markdown",
   "metadata": {},
   "source": [
    "##### Test - quality issue 1, twitter_archive"
   ]
  },
  {
   "cell_type": "code",
   "execution_count": 661,
   "metadata": {},
   "outputs": [
    {
     "name": "stdout",
     "output_type": "stream",
     "text": [
      "<class 'pandas.core.frame.DataFrame'>\n",
      "Int64Index: 2175 entries, 0 to 2355\n",
      "Data columns (total 17 columns):\n",
      "tweet_id                      2175 non-null int64\n",
      "in_reply_to_status_id         78 non-null float64\n",
      "in_reply_to_user_id           78 non-null float64\n",
      "timestamp                     2175 non-null object\n",
      "source                        2175 non-null object\n",
      "text                          2175 non-null object\n",
      "retweeted_status_id           0 non-null float64\n",
      "retweeted_status_user_id      0 non-null float64\n",
      "retweeted_status_timestamp    0 non-null object\n",
      "expanded_urls                 2117 non-null object\n",
      "rating_numerator              2175 non-null int64\n",
      "rating_denominator            2175 non-null int64\n",
      "name                          2175 non-null object\n",
      "doggo                         2175 non-null object\n",
      "floofer                       2175 non-null object\n",
      "pupper                        2175 non-null object\n",
      "puppo                         2175 non-null object\n",
      "dtypes: float64(4), int64(3), object(10)\n",
      "memory usage: 305.9+ KB\n"
     ]
    }
   ],
   "source": [
    "twitter_archive_clean.info()"
   ]
  },
  {
   "cell_type": "code",
   "execution_count": 662,
   "metadata": {},
   "outputs": [
    {
     "data": {
      "text/plain": [
       "False"
      ]
     },
     "execution_count": 662,
     "metadata": {},
     "output_type": "execute_result"
    }
   ],
   "source": [
    "is_index_in_dataframe(retweets.index, twitter_archive_clean)"
   ]
  },
  {
   "cell_type": "markdown",
   "metadata": {},
   "source": [
    "##### Quality issue 2, twitter_archive: some of the tweets are no longer on twitter so they need to be removed."
   ]
  },
  {
   "cell_type": "markdown",
   "metadata": {},
   "source": [
    "##### Define quality issue 2, twitter_archive\n",
    "\n",
    "The tweet_extra dataframe and the tweet_archive_clean dataframe have the same indexes for the same tweets, so I'll use the indexes of tweets with a value of is_valide_tweet equal to False in the tweet_extra dataframe to remove the tweets that are no longer on twitter. <br>\n",
    "I'll first define a dataframe with no valid tweets from the tweet_extra dataframe and then I'll use their indexes, if still in present in the partially cleaned dataframe, to remove them from twitter_archive_clean."
   ]
  },
  {
   "cell_type": "code",
   "execution_count": 663,
   "metadata": {},
   "outputs": [],
   "source": [
    "invalid_tweets = tweet_extra_clean[tweet_extra_clean.is_valid_tweet == False]"
   ]
  },
  {
   "cell_type": "code",
   "execution_count": 664,
   "metadata": {},
   "outputs": [],
   "source": [
    "### drop quoted tweets from twitter archive\n",
    "drop_row_if_index_in_df(invalid_tweets.index, twitter_archive_clean)"
   ]
  },
  {
   "cell_type": "code",
   "execution_count": 665,
   "metadata": {},
   "outputs": [],
   "source": [
    "### store indexes and tweet_id to remove\n",
    "add_indexes_and_ids_to_remove(invalid_tweets)"
   ]
  },
  {
   "cell_type": "markdown",
   "metadata": {},
   "source": [
    "#### Test quality issue 2, twitter_archive"
   ]
  },
  {
   "cell_type": "code",
   "execution_count": 666,
   "metadata": {},
   "outputs": [
    {
     "data": {
      "text/plain": [
       "2173"
      ]
     },
     "execution_count": 666,
     "metadata": {},
     "output_type": "execute_result"
    }
   ],
   "source": [
    "### check the number of rows\n",
    "twitter_archive_clean.shape[0]"
   ]
  },
  {
   "cell_type": "code",
   "execution_count": 667,
   "metadata": {},
   "outputs": [
    {
     "name": "stdout",
     "output_type": "stream",
     "text": [
      "False\n"
     ]
    }
   ],
   "source": [
    "### check no index in quoted_tweets is still in twitter_archive_clean\n",
    "print(is_index_in_dataframe(invalid_tweets.index, twitter_archive_clean))"
   ]
  },
  {
   "cell_type": "markdown",
   "metadata": {},
   "source": [
    "##### Quality issue 3, twitter_archive: some tweets don't contain a link to an image"
   ]
  },
  {
   "cell_type": "markdown",
   "metadata": {},
   "source": [
    "##### Define quality issue 3, twitter_archive\n",
    "\n",
    "Define a no_links dataframe of tweets not containing a link to an image, use the no_links dataframe to remove all the tweets with no link."
   ]
  },
  {
   "cell_type": "markdown",
   "metadata": {},
   "source": [
    "##### Code quality issue 3, twitter_archive"
   ]
  },
  {
   "cell_type": "code",
   "execution_count": 668,
   "metadata": {},
   "outputs": [],
   "source": [
    "no_links = twitter_archive_clean[~twitter_archive_clean.text.str.contains(\"https://t.co/\")]"
   ]
  },
  {
   "cell_type": "code",
   "execution_count": 669,
   "metadata": {},
   "outputs": [],
   "source": [
    "### store indexes and tweet_id to remove\n",
    "add_indexes_and_ids_to_remove(no_links)"
   ]
  },
  {
   "cell_type": "code",
   "execution_count": 670,
   "metadata": {},
   "outputs": [],
   "source": [
    "### drop tweets with no link\n",
    "twitter_archive_clean.drop(no_links.index, axis = 0, inplace = True)"
   ]
  },
  {
   "cell_type": "markdown",
   "metadata": {},
   "source": [
    "##### Test quality issue 3, twitter_archive"
   ]
  },
  {
   "cell_type": "code",
   "execution_count": 671,
   "metadata": {},
   "outputs": [
    {
     "name": "stdout",
     "output_type": "stream",
     "text": [
      "False\n"
     ]
    }
   ],
   "source": [
    "print(is_index_in_dataframe(no_links.index, twitter_archive_clean))"
   ]
  },
  {
   "cell_type": "code",
   "execution_count": 672,
   "metadata": {},
   "outputs": [
    {
     "data": {
      "text/plain": [
       "2115"
      ]
     },
     "execution_count": 672,
     "metadata": {},
     "output_type": "execute_result"
    }
   ],
   "source": [
    "twitter_archive_clean.shape[0]"
   ]
  },
  {
   "cell_type": "markdown",
   "metadata": {},
   "source": [
    "##### Quality Issue 4, twitter_archive: None values as strings in doggo, floofer, pupper and puppo columns."
   ]
  },
  {
   "cell_type": "markdown",
   "metadata": {},
   "source": [
    "##### Define quality issue 4, twitter_archive\n",
    "Use the replace functions on the dataframe to change the 'None' strings into NaN."
   ]
  },
  {
   "cell_type": "markdown",
   "metadata": {},
   "source": [
    "##### Code quality issue 4, twitter_archive"
   ]
  },
  {
   "cell_type": "code",
   "execution_count": 673,
   "metadata": {},
   "outputs": [],
   "source": [
    "## replace the string value None with np.NAN which is more useful, this will replace every \n",
    "#'None' string in all the dataframe, not only the doggo, floofer, pupper and puppo column.\n",
    "twitter_archive_clean.replace('None', np.nan, inplace=True)"
   ]
  },
  {
   "cell_type": "markdown",
   "metadata": {},
   "source": [
    "##### Test quality issue 4, twitter_archive"
   ]
  },
  {
   "cell_type": "code",
   "execution_count": 674,
   "metadata": {},
   "outputs": [
    {
     "name": "stdout",
     "output_type": "stream",
     "text": [
      "doggo    84\n",
      "Name: doggo, dtype: int64\n",
      "floofer    10\n",
      "Name: floofer, dtype: int64\n",
      "pupper    232\n",
      "Name: pupper, dtype: int64\n",
      "puppo    24\n",
      "Name: puppo, dtype: int64\n"
     ]
    }
   ],
   "source": [
    "### no more None strings\n",
    "print(twitter_archive_clean.doggo.value_counts())\n",
    "print(twitter_archive_clean.floofer.value_counts())\n",
    "print(twitter_archive_clean.pupper.value_counts())\n",
    "print(twitter_archive_clean.puppo.value_counts())"
   ]
  },
  {
   "cell_type": "code",
   "execution_count": 675,
   "metadata": {},
   "outputs": [
    {
     "name": "stdout",
     "output_type": "stream",
     "text": [
      "True\n",
      "True\n",
      "True\n",
      "True\n"
     ]
    }
   ],
   "source": [
    "### There are null values inside the columns now\n",
    "print(twitter_archive_clean.doggo.isnull().any())\n",
    "print(twitter_archive_clean.floofer.isnull().any())\n",
    "print(twitter_archive_clean.pupper.isnull().any())\n",
    "print(twitter_archive_clean.puppo.isnull().any())"
   ]
  },
  {
   "cell_type": "markdown",
   "metadata": {},
   "source": [
    "##### Quality issue 5, twitter_archive: the columns in_reply_to_status_id and in_reply_to_user_id are in float format, but they should be integers."
   ]
  },
  {
   "cell_type": "markdown",
   "metadata": {},
   "source": [
    "#### Define quality issue 5, twitter_archive\n",
    "Convert the columnsin_reply_to_status_id and in_reply_to_user_id with astype('Int64'). <br>\n",
    "Please note: support to sparse series of type Int64, allowing for NaN value in integer columns, is available only for pandas versions starting from 0.24."
   ]
  },
  {
   "cell_type": "markdown",
   "metadata": {},
   "source": [
    "##### Code quality issue 5, twitter_archive"
   ]
  },
  {
   "cell_type": "code",
   "execution_count": 676,
   "metadata": {},
   "outputs": [],
   "source": [
    "twitter_archive_clean['in_reply_to_status_id'] = twitter_archive_clean['in_reply_to_status_id'].astype('Int64')"
   ]
  },
  {
   "cell_type": "code",
   "execution_count": 677,
   "metadata": {},
   "outputs": [],
   "source": [
    "twitter_archive_clean['in_reply_to_user_id'] = twitter_archive_clean['in_reply_to_user_id'].astype('Int64')"
   ]
  },
  {
   "cell_type": "markdown",
   "metadata": {},
   "source": [
    "##### Test quality issue 5, twitter_archive"
   ]
  },
  {
   "cell_type": "code",
   "execution_count": 678,
   "metadata": {},
   "outputs": [
    {
     "name": "stdout",
     "output_type": "stream",
     "text": [
      "Int64\n",
      "Int64\n"
     ]
    }
   ],
   "source": [
    "#check the columns has been converted\n",
    "print(twitter_archive_clean.in_reply_to_status_id.dtype)\n",
    "print(twitter_archive_clean.in_reply_to_user_id.dtype)"
   ]
  },
  {
   "cell_type": "code",
   "execution_count": 679,
   "metadata": {},
   "outputs": [
    {
     "data": {
      "text/plain": [
       "667152164079423488    2\n",
       "691416866452082688    1\n",
       "759099523532779520    1\n",
       "675707330206547968    1\n",
       "746885919387574272    1\n",
       "855818117272018944    1\n",
       "703255935813287936    1\n",
       "684222868335505408    1\n",
       "671729906628341760    1\n",
       "670668383499735040    1\n",
       "667806454573760512    1\n",
       "674793399141146624    1\n",
       "729113531270991872    1\n",
       "674752233200820224    1\n",
       "684481074559381504    1\n",
       "675497103322386432    1\n",
       "703041949650034688    1\n",
       "675349384339542016    1\n",
       "733109485275860992    1\n",
       "671561002136281088    1\n",
       "692041934689402880    1\n",
       "674999807681908736    1\n",
       "Name: in_reply_to_status_id, dtype: int64"
      ]
     },
     "execution_count": 679,
     "metadata": {},
     "output_type": "execute_result"
    }
   ],
   "source": [
    "## check for correct appearance of values for the in_reply_to_status_id column\n",
    "twitter_archive_clean.in_reply_to_status_id.value_counts()"
   ]
  },
  {
   "cell_type": "code",
   "execution_count": 680,
   "metadata": {},
   "outputs": [
    {
     "data": {
      "text/plain": [
       "4196983835    23\n",
       "Name: in_reply_to_user_id, dtype: int64"
      ]
     },
     "execution_count": 680,
     "metadata": {},
     "output_type": "execute_result"
    }
   ],
   "source": [
    "#check for correct appearance of values for the in_reply_to_user_id column\n",
    "twitter_archive_clean.in_reply_to_user_id.value_counts()"
   ]
  },
  {
   "cell_type": "markdown",
   "metadata": {},
   "source": [
    "##### Quality issue 6, twitter_archive: the timestamp columns is an object of type string, it should be datetime object"
   ]
  },
  {
   "cell_type": "markdown",
   "metadata": {},
   "source": [
    "##### Define quality issue 6, twitter_archive\n",
    "Apply the pandas function to_datetime to the timestamp column and assign it again to the timestamp column in the twitter_archive_clean dataframe."
   ]
  },
  {
   "cell_type": "markdown",
   "metadata": {},
   "source": [
    "#### Code quality issue 6, twitter_archive"
   ]
  },
  {
   "cell_type": "code",
   "execution_count": 681,
   "metadata": {},
   "outputs": [],
   "source": [
    "twitter_archive_clean['timestamp'] = pd.to_datetime(twitter_archive_clean['timestamp'])"
   ]
  },
  {
   "cell_type": "markdown",
   "metadata": {},
   "source": [
    "##### Test quality issue 6, twitter_archive"
   ]
  },
  {
   "cell_type": "code",
   "execution_count": 682,
   "metadata": {},
   "outputs": [
    {
     "name": "stdout",
     "output_type": "stream",
     "text": [
      "datetime64[ns, UTC]\n"
     ]
    }
   ],
   "source": [
    "print(twitter_archive_clean.timestamp.dtype)"
   ]
  },
  {
   "cell_type": "code",
   "execution_count": 683,
   "metadata": {},
   "outputs": [
    {
     "data": {
      "text/plain": [
       "0   2017-08-01 16:23:56+00:00\n",
       "1   2017-08-01 00:17:27+00:00\n",
       "2   2017-07-31 00:18:03+00:00\n",
       "3   2017-07-30 15:58:51+00:00\n",
       "4   2017-07-29 16:00:24+00:00\n",
       "Name: timestamp, dtype: datetime64[ns, UTC]"
      ]
     },
     "execution_count": 683,
     "metadata": {},
     "output_type": "execute_result"
    }
   ],
   "source": [
    "twitter_archive_clean.timestamp.head()"
   ]
  },
  {
   "cell_type": "markdown",
   "metadata": {},
   "source": [
    "##### Quality issue 7, twitter_archive: the source column contains useless hmtl tags that make diffucult to read the content of the cell and aren't informative"
   ]
  },
  {
   "cell_type": "markdown",
   "metadata": {},
   "source": [
    "##### Define quality issue 7, twitter_archive\n",
    "\n",
    "Create a replace_source for replacing the verbose descriptions in the source column with more compact ones, apply the function to the column source and assingn it to the source column in the dataframe."
   ]
  },
  {
   "cell_type": "markdown",
   "metadata": {},
   "source": [
    "##### Code quality issue 7, twitter_archive"
   ]
  },
  {
   "cell_type": "code",
   "execution_count": 684,
   "metadata": {},
   "outputs": [],
   "source": [
    "def replace_source(source):\n",
    "    '''\n",
    "    Return the source of a tweet from a string containing one\n",
    "    of the four sources for a tweet:\n",
    "    - \"Twitter for iPhone\"\n",
    "    - \"Vine - Make a Scene\"\n",
    "    - \"Twitter Web Client\"\n",
    "    - \"TweetDeck\"\n",
    "    If none of the four sources is present, return np.nan\n",
    "\n",
    "    '''\n",
    "    iphone = \"Twitter for iPhone\"\n",
    "    vine = \"Vine - Make a Scene\"\n",
    "    web_client = \"Twitter Web Client\"\n",
    "    tweet_deck = \"TweetDeck\"\n",
    "    if iphone in source:\n",
    "        return iphone\n",
    "    elif vine in source:\n",
    "        return vine\n",
    "    elif web_client in source:\n",
    "        return web_client\n",
    "    elif tweet_deck in source:\n",
    "        return tweet_deck\n",
    "    else:\n",
    "        return np.nan"
   ]
  },
  {
   "cell_type": "code",
   "execution_count": 685,
   "metadata": {},
   "outputs": [],
   "source": [
    "### replace the the strings in source with theri significant part about the source\n",
    "twitter_archive_clean['source'] = twitter_archive_clean.source.apply(replace_source)"
   ]
  },
  {
   "cell_type": "markdown",
   "metadata": {},
   "source": [
    "##### Test quality issue 7, twitter_archive"
   ]
  },
  {
   "cell_type": "code",
   "execution_count": 686,
   "metadata": {},
   "outputs": [
    {
     "data": {
      "text/plain": [
       "Twitter for iPhone     1984\n",
       "Vine - Make a Scene      91\n",
       "Twitter Web Client       30\n",
       "TweetDeck                10\n",
       "Name: source, dtype: int64"
      ]
     },
     "execution_count": 686,
     "metadata": {},
     "output_type": "execute_result"
    }
   ],
   "source": [
    "### check the conversion has been effective\n",
    "twitter_archive_clean.source.value_counts()"
   ]
  },
  {
   "cell_type": "markdown",
   "metadata": {},
   "source": [
    "##### Quality issue 8, twitter_archive: inconsistency in scores in rating_numerator and rating denominator (scores not in tenth, invalid scores and errors)."
   ]
  },
  {
   "cell_type": "markdown",
   "metadata": {},
   "source": [
    "##### Define quality issue 8, twitter_archive\n",
    "\n",
    "Define a wrong_denominators dataframe for scores with denominator different from 10 and a dataframe very_high for very high values for scores. Visually inspect the dataframes and correct the wrong values in the rating_numerator and rating_denominator column. <br>\n",
    "Every score not in the tenth will be normalized to tenth. Example 88/80 becomes --> 11/10. <br>\n",
    "In this phase I'll change both rating_numerator and rating_denominator column, even if in a later section I'll drop the\n",
    "rating_denominator column, in order to test that every incorrect value has been removed. <br>\n",
    "Considering I've cancelled many rows in the previous cleaning sections, I'll print again in this section the text of the tweets to inspect to make clear the reasoning behind my decisions. <br>"
   ]
  },
  {
   "cell_type": "markdown",
   "metadata": {},
   "source": [
    "##### Code quality issue 8, twitter_archive"
   ]
  },
  {
   "cell_type": "code",
   "execution_count": 687,
   "metadata": {},
   "outputs": [],
   "source": [
    "wrong_denominators = twitter_archive_clean[twitter_archive_clean.rating_denominator != 10]"
   ]
  },
  {
   "cell_type": "code",
   "execution_count": 688,
   "metadata": {},
   "outputs": [
    {
     "name": "stdout",
     "output_type": "stream",
     "text": [
      "433 The floofs have been released I repeat the floofs have been released. 84/70 https://t.co/NIYC820tmd\n",
      "516 Meet Sam. She smiles 24/7 &amp; secretly aspires to be a reindeer. \n",
      "Keep Sam smiling by clicking and sharing this link:\n",
      "https://t.co/98tB8y7y7t https://t.co/LouL5vdvxx\n",
      "902 Why does this never happen at my front door... 165/150 https://t.co/HmwrdfEfUE\n",
      "1068 After so many requests, this is Bretagne. She was the last surviving 9/11 search dog, and our second ever 14/10. RIP https://t.co/XAVDNDaVgQ\n",
      "1120 Say hello to this unbelievably well behaved squad of doggos. 204/170 would try to pet all at once https://t.co/yGQI3He3xv\n",
      "1165 Happy 4/20 from the squad! 13/10 for all https://t.co/eV1diwds8a\n",
      "1202 This is Bluebert. He just saw that both #FinalFur match ups are split 50/50. Amazed af. 11/10 https://t.co/Kky1DPG4iq\n",
      "1228 Happy Saturday here's 9 puppers on a bench. 99/90 good work everybody https://t.co/mpvaVxKmc1\n",
      "1254 Here's a brigade of puppers. All look very prepared for whatever happens next. 80/80 https://t.co/0eb7R1Om12\n",
      "1274 From left to right:\n",
      "Cletus, Jerome, Alejandro, Burp, &amp; Titson\n",
      "None know where camera is. 45/50 would hug all at once https://t.co/sedre1ivTK\n",
      "1351 Here is a whole flock of puppers.  60/50 I'll take the lot https://t.co/9dpcw6MdWa\n",
      "1433 Happy Wednesday here's a bucket of pups. 44/40 would pet all at once https://t.co/HppvrYuamZ\n",
      "1634 Two sneaky puppers were not initially seen, moving the rating to 143/130. Please forgive us. Thank you https://t.co/kRK51Y5ac3\n",
      "1635 Someone help the girl is being mugged. Several are distracting her while two steal her shoes. Clever puppers 121/110 https://t.co/1zfnTJLt55\n",
      "1662 This is Darrel. He just robbed a 7/11 and is in a high speed police chase. Was just spotted by the helicopter 10/10 https://t.co/7EsP8LmSp5\n",
      "1779 IT'S PUPPERGEDDON. Total of 144/120 ...I think https://t.co/ZanVtAtvIq\n",
      "1843 Here we have an entire platoon of puppers. Total score: 88/80 would pet all at once https://t.co/y93p6FLvVw\n",
      "2335 This is an Albanian 3 1/2 legged  Episcopalian. Loves well-polished hardwood flooring. Penis on the collar. 9/10 https://t.co/d9NcXFKwLv\n"
     ]
    }
   ],
   "source": [
    "for index, row in wrong_denominators.iterrows():\n",
    "    print(str(index) + \" \" + row.text)"
   ]
  },
  {
   "cell_type": "markdown",
   "metadata": {},
   "source": [
    "433 --> 84/70 , the normalized score is 12/10. <br>\n",
    "516 --> no score, remove <br>\n",
    "902---> 165/150, the normalized score is 110/10 <br>\n",
    "1068 --> 14/10 <br>\n",
    "1120 --> 204/170, the normalized score is 12/10 <br>\n",
    "1165 --> 13/ 10 <br>\n",
    "1202 --> 11/10 <br>\n",
    "1228 --> 99/90 normalized score is 11/10<br>\n",
    "1254 -->80/80 normalized score si 10/10<br>\n",
    "1274 --> 45/50 normalized score is 9/10<br>\n",
    "1351 --> 60/50 --> normalized score is 12/10 <br>\n",
    "1433 --> 44/40 normalized score is 11/10<br>\n",
    "1634 --> 143/130, normalized score is 11/10<br>\n",
    "1635 --> 121/110, normalized score is 11/10<br>\n",
    "1662 --> the real score is 10/10 (7/10 stands for seven eleven, a store name).<br>\n",
    "1779 ---> 144/120, the normalized score is 12/10<br>\n",
    "1843 --> 88/80, the normalized score is 11/10<br>\n",
    "2335 ---> the real score is 9/10"
   ]
  },
  {
   "cell_type": "code",
   "execution_count": 689,
   "metadata": {},
   "outputs": [
    {
     "name": "stderr",
     "output_type": "stream",
     "text": [
      "C:\\Users\\Tundra\\Anaconda3\\lib\\site-packages\\pandas\\core\\indexing.py:190: SettingWithCopyWarning: \n",
      "A value is trying to be set on a copy of a slice from a DataFrame\n",
      "\n",
      "See the caveats in the documentation: http://pandas.pydata.org/pandas-docs/stable/indexing.html#indexing-view-versus-copy\n",
      "  self._setitem_with_indexer(indexer, value)\n"
     ]
    }
   ],
   "source": [
    "### assign the correct values for denominators and numerators\n",
    "twitter_archive_clean['rating_denominator'].loc[[433,902, 1068,1120, 1165, 1202, 1228, 1254, 1274, 1351,\n",
    "                                             1433, 1634, 1635, 1662, 1779, 1843, 2335]] = 10\n",
    "twitter_archive_clean['rating_numerator'].loc[[433,1120,1351, 1779]] = 12\n",
    "twitter_archive_clean['rating_numerator'].loc[902] = 110\n",
    "twitter_archive_clean['rating_numerator'].loc[1068] = 14\n",
    "twitter_archive_clean['rating_numerator'].loc[1165] = 13\n",
    "twitter_archive_clean['rating_numerator'].loc[[1202, 1228, 1433, 1634, 1635,1843]] = 11\n",
    "twitter_archive_clean['rating_numerator'].loc[[1254, 1662 ]] = 10\n",
    "twitter_archive_clean['rating_numerator'].loc[[1274, 2335]] = 9"
   ]
  },
  {
   "cell_type": "code",
   "execution_count": 690,
   "metadata": {},
   "outputs": [],
   "source": [
    "## add index 516 and its tweet_id to the set of tweet to remove\n",
    "indexes_to_remove.add(516)\n",
    "tweet_ids_to_remove.add(516)"
   ]
  },
  {
   "cell_type": "code",
   "execution_count": 691,
   "metadata": {},
   "outputs": [],
   "source": [
    "#### remove row with index 516\n",
    "twitter_archive_clean.drop(516, axis = 0, inplace=True)"
   ]
  },
  {
   "cell_type": "code",
   "execution_count": 692,
   "metadata": {},
   "outputs": [],
   "source": [
    "### Let's now look at values very high\n",
    "very_high = twitter_archive_clean[twitter_archive_clean.rating_numerator > 14]"
   ]
  },
  {
   "cell_type": "code",
   "execution_count": 693,
   "metadata": {},
   "outputs": [
    {
     "data": {
      "text/plain": [
       "(6, 17)"
      ]
     },
     "execution_count": 693,
     "metadata": {},
     "output_type": "execute_result"
    }
   ],
   "source": [
    "very_high.shape"
   ]
  },
  {
   "cell_type": "code",
   "execution_count": 694,
   "metadata": {},
   "outputs": [
    {
     "name": "stdout",
     "output_type": "stream",
     "text": [
      "695 : This is Logan, the Chow who lived. He solemnly swears he's up to lots of good. H*ckin magical af 9.75/10 https://t.co/yBO5wuqaPS - numerator : 75\n",
      "763 : This is Sophie. She's a Jubilant Bush Pupper. Super h*ckin rare. Appears at random just to smile at the locals. 11.27/10 would smile back https://t.co/QFaUiIHxHq - numerator : 27\n",
      "902 : Why does this never happen at my front door... 165/150 https://t.co/HmwrdfEfUE - numerator : 110\n",
      "979 : This is Atticus. He's quite simply America af. 1776/10 https://t.co/GRXwMxLBkh - numerator : 1776\n",
      "1712 : Here we have uncovered an entire battalion of holiday puppers. Average of 11.26/10 https://t.co/eNm2S6p9BD - numerator : 26\n",
      "2074 : After so many requests... here you go.\n",
      "\n",
      "Good dogg. 420/10 https://t.co/yfAAo1gdeY - numerator : 420\n"
     ]
    }
   ],
   "source": [
    "for index, row in very_high.iterrows():\n",
    "    print(str(index) + \" : \" + row.text + \" - numerator : \" + str(row.rating_numerator))"
   ]
  },
  {
   "cell_type": "markdown",
   "metadata": {},
   "source": [
    "695 --> incorrect transcriptions of the score --> 9.75 will be rounded to 10 (although this is a reference to Harry Potter and to the platform 9 and 3/4, as it is clear looking at the picture and reading the text, it is still expressed as a score, so I'll keep it as valid score, but I'll normalize it) <br>\n",
    "763 --> incorrect transcriptions of the score --> 11.27 will be rounded to 11 <br>\n",
    "902 --> correct, it has been already normalized <br>\n",
    "979 --> very high, but correct. <br>\n",
    "1712 --> incorrect transcriptions of the score --> 11.26 will be rounded to 11 <br>\n",
    "2074 --> This is the image of the singer Snoop Dogg and not a real dog, there are many jokes on WeRateDogs, but I think that is better, for copyright reason (who posted the tweet isn't certainly the owner of the picture) and for respect to the singer, to remove this image."
   ]
  },
  {
   "cell_type": "code",
   "execution_count": 695,
   "metadata": {},
   "outputs": [],
   "source": [
    "twitter_archive_clean.rating_numerator.loc[695] = 10\n",
    "twitter_archive_clean.rating_numerator.loc[[763,1712]] = 11"
   ]
  },
  {
   "cell_type": "code",
   "execution_count": 696,
   "metadata": {},
   "outputs": [],
   "source": [
    "### storing index and tweet_id of the row to delete\n",
    "indexes_to_remove.add(2074)\n",
    "tweet_ids_to_remove.add(2074)"
   ]
  },
  {
   "cell_type": "code",
   "execution_count": 697,
   "metadata": {},
   "outputs": [],
   "source": [
    "twitter_archive_clean.drop(2074, axis = 0, inplace = True)"
   ]
  },
  {
   "cell_type": "markdown",
   "metadata": {},
   "source": [
    "##### Test quality issue 8, twitter_archive"
   ]
  },
  {
   "cell_type": "code",
   "execution_count": 698,
   "metadata": {},
   "outputs": [
    {
     "data": {
      "text/plain": [
       "10    2113\n",
       "Name: rating_denominator, dtype: int64"
      ]
     },
     "execution_count": 698,
     "metadata": {},
     "output_type": "execute_result"
    }
   ],
   "source": [
    "#### testing all the rating_denominator values have a value of 10\n",
    "twitter_archive_clean.rating_denominator.value_counts()"
   ]
  },
  {
   "cell_type": "code",
   "execution_count": 699,
   "metadata": {
    "scrolled": true
   },
   "outputs": [],
   "source": [
    "#### testing the rating_numerator values has been changed to the correct values\n",
    "for index in [433,1120,1351, 1779]:\n",
    "    assert twitter_archive_clean.rating_numerator.loc[index] == 12\n",
    "    \n",
    "assert twitter_archive_clean.rating_numerator.loc[902] == 110\n",
    "assert twitter_archive_clean['rating_numerator'].loc[1068] == 14\n",
    "assert twitter_archive_clean['rating_numerator'].loc[1165] == 13\n",
    "for index in [763, 1202, 1228, 1433, 1634, 1635,1712, 1843]:\n",
    "    assert twitter_archive_clean.rating_numerator.loc[index] == 11\n",
    "for index in [695, 1254, 1662 ]:\n",
    "    assert twitter_archive_clean.rating_numerator.loc[index] == 10\n",
    "for index in [1274, 2335]:\n",
    "    assert twitter_archive_clean.rating_numerator.loc[index] == 9\n"
   ]
  },
  {
   "cell_type": "code",
   "execution_count": 700,
   "metadata": {},
   "outputs": [
    {
     "data": {
      "text/plain": [
       "2113"
      ]
     },
     "execution_count": 700,
     "metadata": {},
     "output_type": "execute_result"
    }
   ],
   "source": [
    "twitter_archive_clean.shape[0]"
   ]
  },
  {
   "cell_type": "code",
   "execution_count": 701,
   "metadata": {},
   "outputs": [],
   "source": [
    "### testing rows 516 and 2074 are no more in index\n",
    "assert (516 in twitter_archive_clean.index) == False\n",
    "assert (2074 in twitter_archive_clean.index) == False"
   ]
  },
  {
   "cell_type": "markdown",
   "metadata": {},
   "source": [
    "##### Quality issue 9, twitter_archive: The name column with the name of the dogs contain wrong names, some names are  just \"a\", \"an\" or \"the\"."
   ]
  },
  {
   "cell_type": "markdown",
   "metadata": {},
   "source": [
    "##### Define quality issue 9, twitter_archive\n",
    "I have visually inspected the rows with the wrong names and created a dictionary of correct names with the row correpsonding to the name.  I'll first set every row with wrong names to null, I'll then\n",
    "Select the rows with a name of 'a' , 'an' or \"the\" from the twitter_archive_clean dataframe and replace the wrong value with None."
   ]
  },
  {
   "cell_type": "markdown",
   "metadata": {},
   "source": [
    "##### Code quality issue 9, twitter_archive"
   ]
  },
  {
   "cell_type": "code",
   "execution_count": 702,
   "metadata": {},
   "outputs": [],
   "source": [
    "wrong_names = twitter_archive_clean[(twitter_archive_clean.name == 'a') | (twitter_archive_clean.name == 'an') \\\n",
    "                           | (twitter_archive_clean.name == 'the')]"
   ]
  },
  {
   "cell_type": "code",
   "execution_count": 703,
   "metadata": {},
   "outputs": [],
   "source": [
    "dog_names = {649: 'Forrest', 1853: 'Wylie', 1955: 'Kip', 2034: 'Jacob', 2066: 'Rufus', 2116: 'Spork', 2125: 'Cherokee',\n",
    "         2128: 'Hemry', 2146: 'Alphred', 2161: 'Alfredo', 2191: 'Leroi', 2204: 'Berta', 2218: 'Chuk',\n",
    "         2235: 'Alfonso', 2249: 'Cheryl', 2255: 'Jessiga', 2264: 'Klint', 2273: 'Kohl', 2287: 'Daryl',\n",
    "         2304: 'Pepe', 2311: 'Octaviath', 2314: 'Johm'}"
   ]
  },
  {
   "cell_type": "code",
   "execution_count": 704,
   "metadata": {},
   "outputs": [
    {
     "name": "stderr",
     "output_type": "stream",
     "text": [
      "C:\\Users\\Tundra\\Anaconda3\\lib\\site-packages\\ipykernel_launcher.py:5: SettingWithCopyWarning: \n",
      "A value is trying to be set on a copy of a slice from a DataFrame\n",
      "\n",
      "See the caveats in the documentation: http://pandas.pydata.org/pandas-docs/stable/indexing.html#indexing-view-versus-copy\n",
      "  \"\"\"\n",
      "C:\\Users\\Tundra\\Anaconda3\\lib\\site-packages\\ipykernel_launcher.py:3: SettingWithCopyWarning: \n",
      "A value is trying to be set on a copy of a slice from a DataFrame\n",
      "\n",
      "See the caveats in the documentation: http://pandas.pydata.org/pandas-docs/stable/indexing.html#indexing-view-versus-copy\n",
      "  This is separate from the ipykernel package so we can avoid doing imports until\n"
     ]
    }
   ],
   "source": [
    "for index, row in wrong_names.iterrows():\n",
    "    if index in dog_names:\n",
    "        twitter_archive_clean.name[index] = dog_names[index]\n",
    "    else:\n",
    "        twitter_archive_clean.name[index] = np.nan"
   ]
  },
  {
   "cell_type": "markdown",
   "metadata": {},
   "source": [
    "##### Test quality issue 9, twitter_archive"
   ]
  },
  {
   "cell_type": "code",
   "execution_count": 705,
   "metadata": {},
   "outputs": [
    {
     "name": "stdout",
     "output_type": "stream",
     "text": [
      "0\n"
     ]
    }
   ],
   "source": [
    "### check no row has a value equal to \"a\", \"an\" or \"the\"\n",
    "print(twitter_archive_clean[(twitter_archive_clean.name == 'a') | (twitter_archive_clean.name == 'an') \\\n",
    "                           | (twitter_archive_clean.name == 'the')].shape[0])"
   ]
  },
  {
   "cell_type": "code",
   "execution_count": 706,
   "metadata": {},
   "outputs": [],
   "source": [
    "### check the dogs have the correct names now\n",
    "for index in dog_names:\n",
    "     assert twitter_archive_clean.name[index] == dog_names[index]"
   ]
  },
  {
   "cell_type": "markdown",
   "metadata": {},
   "source": [
    "#### Tidiness issue 1, twitter_archive:  there are four  columns describing the stage of the dog, they can be reduced to one"
   ]
  },
  {
   "cell_type": "markdown",
   "metadata": {},
   "source": [
    "##### Define tidiness issue 1, twitter_archive"
   ]
  },
  {
   "cell_type": "markdown",
   "metadata": {},
   "source": [
    "Create a pandas series with all the indexes of rows with more than one dog stage for the tweet(for example: doggo and pupper), select the tweets from twitter_archive with those indexs and visually inspect the text of the tweets to check\n",
    "if there are really two stage (like in a picture of two dogs). <br>\n",
    "Combine the doggo, floofer, pupper and puppo column and assign the result to a new dog_stage column in the twitter_archive_clean dataframe, this will work fine for every row with just one stage, but need to be corrected for rows with more than one stage. <br>\n",
    "Manually change the values for rows that contain 2 stages, after visual assessment."
   ]
  },
  {
   "cell_type": "markdown",
   "metadata": {},
   "source": [
    "##### Code tidiness issue 1, twitter_archive"
   ]
  },
  {
   "cell_type": "code",
   "execution_count": 707,
   "metadata": {},
   "outputs": [],
   "source": [
    "#convert the columns with the dog stage to int values\n",
    "doggos_clean = twitter_archive_clean.doggo.notnull().astype('int64')\n",
    "floofer_clean = twitter_archive_clean.floofer.notnull().astype('int64')\n",
    "puppo_clean = twitter_archive_clean.puppo.notnull().astype('int64')\n",
    "pupper_clean = twitter_archive_clean.pupper.notnull().astype('int64')"
   ]
  },
  {
   "cell_type": "code",
   "execution_count": 708,
   "metadata": {},
   "outputs": [],
   "source": [
    "### sum all the columns\n",
    "dog_sum_clean = doggos_clean + floofer_clean + puppo_clean +  pupper_clean"
   ]
  },
  {
   "cell_type": "code",
   "execution_count": 709,
   "metadata": {},
   "outputs": [
    {
     "data": {
      "text/plain": [
       "0    1775\n",
       "1     326\n",
       "2      12\n",
       "dtype: int64"
      ]
     },
     "execution_count": 709,
     "metadata": {},
     "output_type": "execute_result"
    }
   ],
   "source": [
    "## show how many rows have more than one stage in the cleaned dataframe\n",
    "dog_sum_clean.value_counts()"
   ]
  },
  {
   "cell_type": "code",
   "execution_count": 710,
   "metadata": {},
   "outputs": [
    {
     "data": {
      "text/html": [
       "<div>\n",
       "<style scoped>\n",
       "    .dataframe tbody tr th:only-of-type {\n",
       "        vertical-align: middle;\n",
       "    }\n",
       "\n",
       "    .dataframe tbody tr th {\n",
       "        vertical-align: top;\n",
       "    }\n",
       "\n",
       "    .dataframe thead th {\n",
       "        text-align: right;\n",
       "    }\n",
       "</style>\n",
       "<table border=\"1\" class=\"dataframe\">\n",
       "  <thead>\n",
       "    <tr style=\"text-align: right;\">\n",
       "      <th></th>\n",
       "      <th>doggo</th>\n",
       "      <th>floofer</th>\n",
       "      <th>pupper</th>\n",
       "      <th>puppo</th>\n",
       "    </tr>\n",
       "  </thead>\n",
       "  <tbody>\n",
       "    <tr>\n",
       "      <th>191</th>\n",
       "      <td>doggo</td>\n",
       "      <td>NaN</td>\n",
       "      <td>NaN</td>\n",
       "      <td>puppo</td>\n",
       "    </tr>\n",
       "    <tr>\n",
       "      <th>200</th>\n",
       "      <td>doggo</td>\n",
       "      <td>floofer</td>\n",
       "      <td>NaN</td>\n",
       "      <td>NaN</td>\n",
       "    </tr>\n",
       "    <tr>\n",
       "      <th>460</th>\n",
       "      <td>doggo</td>\n",
       "      <td>NaN</td>\n",
       "      <td>pupper</td>\n",
       "      <td>NaN</td>\n",
       "    </tr>\n",
       "    <tr>\n",
       "      <th>531</th>\n",
       "      <td>doggo</td>\n",
       "      <td>NaN</td>\n",
       "      <td>pupper</td>\n",
       "      <td>NaN</td>\n",
       "    </tr>\n",
       "    <tr>\n",
       "      <th>565</th>\n",
       "      <td>doggo</td>\n",
       "      <td>NaN</td>\n",
       "      <td>pupper</td>\n",
       "      <td>NaN</td>\n",
       "    </tr>\n",
       "    <tr>\n",
       "      <th>575</th>\n",
       "      <td>doggo</td>\n",
       "      <td>NaN</td>\n",
       "      <td>pupper</td>\n",
       "      <td>NaN</td>\n",
       "    </tr>\n",
       "    <tr>\n",
       "      <th>705</th>\n",
       "      <td>doggo</td>\n",
       "      <td>NaN</td>\n",
       "      <td>pupper</td>\n",
       "      <td>NaN</td>\n",
       "    </tr>\n",
       "    <tr>\n",
       "      <th>733</th>\n",
       "      <td>doggo</td>\n",
       "      <td>NaN</td>\n",
       "      <td>pupper</td>\n",
       "      <td>NaN</td>\n",
       "    </tr>\n",
       "    <tr>\n",
       "      <th>889</th>\n",
       "      <td>doggo</td>\n",
       "      <td>NaN</td>\n",
       "      <td>pupper</td>\n",
       "      <td>NaN</td>\n",
       "    </tr>\n",
       "    <tr>\n",
       "      <th>956</th>\n",
       "      <td>doggo</td>\n",
       "      <td>NaN</td>\n",
       "      <td>pupper</td>\n",
       "      <td>NaN</td>\n",
       "    </tr>\n",
       "    <tr>\n",
       "      <th>1063</th>\n",
       "      <td>doggo</td>\n",
       "      <td>NaN</td>\n",
       "      <td>pupper</td>\n",
       "      <td>NaN</td>\n",
       "    </tr>\n",
       "    <tr>\n",
       "      <th>1113</th>\n",
       "      <td>doggo</td>\n",
       "      <td>NaN</td>\n",
       "      <td>pupper</td>\n",
       "      <td>NaN</td>\n",
       "    </tr>\n",
       "  </tbody>\n",
       "</table>\n",
       "</div>"
      ],
      "text/plain": [
       "      doggo  floofer  pupper  puppo\n",
       "191   doggo      NaN     NaN  puppo\n",
       "200   doggo  floofer     NaN    NaN\n",
       "460   doggo      NaN  pupper    NaN\n",
       "531   doggo      NaN  pupper    NaN\n",
       "565   doggo      NaN  pupper    NaN\n",
       "575   doggo      NaN  pupper    NaN\n",
       "705   doggo      NaN  pupper    NaN\n",
       "733   doggo      NaN  pupper    NaN\n",
       "889   doggo      NaN  pupper    NaN\n",
       "956   doggo      NaN  pupper    NaN\n",
       "1063  doggo      NaN  pupper    NaN\n",
       "1113  doggo      NaN  pupper    NaN"
      ]
     },
     "execution_count": 710,
     "metadata": {},
     "output_type": "execute_result"
    }
   ],
   "source": [
    "## show the columns with more than one stage\n",
    "twitter_archive_clean[dog_sum_clean > 1][['doggo', 'floofer', 'pupper', 'puppo']]"
   ]
  },
  {
   "cell_type": "markdown",
   "metadata": {},
   "source": [
    "For clarity, Ill' show the results of the visual assessment of the cleaned dataframe, on the left the row index.<br>\n",
    "The text for all these tweets has already been shown in the assessment section: <br>\n",
    "191--> puppo <br>\n",
    "200 --> doggo <br>\n",
    "460 --> pupper <br>\n",
    "531 --> doggo + pupper <br>\n",
    "565 --> doggo + pupper <br>\n",
    "575 --> pupper <br>\n",
    "705 --> it isn't a dog, it is a hedgehog , I'll set up this to null, no dog stage here.<br>\n",
    "733 --> doggo + pupper <br>\n",
    "889 --> doggo + pupper <br>\n",
    "956 --> The text of this tweet doesn't really assess the stage of the dog, it invites to stop to post pictures without dogs in it, so I'll set this to null<br>\n",
    "1063 --> doggo + pupper <br>\n",
    "1113 --> doggo + pupper"
   ]
  },
  {
   "cell_type": "code",
   "execution_count": 711,
   "metadata": {},
   "outputs": [],
   "source": [
    "### combine all the nulll elements in one column with element not null from the other columns.\n",
    "## The order of precendence is the following: doggo > floofer > pupper > puppo,\n",
    "## so if a column = doggo + pupper , doggo prevails.\n",
    "### This is important only for columns with 2 values: they are only 14 and will be cleaned manually\n",
    "dog_stage = twitter_archive_clean.doggo.combine_first(twitter_archive_clean.floofer).\\\n",
    "combine_first(twitter_archive_clean.pupper).combine_first(twitter_archive_clean.puppo)"
   ]
  },
  {
   "cell_type": "code",
   "execution_count": 712,
   "metadata": {},
   "outputs": [],
   "source": [
    "### assign the correct values, row at index 200 has already the correct value after combining the columns\n",
    "dog_stage[191] = 'puppo'\n",
    "dog_stage[[460, 575]] = 'pupper'\n",
    "dog_stage[[531, 565, 733, 889, 1063, 1113]] = 'doggo + pupper'\n",
    "dog_stage[[705,956]] = np.nan"
   ]
  },
  {
   "cell_type": "code",
   "execution_count": 713,
   "metadata": {},
   "outputs": [],
   "source": [
    "### create the dog_stage column in twitter_archive_clean\n",
    "twitter_archive_clean['dog_stage'] = dog_stage"
   ]
  },
  {
   "cell_type": "code",
   "execution_count": 714,
   "metadata": {},
   "outputs": [],
   "source": [
    "#### finally drop the doggo, floofer, pupper and puppo column"
   ]
  },
  {
   "cell_type": "code",
   "execution_count": 715,
   "metadata": {},
   "outputs": [],
   "source": [
    "twitter_archive_clean.drop(['doggo', 'floofer', 'pupper', 'puppo'], axis = 1, inplace=True)"
   ]
  },
  {
   "cell_type": "markdown",
   "metadata": {},
   "source": [
    "##### Test tidiness issue 1, twitter_archive"
   ]
  },
  {
   "cell_type": "code",
   "execution_count": 716,
   "metadata": {},
   "outputs": [
    {
     "name": "stdout",
     "output_type": "stream",
     "text": [
      "<class 'pandas.core.frame.DataFrame'>\n",
      "Int64Index: 2113 entries, 0 to 2355\n",
      "Data columns (total 14 columns):\n",
      "tweet_id                      2113 non-null int64\n",
      "in_reply_to_status_id         23 non-null Int64\n",
      "in_reply_to_user_id           23 non-null Int64\n",
      "timestamp                     2113 non-null datetime64[ns, UTC]\n",
      "source                        2113 non-null object\n",
      "text                          2113 non-null object\n",
      "retweeted_status_id           0 non-null float64\n",
      "retweeted_status_user_id      0 non-null float64\n",
      "retweeted_status_timestamp    0 non-null float64\n",
      "expanded_urls                 2113 non-null object\n",
      "rating_numerator              2113 non-null int64\n",
      "rating_denominator            2113 non-null int64\n",
      "name                          1445 non-null object\n",
      "dog_stage                     336 non-null object\n",
      "dtypes: Int64(2), datetime64[ns, UTC](1), float64(3), int64(3), object(5)\n",
      "memory usage: 331.7+ KB\n"
     ]
    }
   ],
   "source": [
    "### check there is a dog_stage column\n",
    "twitter_archive_clean.info()"
   ]
  },
  {
   "cell_type": "code",
   "execution_count": 717,
   "metadata": {},
   "outputs": [
    {
     "data": {
      "text/plain": [
       "pupper            224\n",
       "doggo              73\n",
       "puppo              24\n",
       "floofer             9\n",
       "doggo + pupper      6\n",
       "Name: dog_stage, dtype: int64"
      ]
     },
     "execution_count": 717,
     "metadata": {},
     "output_type": "execute_result"
    }
   ],
   "source": [
    "### check the values in the dog_stage column, there should be a new value doggo + pupper\n",
    "twitter_archive_clean.dog_stage.value_counts()"
   ]
  },
  {
   "cell_type": "code",
   "execution_count": 718,
   "metadata": {},
   "outputs": [
    {
     "data": {
      "text/plain": [
       "531     True\n",
       "565     True\n",
       "733     True\n",
       "889     True\n",
       "1063    True\n",
       "1113    True\n",
       "Name: dog_stage, dtype: bool"
      ]
     },
     "execution_count": 718,
     "metadata": {},
     "output_type": "execute_result"
    }
   ],
   "source": [
    "### check the correct values has been assigned to the column dog_stage in  twitter_archive_clean\n",
    "twitter_archive_clean.dog_stage[[531, 565, 733, 889, 1063, 1113]] == 'doggo + pupper'"
   ]
  },
  {
   "cell_type": "code",
   "execution_count": 719,
   "metadata": {},
   "outputs": [
    {
     "data": {
      "text/plain": [
       "460    True\n",
       "575    True\n",
       "Name: dog_stage, dtype: bool"
      ]
     },
     "execution_count": 719,
     "metadata": {},
     "output_type": "execute_result"
    }
   ],
   "source": [
    "### check the correct values has been assigned to the column dog_stage in  twitter_archive_clean\n",
    "twitter_archive_clean.dog_stage[191] == 'puppo'\n",
    "twitter_archive_clean.dog_stage[[460, 575]] == 'pupper'"
   ]
  },
  {
   "cell_type": "code",
   "execution_count": 720,
   "metadata": {},
   "outputs": [],
   "source": [
    "#### finally check the doggo, floofer, pupper and puppo column are no more in twitter_archive_clean\n",
    "assert 'doggo' not in twitter_archive_clean.columns\n",
    "assert 'floofer' not in twitter_archive_clean.columns\n",
    "assert 'pupper' not in twitter_archive_clean.columns\n",
    "assert 'puppo' not in twitter_archive_clean.columns"
   ]
  },
  {
   "cell_type": "markdown",
   "metadata": {},
   "source": [
    "#### Tidiness issue 2, twitter_archive: two columns for one variable, the dog score (rating_numerator and rating_denominator), it should be just one."
   ]
  },
  {
   "cell_type": "markdown",
   "metadata": {},
   "source": [
    "##### Define tidiness issue 2, twitter_archive"
   ]
  },
  {
   "cell_type": "markdown",
   "metadata": {},
   "source": [
    "Drop the rating_denominator column and rename the rating_numerator to dog_score."
   ]
  },
  {
   "cell_type": "markdown",
   "metadata": {},
   "source": [
    "##### Code issue 2, twitter_archive"
   ]
  },
  {
   "cell_type": "code",
   "execution_count": 721,
   "metadata": {},
   "outputs": [],
   "source": [
    "twitter_archive_clean.drop(\"rating_denominator\", axis = 1, inplace= True)"
   ]
  },
  {
   "cell_type": "code",
   "execution_count": 722,
   "metadata": {},
   "outputs": [],
   "source": [
    "twitter_archive_clean.rename(columns={'rating_numerator': 'dog_score'}, inplace=True)"
   ]
  },
  {
   "cell_type": "markdown",
   "metadata": {},
   "source": [
    "##### Test tidiness issue 2, twitter_archive"
   ]
  },
  {
   "cell_type": "code",
   "execution_count": 723,
   "metadata": {},
   "outputs": [
    {
     "name": "stdout",
     "output_type": "stream",
     "text": [
      "<class 'pandas.core.frame.DataFrame'>\n",
      "Int64Index: 2113 entries, 0 to 2355\n",
      "Data columns (total 13 columns):\n",
      "tweet_id                      2113 non-null int64\n",
      "in_reply_to_status_id         23 non-null Int64\n",
      "in_reply_to_user_id           23 non-null Int64\n",
      "timestamp                     2113 non-null datetime64[ns, UTC]\n",
      "source                        2113 non-null object\n",
      "text                          2113 non-null object\n",
      "retweeted_status_id           0 non-null float64\n",
      "retweeted_status_user_id      0 non-null float64\n",
      "retweeted_status_timestamp    0 non-null float64\n",
      "expanded_urls                 2113 non-null object\n",
      "dog_score                     2113 non-null int64\n",
      "name                          1445 non-null object\n",
      "dog_stage                     336 non-null object\n",
      "dtypes: Int64(2), datetime64[ns, UTC](1), float64(3), int64(2), object(5)\n",
      "memory usage: 235.2+ KB\n"
     ]
    }
   ],
   "source": [
    "twitter_archive_clean.info()"
   ]
  },
  {
   "cell_type": "code",
   "execution_count": 724,
   "metadata": {},
   "outputs": [],
   "source": [
    "# check rating_denominator is no more in twitter_archive_clean columns\n",
    "assert (\"rating_denominator\" in twitter_archive_clean.columns) == False"
   ]
  },
  {
   "cell_type": "code",
   "execution_count": 725,
   "metadata": {},
   "outputs": [],
   "source": [
    "assert (\"rating_numerator\" in twitter_archive_clean.columns) == False"
   ]
  },
  {
   "cell_type": "code",
   "execution_count": 726,
   "metadata": {},
   "outputs": [],
   "source": [
    "assert (\"dog_score\" in twitter_archive_clean.columns)"
   ]
  },
  {
   "cell_type": "code",
   "execution_count": 727,
   "metadata": {},
   "outputs": [
    {
     "name": "stdout",
     "output_type": "stream",
     "text": [
      "<class 'pandas.core.frame.DataFrame'>\n",
      "Int64Index: 2113 entries, 0 to 2355\n",
      "Data columns (total 13 columns):\n",
      "tweet_id                      2113 non-null int64\n",
      "in_reply_to_status_id         23 non-null Int64\n",
      "in_reply_to_user_id           23 non-null Int64\n",
      "timestamp                     2113 non-null datetime64[ns, UTC]\n",
      "source                        2113 non-null object\n",
      "text                          2113 non-null object\n",
      "retweeted_status_id           0 non-null float64\n",
      "retweeted_status_user_id      0 non-null float64\n",
      "retweeted_status_timestamp    0 non-null float64\n",
      "expanded_urls                 2113 non-null object\n",
      "dog_score                     2113 non-null int64\n",
      "name                          1445 non-null object\n",
      "dog_stage                     336 non-null object\n",
      "dtypes: Int64(2), datetime64[ns, UTC](1), float64(3), int64(2), object(5)\n",
      "memory usage: 235.2+ KB\n"
     ]
    }
   ],
   "source": [
    "twitter_archive_clean.info()"
   ]
  },
  {
   "cell_type": "markdown",
   "metadata": {},
   "source": [
    "#### Tidiness issue 3, twitter_archive: the columns retweeted_status_id, retweeted_status_user_id and retweeted_status_timestamp can be removed, having removed all the retweeted tweets."
   ]
  },
  {
   "cell_type": "markdown",
   "metadata": {},
   "source": [
    "##### Define tidiness issue 3, twitter_archive"
   ]
  },
  {
   "cell_type": "markdown",
   "metadata": {},
   "source": [
    "Drop the columns retweeted_status_id, retweeted_status_user_id and retweeted_status_timestamp"
   ]
  },
  {
   "cell_type": "markdown",
   "metadata": {},
   "source": [
    "##### Code tidiness issue 3, twitter_archive"
   ]
  },
  {
   "cell_type": "code",
   "execution_count": 728,
   "metadata": {},
   "outputs": [],
   "source": [
    "twitter_archive_clean.drop(['retweeted_status_id','retweeted_status_user_id','retweeted_status_timestamp'],\\\n",
    "                           axis = 1, inplace = True)"
   ]
  },
  {
   "cell_type": "markdown",
   "metadata": {},
   "source": [
    "##### Test tidiness issue 3, twitter_archive"
   ]
  },
  {
   "cell_type": "code",
   "execution_count": 729,
   "metadata": {},
   "outputs": [
    {
     "name": "stdout",
     "output_type": "stream",
     "text": [
      "False\n"
     ]
    }
   ],
   "source": [
    "### check retweeted_status_id not in twitter_archive_clean columns\n",
    "print('retweeted_status_id' in twitter_archive_clean.columns)"
   ]
  },
  {
   "cell_type": "code",
   "execution_count": 730,
   "metadata": {},
   "outputs": [
    {
     "name": "stdout",
     "output_type": "stream",
     "text": [
      "False\n"
     ]
    }
   ],
   "source": [
    "### check retweeted_status_user_id not in twitter_archive_clean columns\n",
    "print('retweeted_status_user_id' in twitter_archive_clean.columns)"
   ]
  },
  {
   "cell_type": "code",
   "execution_count": 731,
   "metadata": {},
   "outputs": [
    {
     "name": "stdout",
     "output_type": "stream",
     "text": [
      "False\n"
     ]
    }
   ],
   "source": [
    "### check retweeted_status_timestamp not in twitter_archive_clean columns\n",
    "print('retweeted_status_timestamp' in twitter_archive_clean.columns)"
   ]
  },
  {
   "cell_type": "code",
   "execution_count": 732,
   "metadata": {},
   "outputs": [
    {
     "data": {
      "text/plain": [
       "(2113, 10)"
      ]
     },
     "execution_count": 732,
     "metadata": {},
     "output_type": "execute_result"
    }
   ],
   "source": [
    "# check there are 14 columns\n",
    "twitter_archive_clean.shape"
   ]
  },
  {
   "cell_type": "markdown",
   "metadata": {},
   "source": [
    "<a id=\"cleaning_image_predictions\"></a>\n",
    "### Cleaning the image_predictions dataframe"
   ]
  },
  {
   "cell_type": "markdown",
   "metadata": {},
   "source": [
    "#### Quality issue 1, image_predictions: inconsistent and unclear representation of the prediction in columns p1, p2, p3, sometimes the strings are capitalized and sometimes they are all lowercase, they contain underscores instead of spaces."
   ]
  },
  {
   "cell_type": "markdown",
   "metadata": {},
   "source": [
    "##### Define quality issue 1, image_predictions"
   ]
  },
  {
   "cell_type": "markdown",
   "metadata": {},
   "source": [
    "I'll use pandas methods str.lower and str.replace: they can be chained one after the other."
   ]
  },
  {
   "cell_type": "markdown",
   "metadata": {},
   "source": [
    "##### Code quality issue 1, image_predictions"
   ]
  },
  {
   "cell_type": "code",
   "execution_count": 733,
   "metadata": {},
   "outputs": [],
   "source": [
    "image_predictions_clean['p1'] = image_predictions_clean.p1.str.lower().str.replace(\"_\", \" \")"
   ]
  },
  {
   "cell_type": "code",
   "execution_count": 734,
   "metadata": {},
   "outputs": [],
   "source": [
    "image_predictions_clean['p2'] = image_predictions_clean.p2.str.lower().str.replace(\"_\", \" \")"
   ]
  },
  {
   "cell_type": "code",
   "execution_count": 735,
   "metadata": {},
   "outputs": [],
   "source": [
    "image_predictions_clean['p3'] = image_predictions_clean.p3.str.lower().str.replace(\"_\", \" \")"
   ]
  },
  {
   "cell_type": "markdown",
   "metadata": {},
   "source": [
    "#### Test quality issue 1, image_predictions"
   ]
  },
  {
   "cell_type": "code",
   "execution_count": 736,
   "metadata": {},
   "outputs": [
    {
     "data": {
      "text/plain": [
       "'welsh springer spaniel'"
      ]
     },
     "execution_count": 736,
     "metadata": {},
     "output_type": "execute_result"
    }
   ],
   "source": [
    "### test the column p1 is all lowercase\n",
    "image_predictions_clean.p1[0]"
   ]
  },
  {
   "cell_type": "code",
   "execution_count": 737,
   "metadata": {},
   "outputs": [
    {
     "data": {
      "text/plain": [
       "True"
      ]
     },
     "execution_count": 737,
     "metadata": {},
     "output_type": "execute_result"
    }
   ],
   "source": [
    "### test the column p1 is all lowercase\n",
    "image_predictions_clean.p2.str.islower().all()"
   ]
  },
  {
   "cell_type": "code",
   "execution_count": 738,
   "metadata": {},
   "outputs": [
    {
     "data": {
      "text/plain": [
       "True"
      ]
     },
     "execution_count": 738,
     "metadata": {},
     "output_type": "execute_result"
    }
   ],
   "source": [
    "image_predictions_clean.p3.str.islower().all()"
   ]
  },
  {
   "cell_type": "code",
   "execution_count": 739,
   "metadata": {},
   "outputs": [
    {
     "data": {
      "text/plain": [
       "False"
      ]
     },
     "execution_count": 739,
     "metadata": {},
     "output_type": "execute_result"
    }
   ],
   "source": [
    "### test if there are underscores in p1\n",
    "image_predictions_clean.p1.str.contains(\"_\").any()"
   ]
  },
  {
   "cell_type": "code",
   "execution_count": 740,
   "metadata": {},
   "outputs": [
    {
     "data": {
      "text/plain": [
       "False"
      ]
     },
     "execution_count": 740,
     "metadata": {},
     "output_type": "execute_result"
    }
   ],
   "source": [
    "### test if there are underscores in p2\n",
    "image_predictions_clean.p2.str.contains(\"_\").any()"
   ]
  },
  {
   "cell_type": "code",
   "execution_count": 741,
   "metadata": {},
   "outputs": [
    {
     "data": {
      "text/plain": [
       "False"
      ]
     },
     "execution_count": 741,
     "metadata": {},
     "output_type": "execute_result"
    }
   ],
   "source": [
    "### test if there are underscores in p3\n",
    "image_predictions_clean.p3.str.contains(\"_\").any()"
   ]
  },
  {
   "cell_type": "markdown",
   "metadata": {},
   "source": [
    "#### Quality issue 2, image_predictions : some of the tweets are retweets or quotes or have been eliminated from twitter_archive in the previous cleaning operations, so they need to be removed from image_predictions."
   ]
  },
  {
   "cell_type": "markdown",
   "metadata": {},
   "source": [
    "##### Define quality issue 2, image_predictions\n",
    "\n",
    "I'll drop from image_predictions_clean every row with a tweet_id contained in tweet_ids_to_remove, a set I used to keep trace of the tweet_id of rows deleted from twitter_archive."
   ]
  },
  {
   "cell_type": "code",
   "execution_count": 742,
   "metadata": {},
   "outputs": [],
   "source": [
    "### remove all the indexes marked as to remove from image_predictions_clean\n",
    "for index, row in image_predictions_clean.iterrows():\n",
    "    if row.tweet_id in tweet_ids_to_remove:\n",
    "        image_predictions_clean.drop(index, axis = 0, inplace = True)"
   ]
  },
  {
   "cell_type": "markdown",
   "metadata": {},
   "source": [
    "##### Test quality issue 2, image_predictions"
   ]
  },
  {
   "cell_type": "code",
   "execution_count": 743,
   "metadata": {},
   "outputs": [
    {
     "data": {
      "text/plain": [
       "(1992, 12)"
      ]
     },
     "execution_count": 743,
     "metadata": {},
     "output_type": "execute_result"
    }
   ],
   "source": [
    "## check there are less rows\n",
    "image_predictions_clean.shape"
   ]
  },
  {
   "cell_type": "code",
   "execution_count": 744,
   "metadata": {},
   "outputs": [
    {
     "data": {
      "text/plain": [
       "0"
      ]
     },
     "execution_count": 744,
     "metadata": {},
     "output_type": "execute_result"
    }
   ],
   "source": [
    "### check no rows in tweet_ids_to_remove are still in the dataframe\n",
    "image_predictions_clean[image_predictions_clean.tweet_id.isin(tweet_ids_to_remove)].shape[0]"
   ]
  },
  {
   "cell_type": "markdown",
   "metadata": {},
   "source": [
    "##### Tidiness issue 1, image_predictions: the cleaned dataframe can be merged to twitter_archive_cleaned"
   ]
  },
  {
   "cell_type": "code",
   "execution_count": 745,
   "metadata": {},
   "outputs": [],
   "source": [
    "twitter_main = pd.merge(twitter_archive_clean, image_predictions_clean, on=\"tweet_id\", how='left')"
   ]
  },
  {
   "cell_type": "markdown",
   "metadata": {},
   "source": [
    "#####  Test tidiness issue 1, image_predictions"
   ]
  },
  {
   "cell_type": "code",
   "execution_count": 746,
   "metadata": {},
   "outputs": [
    {
     "name": "stdout",
     "output_type": "stream",
     "text": [
      "<class 'pandas.core.frame.DataFrame'>\n",
      "Int64Index: 2113 entries, 0 to 2112\n",
      "Data columns (total 21 columns):\n",
      "tweet_id                 2113 non-null int64\n",
      "in_reply_to_status_id    23 non-null Int64\n",
      "in_reply_to_user_id      23 non-null Int64\n",
      "timestamp                2113 non-null datetime64[ns, UTC]\n",
      "source                   2113 non-null object\n",
      "text                     2113 non-null object\n",
      "expanded_urls            2113 non-null object\n",
      "dog_score                2113 non-null int64\n",
      "name                     1445 non-null object\n",
      "dog_stage                336 non-null object\n",
      "jpg_url                  1990 non-null object\n",
      "img_num                  1990 non-null float64\n",
      "p1                       1990 non-null object\n",
      "p1_conf                  1990 non-null float64\n",
      "p1_dog                   1990 non-null object\n",
      "p2                       1990 non-null object\n",
      "p2_conf                  1990 non-null float64\n",
      "p2_dog                   1990 non-null object\n",
      "p3                       1990 non-null object\n",
      "p3_conf                  1990 non-null float64\n",
      "p3_dog                   1990 non-null object\n",
      "dtypes: Int64(2), datetime64[ns, UTC](1), float64(4), int64(2), object(12)\n",
      "memory usage: 367.3+ KB\n"
     ]
    }
   ],
   "source": [
    "twitter_main.info()"
   ]
  },
  {
   "cell_type": "code",
   "execution_count": 747,
   "metadata": {},
   "outputs": [],
   "source": [
    "### check all the number of rows are the same as twitter_archive_clean\n",
    "assert twitter_main.shape[0] ==  twitter_archive_clean.shape[0]"
   ]
  },
  {
   "cell_type": "code",
   "execution_count": 748,
   "metadata": {},
   "outputs": [],
   "source": [
    "### check the number of columns is equal to the sum of the two dataframe minus 1 (there is only one tweet_id column\n",
    "# in the merged dataframe)\n",
    "assert (len(twitter_main.columns) == (len(twitter_archive_clean.columns) + len(image_predictions.columns) - 1))"
   ]
  },
  {
   "cell_type": "code",
   "execution_count": 749,
   "metadata": {},
   "outputs": [],
   "source": [
    "#### check every column in twitter_archive clean is in twitter_main\n",
    "for column in twitter_archive_clean.columns:\n",
    "    assert column in twitter_main.columns\n",
    "    \n",
    "### check every column in image_predictions is in twitter_main \n",
    "for column in image_predictions_clean.columns:\n",
    "    assert column in twitter_main.columns"
   ]
  },
  {
   "cell_type": "markdown",
   "metadata": {},
   "source": [
    "<a id=\"cleaning_tweet_extra\"></a>\n",
    "### Cleaning the tweet_extra dataframe"
   ]
  },
  {
   "cell_type": "markdown",
   "metadata": {},
   "source": [
    "#### Quality issue 1, tweet_extra: the favorite_count column is of type float, it should be of type integer because it is an id (so no decimal parts)."
   ]
  },
  {
   "cell_type": "markdown",
   "metadata": {},
   "source": [
    "##### Define quality issue 1, tweet_extra\n",
    "I'll convert the favorite_count column to int with the asytpe function."
   ]
  },
  {
   "cell_type": "markdown",
   "metadata": {},
   "source": [
    "##### Code quality issue 1, tweet_extra"
   ]
  },
  {
   "cell_type": "code",
   "execution_count": 750,
   "metadata": {},
   "outputs": [],
   "source": [
    "tweet_extra_clean['favorite_count'] = tweet_extra_clean.favorite_count.astype('Int64')"
   ]
  },
  {
   "cell_type": "markdown",
   "metadata": {},
   "source": [
    "##### Test quality issue 1, tweet_extra"
   ]
  },
  {
   "cell_type": "code",
   "execution_count": 751,
   "metadata": {},
   "outputs": [
    {
     "name": "stdout",
     "output_type": "stream",
     "text": [
      "Int64\n"
     ]
    }
   ],
   "source": [
    "print(tweet_extra_clean.favorite_count.dtype)"
   ]
  },
  {
   "cell_type": "markdown",
   "metadata": {},
   "source": [
    "#### Quality issue 2, tweet_extra: The retweet_count column if of type float, it should be of type integer because it is an id."
   ]
  },
  {
   "cell_type": "markdown",
   "metadata": {},
   "source": [
    "##### Define quality issue 2, tweet_extra\n",
    "I'll convert the retweet_count column to int with the asytpe function."
   ]
  },
  {
   "cell_type": "markdown",
   "metadata": {},
   "source": [
    "##### Code quality issue 2, tweet_extra"
   ]
  },
  {
   "cell_type": "code",
   "execution_count": 752,
   "metadata": {},
   "outputs": [],
   "source": [
    "tweet_extra_clean['retweet_count'] = tweet_extra_clean.retweet_count.astype('Int64')"
   ]
  },
  {
   "cell_type": "markdown",
   "metadata": {},
   "source": [
    "##### Test quality issue 2, tweet_extra"
   ]
  },
  {
   "cell_type": "code",
   "execution_count": 753,
   "metadata": {},
   "outputs": [
    {
     "name": "stdout",
     "output_type": "stream",
     "text": [
      "Int64\n"
     ]
    }
   ],
   "source": [
    "print(tweet_extra_clean.retweet_count.dtype)"
   ]
  },
  {
   "cell_type": "markdown",
   "metadata": {},
   "source": [
    "#### Quality issue 3: some of the tweets are retweets or need to be removed from the dataframe because already removed from twitter_archive_clean and image_predictions_clean."
   ]
  },
  {
   "cell_type": "markdown",
   "metadata": {},
   "source": [
    "##### Define quality issue 3"
   ]
  },
  {
   "cell_type": "markdown",
   "metadata": {},
   "source": [
    "tweet_extra_clean and twitter_archive_clean have the same indexes for the same rows, so I'll use the indexes_to_remove set to remove all the invalid rows from tweet_extra usind the function drop."
   ]
  },
  {
   "cell_type": "markdown",
   "metadata": {},
   "source": [
    "##### Code quality issue 3, tweet_extra"
   ]
  },
  {
   "cell_type": "code",
   "execution_count": 754,
   "metadata": {},
   "outputs": [],
   "source": [
    "tweet_extra_clean.drop(indexes_to_remove, axis = 0, inplace = True)"
   ]
  },
  {
   "cell_type": "markdown",
   "metadata": {},
   "source": [
    "#### Test quality issue 3, tweet_extra"
   ]
  },
  {
   "cell_type": "code",
   "execution_count": 755,
   "metadata": {},
   "outputs": [
    {
     "data": {
      "text/plain": [
       "2113"
      ]
     },
     "execution_count": 755,
     "metadata": {},
     "output_type": "execute_result"
    }
   ],
   "source": [
    "### check the number of rows in tweet_extra_clean\n",
    "tweet_extra_clean.shape[0]"
   ]
  },
  {
   "cell_type": "code",
   "execution_count": 756,
   "metadata": {},
   "outputs": [],
   "source": [
    "### check the number of rows in tweet_extra is equal to the number of rows in  twitter_archive_clean,\n",
    "### the rows should match because they were equal before the cleaning operations and should be equal after removing\n",
    "### the same indexes on both.\n",
    "\n",
    "assert tweet_extra_clean.shape[0] == twitter_archive_clean.shape[0]"
   ]
  },
  {
   "cell_type": "markdown",
   "metadata": {},
   "source": [
    "#### Tidiness issue 1, tweet_extra: the retweet_count and favorite_count column should be merged to twitter_main."
   ]
  },
  {
   "cell_type": "markdown",
   "metadata": {},
   "source": [
    "#### Define tidiness issue 1, tweet_extra"
   ]
  },
  {
   "cell_type": "markdown",
   "metadata": {},
   "source": [
    "Create a dataframe with only the columns tweet_id, favorite_count and retweet count from tweet_extra_clean and merge this new dataframe with twitter_main on tweet_id."
   ]
  },
  {
   "cell_type": "markdown",
   "metadata": {},
   "source": [
    "##### Code tidiness issue 1, tweet_extra"
   ]
  },
  {
   "cell_type": "code",
   "execution_count": 757,
   "metadata": {},
   "outputs": [],
   "source": [
    "extra_columns = tweet_extra_clean[['tweet_id','favorite_count', 'retweet_count']]"
   ]
  },
  {
   "cell_type": "code",
   "execution_count": 758,
   "metadata": {},
   "outputs": [],
   "source": [
    "twitter_main = pd.merge(twitter_main, extra_columns, on=\"tweet_id\" ,how='left')"
   ]
  },
  {
   "cell_type": "markdown",
   "metadata": {},
   "source": [
    "#### Test tidiness issue 1, tweet_extra"
   ]
  },
  {
   "cell_type": "code",
   "execution_count": 759,
   "metadata": {},
   "outputs": [
    {
     "name": "stdout",
     "output_type": "stream",
     "text": [
      "<class 'pandas.core.frame.DataFrame'>\n",
      "Int64Index: 2113 entries, 0 to 2112\n",
      "Data columns (total 23 columns):\n",
      "tweet_id                 2113 non-null int64\n",
      "in_reply_to_status_id    23 non-null Int64\n",
      "in_reply_to_user_id      23 non-null Int64\n",
      "timestamp                2113 non-null datetime64[ns, UTC]\n",
      "source                   2113 non-null object\n",
      "text                     2113 non-null object\n",
      "expanded_urls            2113 non-null object\n",
      "dog_score                2113 non-null int64\n",
      "name                     1445 non-null object\n",
      "dog_stage                336 non-null object\n",
      "jpg_url                  1990 non-null object\n",
      "img_num                  1990 non-null float64\n",
      "p1                       1990 non-null object\n",
      "p1_conf                  1990 non-null float64\n",
      "p1_dog                   1990 non-null object\n",
      "p2                       1990 non-null object\n",
      "p2_conf                  1990 non-null float64\n",
      "p2_dog                   1990 non-null object\n",
      "p3                       1990 non-null object\n",
      "p3_conf                  1990 non-null float64\n",
      "p3_dog                   1990 non-null object\n",
      "favorite_count           2113 non-null Int64\n",
      "retweet_count            2113 non-null Int64\n",
      "dtypes: Int64(4), datetime64[ns, UTC](1), float64(4), int64(2), object(12)\n",
      "memory usage: 404.4+ KB\n"
     ]
    }
   ],
   "source": [
    "twitter_main.info()"
   ]
  },
  {
   "cell_type": "code",
   "execution_count": 760,
   "metadata": {},
   "outputs": [],
   "source": [
    "### check retweet_count and favorite_count are in twitter_main columns\n",
    "assert 'favorite_count' in twitter_main.columns\n",
    "assert 'retweet_count' in twitter_main.columns"
   ]
  },
  {
   "cell_type": "markdown",
   "metadata": {},
   "source": [
    "<a id=\"saving_csv\"> </a>\n",
    "### Saving the cleaned dataframe to a csv"
   ]
  },
  {
   "cell_type": "markdown",
   "metadata": {},
   "source": [
    "##### Define\n",
    "I'll use the pandas function to_csv to save the cleaned twitter_main dataframe to a csv file"
   ]
  },
  {
   "cell_type": "markdown",
   "metadata": {},
   "source": [
    "##### Code"
   ]
  },
  {
   "cell_type": "code",
   "execution_count": 761,
   "metadata": {},
   "outputs": [],
   "source": [
    "twitter_main.to_csv(\"twitter_archive_master.csv\", index = False)"
   ]
  },
  {
   "cell_type": "markdown",
   "metadata": {},
   "source": [
    "<a id=\"analyzing_and_visualizing\"> </a>\n",
    "### Analyzing and Visualizing "
   ]
  },
  {
   "cell_type": "markdown",
   "metadata": {},
   "source": [
    "Let's now look more deeply at the data collected in the cleaned dataframe to get some insight about the WeRateDogs twitter account. <br>\n",
    "The data used for this analysis is exactly the same obtaneid trhough all the above data wrangling process: gathered for three sources, assessed, cleaned and merged in a twitter_main dataframe. The same data has been saved to a csv file named 'twitte_archive_master.csv'.\n",
    "\n",
    "\n",
    "The success of a twitter account is very often determined by the number of interaction for every tweet, so let's look how the number of retweets and favorite is distributed for the tweets on WeRateDogs."
   ]
  },
  {
   "cell_type": "code",
   "execution_count": 762,
   "metadata": {},
   "outputs": [
    {
     "name": "stdout",
     "output_type": "stream",
     "text": [
      "<class 'pandas.core.frame.DataFrame'>\n",
      "Int64Index: 2113 entries, 0 to 2112\n",
      "Data columns (total 23 columns):\n",
      "tweet_id                 2113 non-null int64\n",
      "in_reply_to_status_id    23 non-null Int64\n",
      "in_reply_to_user_id      23 non-null Int64\n",
      "timestamp                2113 non-null datetime64[ns, UTC]\n",
      "source                   2113 non-null object\n",
      "text                     2113 non-null object\n",
      "expanded_urls            2113 non-null object\n",
      "dog_score                2113 non-null int64\n",
      "name                     1445 non-null object\n",
      "dog_stage                336 non-null object\n",
      "jpg_url                  1990 non-null object\n",
      "img_num                  1990 non-null float64\n",
      "p1                       1990 non-null object\n",
      "p1_conf                  1990 non-null float64\n",
      "p1_dog                   1990 non-null object\n",
      "p2                       1990 non-null object\n",
      "p2_conf                  1990 non-null float64\n",
      "p2_dog                   1990 non-null object\n",
      "p3                       1990 non-null object\n",
      "p3_conf                  1990 non-null float64\n",
      "p3_dog                   1990 non-null object\n",
      "favorite_count           2113 non-null Int64\n",
      "retweet_count            2113 non-null Int64\n",
      "dtypes: Int64(4), datetime64[ns, UTC](1), float64(4), int64(2), object(12)\n",
      "memory usage: 404.4+ KB\n"
     ]
    }
   ],
   "source": [
    "twitter_main.info()"
   ]
  },
  {
   "cell_type": "code",
   "execution_count": 763,
   "metadata": {},
   "outputs": [
    {
     "data": {
      "text/plain": [
       "pupper            224\n",
       "doggo              73\n",
       "puppo              24\n",
       "floofer             9\n",
       "doggo + pupper      6\n",
       "Name: dog_stage, dtype: int64"
      ]
     },
     "execution_count": 763,
     "metadata": {},
     "output_type": "execute_result"
    }
   ],
   "source": [
    "twitter_main.dog_stage.value_counts()"
   ]
  },
  {
   "cell_type": "markdown",
   "metadata": {},
   "source": [
    "#### Number of retweets"
   ]
  },
  {
   "cell_type": "code",
   "execution_count": 764,
   "metadata": {},
   "outputs": [],
   "source": [
    "#twitter_main.hist(column = 'retweet_count')"
   ]
  },
  {
   "cell_type": "code",
   "execution_count": 765,
   "metadata": {},
   "outputs": [
    {
     "data": {
      "text/plain": [
       "count     2113.000000\n",
       "mean      2692.835779\n",
       "std       4710.290893\n",
       "min         11.000000\n",
       "25%        597.000000\n",
       "50%       1308.000000\n",
       "75%       3069.000000\n",
       "max      83275.000000\n",
       "Name: retweet_count, dtype: float64"
      ]
     },
     "execution_count": 765,
     "metadata": {},
     "output_type": "execute_result"
    }
   ],
   "source": [
    "twitter_main.retweet_count.describe()"
   ]
  },
  {
   "cell_type": "markdown",
   "metadata": {},
   "source": [
    "Looking at the results of the describe function, 75% of tweets has less than or equal to 3069 retweets. The maximum value for the number or retweets is very high,  but this value is really an exception, as confirmed by the following plot"
   ]
  },
  {
   "cell_type": "code",
   "execution_count": 766,
   "metadata": {},
   "outputs": [],
   "source": [
    "retweets_count = np.array(twitter_main.retweet_count, dtype='int64')"
   ]
  },
  {
   "cell_type": "code",
   "execution_count": 767,
   "metadata": {},
   "outputs": [
    {
     "data": {
      "image/png": "[encoded data removed]",
      "text/plain": [
       "<Figure size 432x288 with 1 Axes>"
      ]
     },
     "metadata": {
      "needs_background": "light"
     },
     "output_type": "display_data"
    }
   ],
   "source": [
    "fig, ax = plt.subplots()\n",
    "ax.set_yscale('log')\n",
    "plt.title(\"Distribution of the Number of Retweets per Tweet\")\n",
    "plt.ylabel(\"Count of Tweets (log10 scale)\")\n",
    "plt.xlabel(\"Number of Retweets per Tweet\")\n",
    "plt.xticks([0,3000, 10000, 20000, 30000, 40000, 50000, 60000, 70000, 80000], rotation=45)\n",
    "plt.hist(retweets_count, bins = 30);\n"
   ]
  },
  {
   "cell_type": "markdown",
   "metadata": {},
   "source": [
    "The graph above shows the distributions of retweets with the count of tweets on a logarithmic scale base 10: differences in height are very significative, infact 50% of tweets are below 3069, as shown by the describe function. The distribution is skewed to the right, with a tail of tweets who have a very high number of retweets.\n",
    "Let's see what is the 0.9 quantile, 90% of tweets will be below or at least equal to this value:"
   ]
  },
  {
   "cell_type": "code",
   "execution_count": 768,
   "metadata": {},
   "outputs": [
    {
     "data": {
      "text/plain": [
       "5992.4"
      ]
     },
     "execution_count": 768,
     "metadata": {},
     "output_type": "execute_result"
    }
   ],
   "source": [
    "np.quantile(retweets_count, 0.90)"
   ]
  },
  {
   "cell_type": "markdown",
   "metadata": {},
   "source": [
    "90% of tweets has less than 5992 retweets, let's round this value to 6000 and plot the distribution."
   ]
  },
  {
   "cell_type": "code",
   "execution_count": 769,
   "metadata": {},
   "outputs": [],
   "source": [
    "under_6000 = np.array(twitter_main.retweet_count[twitter_main.retweet_count < 6000], dtype='int64')"
   ]
  },
  {
   "cell_type": "code",
   "execution_count": 770,
   "metadata": {},
   "outputs": [
    {
     "data": {
      "image/png": "[encoded data removed]",
      "text/plain": [
       "<Figure size 432x288 with 1 Axes>"
      ]
     },
     "metadata": {
      "needs_background": "light"
     },
     "output_type": "display_data"
    }
   ],
   "source": [
    "fig, ax = plt.subplots()\n",
    "plt.title(\"Distribution of the Number of Retweets per Tweet Under 6000 Retweets\")\n",
    "plt.ylabel(\"Count of Tweets\")\n",
    "plt.xlabel(\"Number of Retweets per Tweet\")\n",
    "plt.xticks([0, 500, 1000, 1500, 2000, 2500, 3000, 3500, 4000, 4500, 5000,5500, 6000], rotation=45)\n",
    "plt.hist(under_6000, bins = 30);\n"
   ]
  },
  {
   "cell_type": "markdown",
   "metadata": {},
   "source": [
    "The graph above showing the number of retweets for tweets with less than 6000 retweets is as expected skewed to the right, with a peak aroun 500 retweets."
   ]
  },
  {
   "cell_type": "code",
   "execution_count": 771,
   "metadata": {},
   "outputs": [],
   "source": [
    "dogs_with_stage = twitter_main[twitter_main.dog_stage.notnull()]"
   ]
  },
  {
   "cell_type": "code",
   "execution_count": 772,
   "metadata": {},
   "outputs": [],
   "source": [
    "dog_means = dogs_with_stage.groupby('dog_stage').retweet_count.mean().sort_values(ascending = False)"
   ]
  },
  {
   "cell_type": "code",
   "execution_count": 773,
   "metadata": {},
   "outputs": [
    {
     "data": {
      "text/plain": [
       "dog_stage\n",
       "puppo             6855.375000\n",
       "doggo             6462.602740\n",
       "doggo + pupper    4965.500000\n",
       "floofer           3899.666667\n",
       "pupper            2338.508929\n",
       "Name: retweet_count, dtype: float64"
      ]
     },
     "execution_count": 773,
     "metadata": {},
     "output_type": "execute_result"
    }
   ],
   "source": [
    "dog_means"
   ]
  },
  {
   "cell_type": "code",
   "execution_count": 774,
   "metadata": {},
   "outputs": [],
   "source": [
    "dog_means_values = dog_means.values"
   ]
  },
  {
   "cell_type": "code",
   "execution_count": 775,
   "metadata": {},
   "outputs": [],
   "source": [
    "dog_means_stage = dog_means.index"
   ]
  },
  {
   "cell_type": "code",
   "execution_count": 776,
   "metadata": {},
   "outputs": [
    {
     "data": {
      "image/png": "[encoded data removed]",
      "text/plain": [
       "<Figure size 432x288 with 1 Axes>"
      ]
     },
     "metadata": {
      "needs_background": "light"
     },
     "output_type": "display_data"
    }
   ],
   "source": [
    "plt.title(\"Mean Number of Retweets for Dog Stage\")\n",
    "plt.xlabel(\"Dog Stage\")\n",
    "plt.ylabel(\"Mean Number of Retweets\")\n",
    "plt.bar(dog_means_stage, dog_means_values);"
   ]
  },
  {
   "cell_type": "markdown",
   "metadata": {},
   "source": [
    "The graph above show the mean number of retweet for dog stage:doggo (adult dog), puppo( transitional phase between doggo and pupper, so a teenager dog), pupper (a puppy dog), floofer (generic term for furry and soft dogs) and \"doggo + pupper\" for tweets with images of both a doggo and a pupper. <br>\n",
    "Puppo clearly wins the retweet challenge, being the most retweeted of the category, while pupper is the last."
   ]
  },
  {
   "cell_type": "markdown",
   "metadata": {},
   "source": [
    "### Insight 1:  the number of retweets is extremely variable, but most of tweets get less than about 3000 retweets."
   ]
  },
  {
   "cell_type": "markdown",
   "metadata": {},
   "source": [
    "The number of retweets of tweets on the WeRateDogs twitter account is extremely variable ranging from a minimum of 11 to a maximum of  83275, with a standard deviation of 4710 and an average of 2693. About 75% of the tweets get less than 3069 retweets. <br>\n",
    "Dogs on WeRateDogs can be classified in  categories according to their stage in puppo, doggo floofer and pupper, but some of the picture contain both doggo and pupper (doggo + pupper). Puppo dogs (sort of teenager dogs) are only 24 in all the dataset, but they obtain on average the gretest number of retweets, 6855."
   ]
  },
  {
   "cell_type": "markdown",
   "metadata": {},
   "source": [
    "#### Number of favorites"
   ]
  },
  {
   "cell_type": "markdown",
   "metadata": {},
   "source": [
    "Let's now look at the number of favorites per tweet."
   ]
  },
  {
   "cell_type": "code",
   "execution_count": 777,
   "metadata": {},
   "outputs": [
    {
     "data": {
      "text/plain": [
       "count      2113.000000\n",
       "mean       8727.725982\n",
       "std       12668.738937\n",
       "min          78.000000\n",
       "25%        1940.000000\n",
       "50%        3978.000000\n",
       "75%       10888.000000\n",
       "max      163767.000000\n",
       "Name: favorite_count, dtype: float64"
      ]
     },
     "execution_count": 777,
     "metadata": {},
     "output_type": "execute_result"
    }
   ],
   "source": [
    "twitter_main.favorite_count.describe()"
   ]
  },
  {
   "cell_type": "markdown",
   "metadata": {},
   "source": [
    "The mean number of favorites is three times bigger than the mean number of retweets for WerRateDogs tweets (a very common pattern on twitter)."
   ]
  },
  {
   "cell_type": "code",
   "execution_count": 778,
   "metadata": {},
   "outputs": [
    {
     "name": "stdout",
     "output_type": "stream",
     "text": [
      "22079.800000000003\n"
     ]
    }
   ],
   "source": [
    "### 90th quantile, 90% of of the number of favorites will be under this value or equal to it.\n",
    "print(np.quantile(twitter_main.favorite_count, 0.9))"
   ]
  },
  {
   "cell_type": "markdown",
   "metadata": {},
   "source": [
    "90% of tweets will have less than about 22080 favorites."
   ]
  },
  {
   "cell_type": "code",
   "execution_count": 779,
   "metadata": {},
   "outputs": [],
   "source": [
    "favorites_90 = twitter_main[twitter_main.favorite_count < 22080]"
   ]
  },
  {
   "cell_type": "code",
   "execution_count": 780,
   "metadata": {},
   "outputs": [],
   "source": [
    "favorites_count_90 = np.array(favorites_90.favorite_count, dtype='int64')"
   ]
  },
  {
   "cell_type": "code",
   "execution_count": 781,
   "metadata": {},
   "outputs": [
    {
     "data": {
      "image/png": "[encoded data removed]",
      "text/plain": [
       "<Figure size 432x288 with 1 Axes>"
      ]
     },
     "metadata": {
      "needs_background": "light"
     },
     "output_type": "display_data"
    }
   ],
   "source": [
    "fig, ax = plt.subplots()\n",
    "plt.title(\"Distribution of the Number of Favorites Tweets below the 90th quantile\")\n",
    "plt.ylabel(\"Count of Favorites\")\n",
    "plt.xlabel(\"Number of Favorites per Tweet\")\n",
    "plt.xticks([0, 1000, 2000,3000, 4000, 5000,6000,7000,8000,9000, 10000,12000, 15000, 20000], rotation=45)\n",
    "plt.hist(favorites_count_90, bins = 50);"
   ]
  },
  {
   "cell_type": "markdown",
   "metadata": {},
   "source": [
    "The plot above show the distribution of favorites for 90% of the tweets: the distribution is clearly skewed to the right,\n",
    "with most of tweets receiving less than 4000 rewteets."
   ]
  },
  {
   "cell_type": "code",
   "execution_count": 782,
   "metadata": {},
   "outputs": [],
   "source": [
    "dog_means_favorite = dogs_with_stage.groupby('dog_stage').favorite_count.mean().sort_values(ascending = False)"
   ]
  },
  {
   "cell_type": "code",
   "execution_count": 783,
   "metadata": {},
   "outputs": [
    {
     "data": {
      "text/plain": [
       "dog_stage\n",
       "puppo             22722.208333\n",
       "doggo             18556.534247\n",
       "doggo + pupper    15232.833333\n",
       "floofer           10579.444444\n",
       "pupper             7011.660714\n",
       "Name: favorite_count, dtype: float64"
      ]
     },
     "execution_count": 783,
     "metadata": {},
     "output_type": "execute_result"
    }
   ],
   "source": [
    "dog_means_favorite"
   ]
  },
  {
   "cell_type": "code",
   "execution_count": 784,
   "metadata": {},
   "outputs": [],
   "source": [
    "dog_means_fav_values = dog_means_favorite.values"
   ]
  },
  {
   "cell_type": "code",
   "execution_count": 785,
   "metadata": {},
   "outputs": [],
   "source": [
    "dog_means_fav_stage = dog_means_favorite.index"
   ]
  },
  {
   "cell_type": "code",
   "execution_count": 786,
   "metadata": {},
   "outputs": [
    {
     "data": {
      "image/png": "[encoded data removed]",
      "text/plain": [
       "<Figure size 432x288 with 1 Axes>"
      ]
     },
     "metadata": {
      "needs_background": "light"
     },
     "output_type": "display_data"
    }
   ],
   "source": [
    "plt.title(\"Mean Number of Favorites for Dog Stage\")\n",
    "plt.xlabel(\"Dog Stage\")\n",
    "plt.ylabel(\"Mean Number of Favorites\")\n",
    "plt.bar(dog_means_fav_stage, dog_means_fav_values);"
   ]
  },
  {
   "cell_type": "markdown",
   "metadata": {},
   "source": [
    "The plot above shows the number of favorites for dog stage, the puppo category is again the winner followed by doggo."
   ]
  },
  {
   "cell_type": "markdown",
   "metadata": {},
   "source": [
    "### Insight 2: the number of favorites per tweet is on average higher than the number of retweets, but it is again extremely variable. Puppo dogs are favorite stars on WeRateDogs."
   ]
  },
  {
   "cell_type": "markdown",
   "metadata": {},
   "source": [
    "The number of favorites per tweet on WeRateDogs ranges from a minimum of 78 to a maximum of 163767 with a considerable standard deviation of  about 12669 and a mean of about 8728. If the number of retweets if very variable from tweet to tweet the number of favorites is even more variable. Puppo dogs are again the favorites between favorites and they get on average  22722 favorites, neatly over the average of the entire dataset."
   ]
  },
  {
   "cell_type": "markdown",
   "metadata": {},
   "source": [
    "#### Dog or not dog?"
   ]
  },
  {
   "cell_type": "markdown",
   "metadata": {},
   "source": [
    "The twitter_main dataframe contains predictions about the possibility that an image associated with a tweet is really a dog or not. Some of the users can post tweets that aren't really dogs, but do they get more or less favorites and retweets respect to probably real dogs? We are going to find it. <br>\n",
    "For this analysis I'll combine all the predictions in p1_dog, p2_dog and p3_dog and I'll consider their sum: three predictions of True for being a dog will be equal to 3, while three predictions of False will be equal to zero."
   ]
  },
  {
   "cell_type": "code",
   "execution_count": 787,
   "metadata": {},
   "outputs": [],
   "source": [
    "dog_predictions = twitter_main[twitter_main.p1.notnull()]"
   ]
  },
  {
   "cell_type": "code",
   "execution_count": 788,
   "metadata": {},
   "outputs": [
    {
     "name": "stderr",
     "output_type": "stream",
     "text": [
      "C:\\Users\\Tundra\\Anaconda3\\lib\\site-packages\\ipykernel_launcher.py:1: SettingWithCopyWarning: \n",
      "A value is trying to be set on a copy of a slice from a DataFrame.\n",
      "Try using .loc[row_indexer,col_indexer] = value instead\n",
      "\n",
      "See the caveats in the documentation: http://pandas.pydata.org/pandas-docs/stable/indexing.html#indexing-view-versus-copy\n",
      "  \"\"\"Entry point for launching an IPython kernel.\n"
     ]
    }
   ],
   "source": [
    "dog_predictions['dog_sum'] = dog_predictions.p1_dog + dog_predictions.p2_dog + dog_predictions.p3_dog"
   ]
  },
  {
   "cell_type": "code",
   "execution_count": 789,
   "metadata": {},
   "outputs": [
    {
     "data": {
      "text/plain": [
       "dog_sum\n",
       "2    2902.542945\n",
       "1    2804.382166\n",
       "3    2615.250000\n",
       "0    2351.837134\n",
       "Name: retweet_count, dtype: float64"
      ]
     },
     "execution_count": 789,
     "metadata": {},
     "output_type": "execute_result"
    }
   ],
   "source": [
    "retweet_predictions_mean = dog_predictions.groupby('dog_sum').retweet_count.mean().sort_values(ascending = False)\n",
    "retweet_predictions_mean"
   ]
  },
  {
   "cell_type": "code",
   "execution_count": 790,
   "metadata": {},
   "outputs": [],
   "source": [
    "retweet_pred_values = retweet_predictions_mean.values\n",
    "retweet_pred_sum = retweet_predictions_mean.index"
   ]
  },
  {
   "cell_type": "code",
   "execution_count": 791,
   "metadata": {},
   "outputs": [
    {
     "data": {
      "image/png": "[encoded data removed]",
      "text/plain": [
       "<Figure size 432x288 with 1 Axes>"
      ]
     },
     "metadata": {
      "needs_background": "light"
     },
     "output_type": "display_data"
    }
   ],
   "source": [
    "plt.title(\"Mean Number of Retweets for Sum of Positive Predictions of Being a Dog\")\n",
    "plt.xlabel(\"Sum of Positive Predictions of Being a Dog\")\n",
    "plt.xticks([0, 1, 2, 3])\n",
    "plt.ylabel(\"Mean Number of Retweets\")\n",
    "plt.bar(retweet_pred_sum,retweet_pred_values);\n",
    "plt.show()"
   ]
  },
  {
   "cell_type": "markdown",
   "metadata": {},
   "source": [
    "The plot above shows the mean number of rewteewts for sum of positive predictions about the image in a tweet being really of a dog. As expected a sum of zero (so three predictions of not being a dog) corresponds to the lowest number of retweets, but instead three predictions of being a dog don't get the highest number of retweet, the winner is a prediction of two: so probably a picture of a dog, but maybe the picture contains something else that isn't a dog."
   ]
  },
  {
   "cell_type": "code",
   "execution_count": 792,
   "metadata": {},
   "outputs": [
    {
     "data": {
      "text/plain": [
       "dog_sum\n",
       "2    9132.969325\n",
       "3    9045.361667\n",
       "1    8741.503185\n",
       "0    6833.127036\n",
       "Name: favorite_count, dtype: float64"
      ]
     },
     "execution_count": 792,
     "metadata": {},
     "output_type": "execute_result"
    }
   ],
   "source": [
    "favorite_predictions_mean = dog_predictions.groupby('dog_sum').favorite_count.mean().sort_values(ascending = False)\n",
    "favorite_predictions_mean"
   ]
  },
  {
   "cell_type": "code",
   "execution_count": 793,
   "metadata": {},
   "outputs": [],
   "source": [
    "fav_pred_values = favorite_predictions_mean.values\n",
    "fav_pred_sum = favorite_predictions_mean.index"
   ]
  },
  {
   "cell_type": "code",
   "execution_count": 794,
   "metadata": {},
   "outputs": [
    {
     "data": {
      "image/png": "[encoded data removed]",
      "text/plain": [
       "<Figure size 432x288 with 1 Axes>"
      ]
     },
     "metadata": {
      "needs_background": "light"
     },
     "output_type": "display_data"
    }
   ],
   "source": [
    "plt.title(\"Mean Number of Favorites for Sum of Positive Predictions of Being a Dog\")\n",
    "plt.xlabel(\"Sum of Positive Predictions of Being a Dog\")\n",
    "plt.xticks([0, 1, 2, 3])\n",
    "plt.ylabel(\"Mean Number of Favorites\")\n",
    "plt.bar(fav_pred_sum,fav_pred_values);\n",
    "plt.show()"
   ]
  },
  {
   "cell_type": "markdown",
   "metadata": {},
   "source": [
    "The plot above shows the mean number of favorites for sum of positive predictions for an image of being of a dog. Again three predictions of not being a dog have the lowest number of retweets, but the highest number of retweets is obtained by picture thar are probably of a dog, but proably contain something else that isn't a dog."
   ]
  },
  {
   "cell_type": "markdown",
   "metadata": {},
   "source": [
    "### Insight 3: The most probable dog isn't always the most probable favorite or the most retweeted, but pictures that are probably something different from dogs are the less ones."
   ]
  },
  {
   "cell_type": "markdown",
   "metadata": {},
   "source": [
    "Some of the images in tweets on WeRateDogs has been analyzed by a neural network in order to be classified and at every image is associated with three predictions about its content and the probability of being a dog.<br>\n",
    "Every image could get three verdicts of being a dog, one for every possible content according to the neural network. <br>\n",
    "Not every image posted on WeRateDogs is really of a dog: sometimes it is of other animals, but it can also be of whatever nature (even a fan), but they get scores, retweets and rates nonetheless. <br>\n",
    "In theory pictures classified as almost certainly as dogs (three classifications as dog) should have greater success on average than pictures of only partially classified as dogs (2 predictions of being a dog on 3 in total), getting more retweets and favorites, but instead the tweets with the average greatest success are the one with a total number of predictions of being  a dog of 2 (even if they are very similar in average retweets to the ones with a 3 classifications as dog, 2902 versus 2804 retweets and 9133 versus 9045 favorites).<br>\n",
    "Sometimes pictures contain not only a dog, but something else that is very visible near the dog and that is classified by the neural network as the possible main content of the picture: maybe that something else gives the dog the right \"light\" to be noticed by twitter users (this is only a theory!) in pictures that get only 2 predictions of being a dog. <br>\n",
    "As expected, picture that are most probably not a dog, with zero predictions of being a dog, get the less retweets and favorites of all on average."
   ]
  },
  {
   "cell_type": "markdown",
   "metadata": {},
   "source": [
    "#### Do dog with high scores get more retweets and favorites?"
   ]
  },
  {
   "cell_type": "markdown",
   "metadata": {},
   "source": [
    "A well know proverb says \"beauty is in the eye of the beholder\", but are WeRateDogs dog owners good judge of their dogs? Or, in other and more statistical words, is the score given to the dog correlated to the number of favorites and retweets?\n",
    "Let's find it."
   ]
  },
  {
   "cell_type": "code",
   "execution_count": 795,
   "metadata": {},
   "outputs": [],
   "source": [
    "scores = np.array(twitter_main.dog_score, dtype ='int64')"
   ]
  },
  {
   "cell_type": "code",
   "execution_count": 796,
   "metadata": {},
   "outputs": [],
   "source": [
    "favorites_count = np.array(twitter_main.favorite_count, dtype=\"int64\")"
   ]
  },
  {
   "cell_type": "code",
   "execution_count": 797,
   "metadata": {},
   "outputs": [
    {
     "name": "stdout",
     "output_type": "stream",
     "text": [
      "[[1.         0.01613878]\n",
      " [0.01613878 1.        ]]\n"
     ]
    }
   ],
   "source": [
    "### correlation coefficient matrix for scores and number of retweets\n",
    "print(np.corrcoef(scores, retweets_count))"
   ]
  },
  {
   "cell_type": "code",
   "execution_count": 798,
   "metadata": {},
   "outputs": [
    {
     "name": "stdout",
     "output_type": "stream",
     "text": [
      "[[1.         0.01536455]\n",
      " [0.01536455 1.        ]]\n"
     ]
    }
   ],
   "source": [
    "### correlation coefficient matrix for scores and number of favorites\n",
    "print(np.corrcoef(scores, favorites_count))"
   ]
  },
  {
   "cell_type": "code",
   "execution_count": 799,
   "metadata": {},
   "outputs": [
    {
     "name": "stdout",
     "output_type": "stream",
     "text": [
      "[[1.         0.92703912]\n",
      " [0.92703912 1.        ]]\n"
     ]
    }
   ],
   "source": [
    "### correlation coefficient matrix for number of retweets and number of favorites\n",
    "print(np.corrcoef(retweets_count, favorites_count))"
   ]
  },
  {
   "cell_type": "markdown",
   "metadata": {},
   "source": [
    "There is nearly no correlation betweet the number of retweets and the score given to dogs and no correlation again between the number of favorites and the score given to dogs. There is instead a strong correlation, as expected, between favorites and retweets."
   ]
  },
  {
   "cell_type": "markdown",
   "metadata": {},
   "source": [
    "#### Insight 4: the scores given to dogs aren't correlated to the number of retweets and favourites"
   ]
  },
  {
   "cell_type": "markdown",
   "metadata": {},
   "source": [
    "No matter how much good or bad are the scores given to the dogs, the number of retweets and favorites aren't correlated to the scores: the pearson correlation coefficient between number of retweets and score is 0.016 and between favorites and score it is 0.015, so very near to zero. It seems brave and good dogs need to earn their success on their own!"
   ]
  },
  {
   "cell_type": "code",
   "execution_count": null,
   "metadata": {},
   "outputs": [],
   "source": []
  }
 ],
 "metadata": {
  "kernelspec": {
   "display_name": "Python 3",
   "language": "python",
   "name": "python3"
  },
  "language_info": {
   "codemirror_mode": {
    "name": "ipython",
    "version": 3
   },
   "file_extension": ".py",
   "mimetype": "text/x-python",
   "name": "python",
   "nbconvert_exporter": "python",
   "pygments_lexer": "ipython3",
   "version": "3.6.8"
  }
 },
 "nbformat": 4,
 "nbformat_minor": 2
}
