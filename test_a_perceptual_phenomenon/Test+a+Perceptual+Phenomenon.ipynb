{
 "cells": [
  {
   "cell_type": "markdown",
   "metadata": {},
   "source": [
    "### Analyzing the Stroop Effect\n",
    "Perform the analysis in the space below. Remember to follow [the instructions](https://docs.google.com/document/d/1-OkpZLjG_kX9J6LIQ5IltsqMzVWjh36QpnP2RYpVdPU/pub?embedded=True) and review the [project rubric](https://review.udacity.com/#!/rubrics/71/view) before submitting. Once you've completed the analysis and write-up, download this file as a PDF or HTML file, upload that PDF/HTML into the workspace here (click on the orange Jupyter icon in the upper left then Upload), then use the Submit Project button at the bottom of this page. This will create a zip file containing both this .ipynb doc and the PDF/HTML doc that will be submitted for your project.\n",
    "\n",
    "\n",
    "(1) What is the independent variable? What is the dependent variable?"
   ]
  },
  {
   "cell_type": "markdown",
   "metadata": {},
   "source": [
    ">**Answer 1:** <br>\n",
    "The dataset contains time durations for executing the Stroop Task, consisting in reading out loud the color of the ink in which a word is written.<br> The words used for the Stroop Task are color names. When the name of the ink and the word matches, the task is said to be **Congruent** (example: nominating the ink color black when the word is **BLACK**), while when they differ the task is said  **Incongruent** (like the nominating  the color black but the word is instead **RED**). <br>\n",
    "In this case the independent variable is the type of the test performed (Congruent or Incongruent), while the dependent variable is the time for executing the test, which may or not may vary in response to the kind of test: this is what we should decide with our test."
   ]
  },
  {
   "cell_type": "markdown",
   "metadata": {},
   "source": [
    "(2) What is an appropriate set of hypotheses for this task? Specify your null and alternative hypotheses, and clearly define any notation used. Justify your choices."
   ]
  },
  {
   "cell_type": "markdown",
   "metadata": {},
   "source": [
    ">**Answer 2 a:**  <br>\n",
    "An appropriate null hypothesis for the Stroop Task is that the mean time of execution of the task doesn't vary for Congruent and Incogruent tasks, while the alternative hypothesis is that they differ. <br>\n",
    "Defining the mean time for the Congruent Stroop Task as $\\mu_{c}$ and the mean time for the Incongruent task as $\\mu_{i}$, the null and alternative hypotesis can be defined as follows:\n",
    "\n",
    "$$ H_0: \\mu{i}  - \\mu{c} = 0 $$\n",
    "$$ H_1: \\mu_{i}  - \\mu{c} \\neq 0 $$"
   ]
  },
  {
   "cell_type": "markdown",
   "metadata": {},
   "source": [
    ">**Answer 2 b ** :<br>\n",
    ">A good way to test the above hypothesis is to perform a paired two-tailed t-test: this kind of test is useful when examining data relative to the same individuals in two different conditions, like the same group of students in two different exams. In particular in this case I'll use the the scipy.stats.ttest_rel function (here the documentation: https://docs.scipy.org/doc/scipy/reference/generated/scipy.stats.ttest_rel.html)<br>\n",
    "This kind of test requires a series of **assumptions**: <br>\n",
    "<ul>\n",
    "<li> The dependent variable is a quantitative continuous measure.\n",
    "<li> The pairs are independent one from another, meaning in this case that the times recorded for each individual are independent of the times for another individual (clearly the times for the Congruent and Incongruent task in the case of the same individual cannot be independent one from another) and the samples are random (in our case we assume that the individuals involved in the experiment have been chosen at random).\n",
    "<li>There aren't outliers.</li>\n",
    "<li>The distribution of the mean differences  in the population from which the samples have been drawn is normal.\n",
    "</ul>"
   ]
  },
  {
   "cell_type": "markdown",
   "metadata": {},
   "source": [
    "(3) Report some descriptive statistics regarding this dataset. Include at least one measure of central tendency and at least one measure of variability. The name of the data file is 'stroopdata.csv'."
   ]
  },
  {
   "cell_type": "code",
   "execution_count": 150,
   "metadata": {
    "collapsed": true
   },
   "outputs": [],
   "source": [
    "# Perform the analysis here\n",
    "import pandas as pd\n",
    "import numpy as np\n",
    "import scipy.stats as stats\n",
    "import matplotlib.pyplot as plt\n",
    "%matplotlib inline"
   ]
  },
  {
   "cell_type": "code",
   "execution_count": 151,
   "metadata": {
    "collapsed": true
   },
   "outputs": [],
   "source": [
    "df = pd.read_csv('stroopdata.csv')"
   ]
  },
  {
   "cell_type": "code",
   "execution_count": 152,
   "metadata": {},
   "outputs": [
    {
     "data": {
      "text/html": [
       "<div>\n",
       "<style scoped>\n",
       "    .dataframe tbody tr th:only-of-type {\n",
       "        vertical-align: middle;\n",
       "    }\n",
       "\n",
       "    .dataframe tbody tr th {\n",
       "        vertical-align: top;\n",
       "    }\n",
       "\n",
       "    .dataframe thead th {\n",
       "        text-align: right;\n",
       "    }\n",
       "</style>\n",
       "<table border=\"1\" class=\"dataframe\">\n",
       "  <thead>\n",
       "    <tr style=\"text-align: right;\">\n",
       "      <th></th>\n",
       "      <th>Congruent</th>\n",
       "      <th>Incongruent</th>\n",
       "    </tr>\n",
       "  </thead>\n",
       "  <tbody>\n",
       "    <tr>\n",
       "      <th>0</th>\n",
       "      <td>12.079</td>\n",
       "      <td>19.278</td>\n",
       "    </tr>\n",
       "    <tr>\n",
       "      <th>1</th>\n",
       "      <td>16.791</td>\n",
       "      <td>18.741</td>\n",
       "    </tr>\n",
       "    <tr>\n",
       "      <th>2</th>\n",
       "      <td>9.564</td>\n",
       "      <td>21.214</td>\n",
       "    </tr>\n",
       "    <tr>\n",
       "      <th>3</th>\n",
       "      <td>8.630</td>\n",
       "      <td>15.687</td>\n",
       "    </tr>\n",
       "    <tr>\n",
       "      <th>4</th>\n",
       "      <td>14.669</td>\n",
       "      <td>22.803</td>\n",
       "    </tr>\n",
       "  </tbody>\n",
       "</table>\n",
       "</div>"
      ],
      "text/plain": [
       "   Congruent  Incongruent\n",
       "0     12.079       19.278\n",
       "1     16.791       18.741\n",
       "2      9.564       21.214\n",
       "3      8.630       15.687\n",
       "4     14.669       22.803"
      ]
     },
     "execution_count": 152,
     "metadata": {},
     "output_type": "execute_result"
    }
   ],
   "source": [
    "df.head()"
   ]
  },
  {
   "cell_type": "code",
   "execution_count": 153,
   "metadata": {},
   "outputs": [
    {
     "name": "stdout",
     "output_type": "stream",
     "text": [
      "<class 'pandas.core.frame.DataFrame'>\n",
      "RangeIndex: 24 entries, 0 to 23\n",
      "Data columns (total 2 columns):\n",
      "Congruent      24 non-null float64\n",
      "Incongruent    24 non-null float64\n",
      "dtypes: float64(2)\n",
      "memory usage: 464.0 bytes\n",
      "None\n"
     ]
    }
   ],
   "source": [
    "print(df.info())"
   ]
  },
  {
   "cell_type": "code",
   "execution_count": 154,
   "metadata": {},
   "outputs": [
    {
     "name": "stdout",
     "output_type": "stream",
     "text": [
      "       Congruent  Incongruent\n",
      "count  24.000000    24.000000\n",
      "mean   14.051125    22.015917\n",
      "std     3.559358     4.797057\n",
      "min     8.630000    15.687000\n",
      "25%    11.895250    18.716750\n",
      "50%    14.356500    21.017500\n",
      "75%    16.200750    24.051500\n",
      "max    22.328000    35.255000\n"
     ]
    }
   ],
   "source": [
    "print(df.describe())"
   ]
  },
  {
   "cell_type": "code",
   "execution_count": 155,
   "metadata": {
    "collapsed": true
   },
   "outputs": [],
   "source": [
    "# times for the Conguruent Stroop task\n",
    "congruent = df['Congruent']\n",
    "# times for the Incongruent Stroop task\n",
    "incongruent = df['Incongruent']"
   ]
  },
  {
   "cell_type": "code",
   "execution_count": 156,
   "metadata": {},
   "outputs": [
    {
     "name": "stdout",
     "output_type": "stream",
     "text": [
      "Mean of Times for the Congruent Task: 14.051125000000004\n"
     ]
    }
   ],
   "source": [
    "# Congruent Task times mean\n",
    "congruent_mean = congruent.mean()\n",
    "print(\"Mean of Times for the Congruent Task: \" + str(congruent_mean))"
   ]
  },
  {
   "cell_type": "code",
   "execution_count": 157,
   "metadata": {},
   "outputs": [
    {
     "name": "stdout",
     "output_type": "stream",
     "text": [
      "Mean of Times for the Incongruent Task: 22.01591666666667\n"
     ]
    }
   ],
   "source": [
    "# Incongruent Task times mean\n",
    "incongruent_mean = incongruent.mean()\n",
    "print(\"Mean of Times for the Incongruent Task: \" + str(incongruent_mean))"
   ]
  },
  {
   "cell_type": "code",
   "execution_count": 158,
   "metadata": {},
   "outputs": [
    {
     "name": "stdout",
     "output_type": "stream",
     "text": [
      "Minimum Time for the Congruent Task: 8.63\n"
     ]
    }
   ],
   "source": [
    "print(\"Minimum Time for the Congruent Task: \" + str(congruent.min()))"
   ]
  },
  {
   "cell_type": "code",
   "execution_count": 159,
   "metadata": {},
   "outputs": [
    {
     "name": "stdout",
     "output_type": "stream",
     "text": [
      "Minimum Time for the Incongruent Task: 15.687000000000001\n"
     ]
    }
   ],
   "source": [
    "print(\"Minimum Time for the Incongruent Task: \" + str(incongruent.min()))"
   ]
  },
  {
   "cell_type": "code",
   "execution_count": 160,
   "metadata": {},
   "outputs": [
    {
     "name": "stdout",
     "output_type": "stream",
     "text": [
      "Median Time for the Congruent Task: 14.3565\n"
     ]
    }
   ],
   "source": [
    "print(\"Median Time for the Congruent Task: \" + str(congruent.median()))"
   ]
  },
  {
   "cell_type": "code",
   "execution_count": 161,
   "metadata": {},
   "outputs": [
    {
     "name": "stdout",
     "output_type": "stream",
     "text": [
      "Median Time for the Incongruent Task: 21.0175\n"
     ]
    }
   ],
   "source": [
    "print(\"Median Time for the Incongruent Task: \" + str(incongruent.median()))"
   ]
  },
  {
   "cell_type": "code",
   "execution_count": 162,
   "metadata": {},
   "outputs": [
    {
     "name": "stdout",
     "output_type": "stream",
     "text": [
      "Standard Deviation for Congruent Stroop Task: 3.559357957645195\n"
     ]
    }
   ],
   "source": [
    "#standard deviation for the congruent task\n",
    "congruent_std = congruent.std()\n",
    "print('Standard Deviation for Congruent Stroop Task: ' + str(congruent_std))"
   ]
  },
  {
   "cell_type": "code",
   "execution_count": 163,
   "metadata": {},
   "outputs": [
    {
     "name": "stdout",
     "output_type": "stream",
     "text": [
      "Standard Deviation for Incongruent Stroop Task: 4.797057122469138\n"
     ]
    }
   ],
   "source": [
    "#standard deviation for the incongruent task\n",
    "incongruent_std = incongruent.std()\n",
    "print('Standard Deviation for Incongruent Stroop Task: ' + str(incongruent_std))"
   ]
  },
  {
   "cell_type": "markdown",
   "metadata": {},
   "source": [
    ">**Answer 3:** <br>\n",
    "The Congruent Task has a mean time of about 14.05, while the Incongruent Task has higher mean time of about 22.02. <br>\n",
    "The standard deviation for the congruent task is 3.56, while the Incongruent Task shows more variability with standard deviation of about 4.80. <br>\n",
    "Notably the minimum time for executing the Incongruent Task is 15.69, while considering the median of the Congruent Task of 14.36, 50% of the execution times for the Congruent task are below the minimum time for the Incongruent Task. <br>"
   ]
  },
  {
   "cell_type": "markdown",
   "metadata": {},
   "source": [
    "(4) Provide one or two visualizations that show the distribution of the sample data. Write one or two sentences noting what you observe about the plot or plots."
   ]
  },
  {
   "cell_type": "code",
   "execution_count": 164,
   "metadata": {},
   "outputs": [
    {
     "data": {
      "image/png": "[encoded data removed]",
      "text/plain": [
       "<matplotlib.figure.Figure at 0x21fccbc8208>"
      ]
     },
     "metadata": {},
     "output_type": "display_data"
    }
   ],
   "source": [
    "plt.hist(incongruent, alpha = 0.5, label = \"Incongruent Task\");\n",
    "plt.hist(congruent, alpha = 0.5, label = \"Congruent Task\");\n",
    "plt.legend(loc=\"upper right\");\n",
    "plt.title(\"Distributions of Times For Congruent and Incongruent Task\");\n",
    "plt.xlabel(\"Time for Executing The Stroop Task\");\n",
    "plt.ylabel(\"Frequency\");"
   ]
  },
  {
   "cell_type": "markdown",
   "metadata": {},
   "source": [
    ">**Answer 4 a: **<br>\n",
    "As expected considering the statistics about the Congruent and Incongruent Task, the distribution of times for the Congruent Task is shifted towards shorter times respect to the one for Incongruent Task as illustrated by the graph above."
   ]
  },
  {
   "cell_type": "code",
   "execution_count": 165,
   "metadata": {},
   "outputs": [
    {
     "data": {
      "image/png": "[encoded data removed]",
      "text/plain": [
       "<matplotlib.figure.Figure at 0x21fccb46588>"
      ]
     },
     "metadata": {},
     "output_type": "display_data"
    }
   ],
   "source": [
    "df.plot.bar()\n",
    "plt.title(\"Congruent and Incongruent Time of Execution for Every Individual\");\n",
    "plt.ylabel(\"Time\");"
   ]
  },
  {
   "cell_type": "markdown",
   "metadata": {},
   "source": [
    ">**Answer 4 b:** <br>\n",
    "Comparing side by side the times for the Congruent and Incongruent task for each individual in the graph above, is evident that for every partecipant in the experiment the times for the Congruent Task are always shorter that the one for the Incongruent Task.<br>"
   ]
  },
  {
   "cell_type": "code",
   "execution_count": 166,
   "metadata": {},
   "outputs": [
    {
     "data": {
      "text/plain": [
       "Text(0.5,0,'Type of Task')"
      ]
     },
     "execution_count": 166,
     "metadata": {},
     "output_type": "execute_result"
    },
    {
     "data": {
      "image/png": "[encoded data removed]",
      "text/plain": [
       "<matplotlib.figure.Figure at 0x21fcd1bb9b0>"
      ]
     },
     "metadata": {},
     "output_type": "display_data"
    }
   ],
   "source": [
    "df.mean().plot('bar');\n",
    "plt.title(\"Mean of Times for Congruent and Incongruent Task\");\n",
    "plt.ylabel(\"Times\")\n",
    "plt.xlabel(\"Type of Task\")"
   ]
  },
  {
   "cell_type": "markdown",
   "metadata": {},
   "source": [
    ">**Answer 4 c: **<br>\n",
    "The last bar plot shows means for the the two task, with again the Incongruent Task requiring more time."
   ]
  },
  {
   "cell_type": "markdown",
   "metadata": {},
   "source": [
    "(5)  Now, perform the statistical test and report your results. What is your confidence level or Type I error associated with your test? What is your conclusion regarding the hypotheses you set up? Did the results match up with your expectations? **Hint:**  Think about what is being measured on each individual, and what statistic best captures how an individual reacts in each environment."
   ]
  },
  {
   "cell_type": "code",
   "execution_count": 167,
   "metadata": {},
   "outputs": [
    {
     "name": "stdout",
     "output_type": "stream",
     "text": [
      "t statistics : -8.020706944109957\n",
      "p-value: 4.103000585711178e-08\n"
     ]
    }
   ],
   "source": [
    "# Perform the statistical test here\n",
    "t, p_value = stats.ttest_rel(congruent, incongruent)\n",
    "print(\"t statistics : \" + str(t))\n",
    "print(\"p-value: \" + str(p_value))"
   ]
  },
  {
   "cell_type": "markdown",
   "metadata": {},
   "source": [
    ">**Answer 5:** <br>\n",
    "The paired T-test above show a p-value of 4.103e-08 and a t-statistics of -8.02. <br>\n",
    "Assuming a confidence level of 95%, corresponding to an alpha value of 0.05, the p-value associated with the test is significantly less than the alpha value, showing that the probability of finding the diffences in times we observed in our data is very tiny, therefore we reject the null hypothesis: the time required for executing the Incongruent Task is significantly different from the one required for the Congruent Task, as expected from the statistics we have found in the data."
   ]
  },
  {
   "cell_type": "markdown",
   "metadata": {},
   "source": [
    "(6) Optional: What do you think is responsible for the effects observed? Can you think of an alternative or similar task that would result in a similar effect? Some research about the problem will be helpful for thinking about these two questions!"
   ]
  },
  {
   "cell_type": "markdown",
   "metadata": {},
   "source": [
    ">**Answer 6: ** <br>\n",
    "According to Wikipedia, there could be several reasons for the Stroop Effect, one of these is a race condition due to the different areas of the brain involved in reading and recognizing colors: the brain is faster at reading than at recognizing colors, so the first information the brain receives is the name of the color rather than the color itself and this can cause confusion and more time for taking a decision about which word to say. <br>\n",
    "\n",
    ">A second similar theory suggests that reading is an automate task for the brain, while recognizing colors is a voluntary task, requiring therefore more time and again causing confusion when the two informations doesn't match. <br>\n",
    "\n",
    ">A third theory says that it isn't a question of speed in neurons or of voluntary versus involuntary tasks, but a question of strenght: for the brain reading is simply more important than recognizing colors, so the information obtained from reading is considered more important than the one from the color, causing an interference if the two informations don't match.<br>\n",
    "\n",
    ">I like all the theories, but I favor the second (did you ever read the ingredients of the toothpaste while washing the teeth? I did), but mine is only an assumption not based on any data.\n",
    "\n",
    ">Another similar task could involve something usually done automatically like listening, in contrast with something else that requires attention like writing or counting, for example writing a word if the number of letters of a word are even, but not if they are odd, with the words being all numbers.\n",
    "\n"
   ]
  },
  {
   "cell_type": "markdown",
   "metadata": {
    "collapsed": true
   },
   "source": [
    "**Sources used as references **: <br>\n",
    "https://en.wikipedia.org/wiki/Stroop_effect <br>\n",
    "https://statistics.laerd.com/stata-tutorials/paired-t-test-using-stata.php <br>\n",
    "http://influentialpoints.com/Training/paired_t-test-principles-properties-assumptions.htm <br>\n",
    "https://docs.scipy.org/doc/scipy/reference/generated/scipy.stats.ttest_rel.html"
   ]
  },
  {
   "cell_type": "code",
   "execution_count": null,
   "metadata": {
    "collapsed": true
   },
   "outputs": [],
   "source": []
  }
 ],
 "metadata": {
  "kernelspec": {
   "display_name": "Python [default]",
   "language": "python",
   "name": "python3"
  },
  "language_info": {
   "codemirror_mode": {
    "name": "ipython",
    "version": 3
   },
   "file_extension": ".py",
   "mimetype": "text/x-python",
   "name": "python",
   "nbconvert_exporter": "python",
   "pygments_lexer": "ipython3",
   "version": "3.6.3"
  }
 },
 "nbformat": 4,
 "nbformat_minor": 2
}
