{
 "cells": [
  {
   "cell_type": "markdown",
   "metadata": {},
   "source": [
    "# 2016 US Bike Share Activity Snapshot\n",
    "\n",
    "## Table of Contents\n",
    "- [Introduction](#intro)\n",
    "- [Posing Questions](#pose_questions)\n",
    "- [Data Collection and Wrangling](#wrangling)\n",
    "  - [Condensing the Trip Data](#condensing)\n",
    "- [Exploratory Data Analysis](#eda)\n",
    "  - [Statistics](#statistics)\n",
    "  - [Visualizations](#visualizations)\n",
    "- [Performing Your Own Analysis](#eda_continued)\n",
    "- [Conclusions](#conclusions)\n",
    "\n",
    "<a id='intro'></a>\n",
    "## Introduction\n",
    "\n",
    "\n",
    "Over the past decade, bicycle-sharing systems have been growing in number and popularity in cities across the world. Bicycle-sharing systems allow users to rent bicycles for short trips, typically 30 minutes or less. Thanks to the rise in information technologies, it is easy for a user of the system to access a dock within the system to unlock or return bicycles. These technologies also provide a wealth of data that can be used to explore how these bike-sharing systems are used.\n",
    "\n",
    "In this project, you will perform an exploratory analysis on data provided by [Motivate](https://www.motivateco.com/), a bike-share system provider for many major cities in the United States. You will compare the system usage between three large cities: New York City, Chicago, and Washington, DC. You will also see if there are any differences within each system for those users that are registered, regular users and those users that are short-term, casual users."
   ]
  },
  {
   "cell_type": "markdown",
   "metadata": {},
   "source": [
    "<a id='pose_questions'></a>\n",
    "## Posing Questions\n",
    "\n",
    "Before looking at the bike sharing data, you should start by asking questions you might want to understand about the bike share data. Consider, for example, if you were working for Motivate. What kinds of information would you want to know about in order to make smarter business decisions? If you were a user of the bike-share service, what factors might influence how you would want to use the service?\n",
    "\n",
    "**Question 1**: Write at least two questions related to bike sharing that you think could be answered by data.\n",
    "\n",
    "**Answer**:<br>\n",
    "A bike sharing service need to know many informations about their users, for example:<br>\n",
    "How many users in total use the bike sharing service?<br>\n",
    "How many users are subscribers to the service?<br>\n",
    "Which are the preferred destinations and start stations?<br>\n",
    "How long are on average the trips made by the users?<br>\n",
    "Which days of the week have the largest number of users?<br>\n",
    "Which hours of the day show the highest number of users?<br>\n",
    "Collecting data can help the bike sharing service to offer a better experience to the users, making available the right number of bikes, hiring enough staff to manage the service, planning correctly the needed maintenance and can also help in planning a correct strategy for advertising and increasing the number of users of the service."
   ]
  },
  {
   "cell_type": "markdown",
   "metadata": {},
   "source": [
    "<a id='wrangling'></a>\n",
    "## Data Collection and Wrangling\n",
    "\n",
    "Now it's time to collect and explore our data. In this project, we will focus on the record of individual trips taken in 2016 from our selected cities: New York City, Chicago, and Washington, DC. Each of these cities has a page where we can freely download the trip data.:\n",
    "\n",
    "- New York City (Citi Bike): [Link](https://www.citibikenyc.com/system-data)\n",
    "- Chicago (Divvy): [Link](https://www.divvybikes.com/system-data)\n",
    "- Washington, DC (Capital Bikeshare): [Link](https://www.capitalbikeshare.com/system-data)\n",
    "\n",
    "If you visit these pages, you will notice that each city has a different way of delivering its data. Chicago updates with new data twice a year, Washington DC is quarterly, and New York City is monthly. **However, you do not need to download the data yourself.** The data has already been collected for you in the `/data/` folder of the project files. While the original data for 2016 is spread among multiple files for each city, the files in the `/data/` folder collect all of the trip data for the year into one file per city. Some data wrangling of inconsistencies in timestamp format within each city has already been performed for you. In addition, a random 2% sample of the original data is taken to make the exploration more manageable. \n",
    "\n",
    "**Question 2**: However, there is still a lot of data for us to investigate, so it's a good idea to start off by looking at one entry from each of the cities we're going to analyze. Run the first code cell below to load some packages and functions that you'll be using in your analysis. Then, complete the second code cell to print out the first trip recorded from each of the cities (the second line of each data file).\n",
    "\n",
    "> **Tip**: You can run a code cell like you formatted Markdown cells above by clicking on the cell and using the keyboard shortcut **Shift** + **Enter** or **Shift** + **Return**. Alternatively, a code cell can be executed using the **Play** button in the toolbar after selecting it. While the cell is running, you will see an asterisk in the message to the left of the cell, i.e. `In [*]:`. The asterisk will change into a number to show that execution has completed, e.g. `In [1]`. If there is output, it will show up as `Out [1]:`, with an appropriate number to match the \"In\" number."
   ]
  },
  {
   "cell_type": "code",
   "execution_count": 1,
   "metadata": {
    "collapsed": true
   },
   "outputs": [],
   "source": [
    "## import all necessary packages and functions.\n",
    "import csv # read and write csv files\n",
    "from datetime import datetime # operations to parse dates\n",
    "from pprint import pprint # use to print data structures like dictionaries in\n",
    "                          # a nicer way than the base print function."
   ]
  },
  {
   "cell_type": "code",
   "execution_count": 2,
   "metadata": {},
   "outputs": [
    {
     "name": "stdout",
     "output_type": "stream",
     "text": [
      "\n",
      "City: NYC\n",
      "OrderedDict([('tripduration', '839'),\n",
      "             ('starttime', '1/1/2016 00:09:55'),\n",
      "             ('stoptime', '1/1/2016 00:23:54'),\n",
      "             ('start station id', '532'),\n",
      "             ('start station name', 'S 5 Pl & S 4 St'),\n",
      "             ('start station latitude', '40.710451'),\n",
      "             ('start station longitude', '-73.960876'),\n",
      "             ('end station id', '401'),\n",
      "             ('end station name', 'Allen St & Rivington St'),\n",
      "             ('end station latitude', '40.72019576'),\n",
      "             ('end station longitude', '-73.98997825'),\n",
      "             ('bikeid', '17109'),\n",
      "             ('usertype', 'Customer'),\n",
      "             ('birth year', ''),\n",
      "             ('gender', '0')])\n",
      "\n",
      "City: Chicago\n",
      "OrderedDict([('trip_id', '9080545'),\n",
      "             ('starttime', '3/31/2016 23:30'),\n",
      "             ('stoptime', '3/31/2016 23:46'),\n",
      "             ('bikeid', '2295'),\n",
      "             ('tripduration', '926'),\n",
      "             ('from_station_id', '156'),\n",
      "             ('from_station_name', 'Clark St & Wellington Ave'),\n",
      "             ('to_station_id', '166'),\n",
      "             ('to_station_name', 'Ashland Ave & Wrightwood Ave'),\n",
      "             ('usertype', 'Subscriber'),\n",
      "             ('gender', 'Male'),\n",
      "             ('birthyear', '1990')])\n",
      "\n",
      "City: Washington\n",
      "OrderedDict([('Duration (ms)', '427387'),\n",
      "             ('Start date', '3/31/2016 22:57'),\n",
      "             ('End date', '3/31/2016 23:04'),\n",
      "             ('Start station number', '31602'),\n",
      "             ('Start station', 'Park Rd & Holmead Pl NW'),\n",
      "             ('End station number', '31207'),\n",
      "             ('End station', 'Georgia Ave and Fairmont St NW'),\n",
      "             ('Bike number', 'W20842'),\n",
      "             ('Member Type', 'Registered')])\n"
     ]
    }
   ],
   "source": [
    "def print_first_point(filename):\n",
    "    \"\"\"\n",
    "    This function prints and returns the first data point (second row) from\n",
    "    a csv file that includes a header row.\n",
    "    \"\"\"\n",
    "    # print city name for reference\n",
    "    city = filename.split('-')[0].split('/')[-1]\n",
    "    print('\\nCity: {}'.format(city))\n",
    "    \n",
    "    with open(filename, 'r') as f_in:\n",
    "        ## TODO: Use the csv library to set up a DictReader object. ##\n",
    "        ## see https://docs.python.org/3/library/csv.html           ##\n",
    "        trip_reader = csv.DictReader(f_in)\n",
    "        \n",
    "        ## TODO: Use a function on the DictReader object to read the     ##\n",
    "        ## first trip from the data file and store it in a variable.     ##\n",
    "        ## see https://docs.python.org/3/library/csv.html#reader-objects ##\n",
    "        first_trip = next(trip_reader)\n",
    "        \n",
    "        ## TODO: Use the pprint library to print the first trip. ##\n",
    "        ## see https://docs.python.org/3/library/pprint.html     ##\n",
    "        pprint(first_trip)\n",
    "        \n",
    "    # output city name and first trip for later testing\n",
    "    return (city, first_trip)\n",
    "\n",
    "# list of files for each city\n",
    "data_files = ['./data/NYC-CitiBike-2016.csv',\n",
    "              './data/Chicago-Divvy-2016.csv',\n",
    "              './data/Washington-CapitalBikeshare-2016.csv',]\n",
    "\n",
    "# print the first trip from each file, store in dictionary\n",
    "example_trips = {}\n",
    "for data_file in data_files:\n",
    "    city, first_trip = print_first_point(data_file)\n",
    "    example_trips[city] = first_trip"
   ]
  },
  {
   "cell_type": "markdown",
   "metadata": {},
   "source": [
    "If everything has been filled out correctly, you should see below the printout of each city name (which has been parsed from the data file name) that the first trip has been parsed in the form of a dictionary. When you set up a `DictReader` object, the first row of the data file is normally interpreted as column names. Every other row in the data file will use those column names as keys, as a dictionary is generated for each row.\n",
    "\n",
    "This will be useful since we can refer to quantities by an easily-understandable label instead of just a numeric index. For example, if we have a trip stored in the variable `row`, then we would rather get the trip duration from `row['duration']` instead of `row[0]`.\n",
    "\n",
    "<a id='condensing'></a>\n",
    "### Condensing the Trip Data\n",
    "\n",
    "It should also be observable from the above printout that each city provides different information. Even where the information is the same, the column names and formats are sometimes different. To make things as simple as possible when we get to the actual exploration, we should trim and clean the data. Cleaning the data makes sure that the data formats across the cities are consistent, while trimming focuses only on the parts of the data we are most interested in to make the exploration easier to work with.\n",
    "\n",
    "You will generate new data files with five values of interest for each trip: trip duration, starting month, starting hour, day of the week, and user type. Each of these may require additional wrangling depending on the city:\n",
    "\n",
    "- **Duration**: This has been given to us in seconds (New York, Chicago) or milliseconds (Washington). A more natural unit of analysis will be if all the trip durations are given in terms of minutes.\n",
    "- **Month**, **Hour**, **Day of Week**: Ridership volume is likely to change based on the season, time of day, and whether it is a weekday or weekend. Use the start time of the trip to obtain these values. The New York City data includes the seconds in their timestamps, while Washington and Chicago do not. The [`datetime`](https://docs.python.org/3/library/datetime.html) package will be very useful here to make the needed conversions.\n",
    "- **User Type**: It is possible that users who are subscribed to a bike-share system will have different patterns of use compared to users who only have temporary passes. Washington divides its users into two types: 'Registered' for users with annual, monthly, and other longer-term subscriptions, and 'Casual', for users with 24-hour, 3-day, and other short-term passes. The New York and Chicago data uses 'Subscriber' and 'Customer' for these groups, respectively. For consistency, you will convert the Washington labels to match the other two.\n",
    "\n",
    "\n",
    "**Question 3a**: Complete the helper functions in the code cells below to address each of the cleaning tasks described above."
   ]
  },
  {
   "cell_type": "code",
   "execution_count": 3,
   "metadata": {
    "collapsed": true
   },
   "outputs": [],
   "source": [
    "def duration_in_mins(datum, city):\n",
    "    \"\"\"\n",
    "    Takes as input a dictionary containing info about a single trip (datum) and\n",
    "    its origin city (city) and returns the trip duration in units of minutes.\n",
    "    \n",
    "    Remember that Washington is in terms of milliseconds while Chicago and NYC\n",
    "    are in terms of seconds. \n",
    "    \n",
    "    HINT: The csv module reads in all of the data as strings, including numeric\n",
    "    values. You will need a function to convert the strings into an appropriate\n",
    "    numeric type when making your transformations.\n",
    "    see https://docs.python.org/3/library/functions.html\n",
    "    \"\"\"\n",
    "    \n",
    "    # YOUR CODE HERE\n",
    "    if city == 'Washington':\n",
    "        duration = float(datum['Duration (ms)'])/1000/60\n",
    "    else:\n",
    "        duration = float(datum['tripduration'])/60\n",
    "    \n",
    "    return duration\n",
    "\n",
    "\n",
    "# Some tests to check that your code works. There should be no output if all of\n",
    "# the assertions pass. The `example_trips` dictionary was obtained from when\n",
    "# you printed the first trip from each of the original data files.\n",
    "tests = {'NYC': 13.9833,\n",
    "         'Chicago': 15.4333,\n",
    "         'Washington': 7.1231}\n",
    "\n",
    "for city in tests:\n",
    "    assert abs(duration_in_mins(example_trips[city], city) - tests[city]) < .001"
   ]
  },
  {
   "cell_type": "code",
   "execution_count": 4,
   "metadata": {
    "collapsed": true
   },
   "outputs": [],
   "source": [
    "def time_of_trip(datum, city):\n",
    "    \"\"\"\n",
    "    Takes as input a dictionary containing info about a single trip (datum) and\n",
    "    its origin city (city) and returns the month, hour, and day of the week in\n",
    "    which the trip was made.\n",
    "    \n",
    "    Remember that NYC includes seconds, while Washington and Chicago do not.\n",
    "    \n",
    "    HINT: You should use the datetime module to parse the original date\n",
    "    strings into a format that is useful for extracting the desired information.\n",
    "    see https://docs.python.org/3/library/datetime.html#strftime-and-strptime-behavior\n",
    "    \"\"\"\n",
    "    nyc_timestamp_format = '%m/%d/%Y %H:%M:%S'\n",
    "    other_cities_timestamp_format = '%m/%d/%Y %H:%M'\n",
    "    week = ['Monday', 'Tuesday','Wednesday','Thursday', 'Friday', 'Saturday', 'Sunday']\n",
    "    \n",
    "    date_format = other_cities_timestamp_format\n",
    "    start_time_key = 'starttime'\n",
    "    \n",
    "    if city == 'NYC':\n",
    "        date_format = nyc_timestamp_format\n",
    "        \n",
    "    if city =='Washington':\n",
    "        start_time_key = 'Start date'\n",
    "    \n",
    "    start_date = datetime.strptime(datum[start_time_key], date_format)\n",
    "    month = start_date.month\n",
    "    hour = start_date.hour\n",
    "    day_of_week = week[start_date.weekday()]\n",
    "    \n",
    "    return (month, hour, day_of_week)\n",
    "\n",
    "\n",
    "# Some tests to check that your code works. There should be no output if all of\n",
    "# the assertions pass. The `example_trips` dictionary was obtained from when\n",
    "# you printed the first trip from each of the original data files.\n",
    "tests = {'NYC': (1, 0, 'Friday'),\n",
    "         'Chicago': (3, 23, 'Thursday'),\n",
    "         'Washington': (3, 22, 'Thursday')}\n",
    "\n",
    "for city in tests:\n",
    "    assert time_of_trip(example_trips[city], city) == tests[city]"
   ]
  },
  {
   "cell_type": "code",
   "execution_count": 5,
   "metadata": {
    "collapsed": true
   },
   "outputs": [],
   "source": [
    "def type_of_user(datum, city):\n",
    "    \"\"\"\n",
    "    Takes as input a dictionary containing info about a single trip (datum) and\n",
    "    its origin city (city) and returns the type of system user that made the\n",
    "    trip.\n",
    "    \n",
    "    Remember that Washington has different category names compared to Chicago\n",
    "    and NYC. \n",
    "    \"\"\"\n",
    "    if city == 'Washington':\n",
    "        type_of_user = datum['Member Type']\n",
    "        if type_of_user == 'Registered':\n",
    "            user_type = 'Subscriber'\n",
    "        else:\n",
    "            user_type = 'Customer'\n",
    "    else:\n",
    "        user_type = datum['usertype']\n",
    "    \n",
    "    return user_type\n",
    "\n",
    "\n",
    "# Some tests to check that your code works. There should be no output if all of\n",
    "# the assertions pass. The `example_trips` dictionary was obtained from when\n",
    "# you printed the first trip from each of the original data files.\n",
    "tests = {'NYC': 'Customer',\n",
    "         'Chicago': 'Subscriber',\n",
    "         'Washington': 'Subscriber'}\n",
    "\n",
    "for city in tests:\n",
    "    assert type_of_user(example_trips[city], city) == tests[city]"
   ]
  },
  {
   "cell_type": "markdown",
   "metadata": {},
   "source": [
    "**Question 3b**: Now, use the helper functions you wrote above to create a condensed data file for each city consisting only of the data fields indicated above. In the `/examples/` folder, you will see an example datafile from the [Bay Area Bike Share](http://www.bayareabikeshare.com/open-data) before and after conversion. Make sure that your output is formatted to be consistent with the example file."
   ]
  },
  {
   "cell_type": "code",
   "execution_count": 6,
   "metadata": {
    "collapsed": true
   },
   "outputs": [],
   "source": [
    "def condense_data(in_file, out_file, city):\n",
    "    \"\"\"\n",
    "    This function takes full data from the specified input file\n",
    "    and writes the condensed data to a specified output file. The city\n",
    "    argument determines how the input file will be parsed.\n",
    "    \n",
    "    HINT: See the cell below to see how the arguments are structured!\n",
    "    \"\"\"\n",
    "    \n",
    "    with open(out_file, 'w') as f_out, open(in_file, 'r') as f_in:\n",
    "        # set up csv DictWriter object - writer requires column names for the\n",
    "        # first row as the \"fieldnames\" argument\n",
    "        out_colnames = ['duration', 'month', 'hour', 'day_of_week', 'user_type']        \n",
    "        trip_writer = csv.DictWriter(f_out, fieldnames = out_colnames)\n",
    "        trip_writer.writeheader()\n",
    "        \n",
    "        ## TODO: set up csv DictReader object ##\n",
    "        trip_reader = csv.DictReader(f_in)\n",
    "\n",
    "        # collect data from and process each row\n",
    "        for row in trip_reader:\n",
    "            # set up a dictionary to hold the values for the cleaned and trimmed\n",
    "            # data point\n",
    "            new_point = {}\n",
    "            \n",
    "            ## TODO: use the helper functions to get the cleaned data from  ##\n",
    "            ## the original data dictionaries.                              ##\n",
    "            ## Note that the keys for the new_point dictionary should match ##\n",
    "            ## the column names set in the DictWriter object above.         ##\n",
    "            new_point['duration'] = duration_in_mins(row, city)\n",
    "            (month, hour, day_of_week) = time_of_trip(row, city)\n",
    "            new_point['month'] = month\n",
    "            new_point['hour'] = hour\n",
    "            new_point['day_of_week'] = day_of_week\n",
    "            new_point['user_type'] = type_of_user(row, city)\n",
    "            \n",
    "\n",
    "            ## TODO: write the processed information to the output file.     ##\n",
    "            ## see https://docs.python.org/3/library/csv.html#writer-objects ##\n",
    "            #trip_writer.writerow(row)\n",
    "            trip_writer.writerow(new_point)\n",
    "            \n",
    "            "
   ]
  },
  {
   "cell_type": "code",
   "execution_count": 7,
   "metadata": {},
   "outputs": [
    {
     "name": "stdout",
     "output_type": "stream",
     "text": [
      "\n",
      "City: Washington\n",
      "OrderedDict([('duration', '7.123116666666666'),\n",
      "             ('month', '3'),\n",
      "             ('hour', '22'),\n",
      "             ('day_of_week', 'Thursday'),\n",
      "             ('user_type', 'Subscriber')])\n",
      "\n",
      "City: Chicago\n",
      "OrderedDict([('duration', '15.433333333333334'),\n",
      "             ('month', '3'),\n",
      "             ('hour', '23'),\n",
      "             ('day_of_week', 'Thursday'),\n",
      "             ('user_type', 'Subscriber')])\n",
      "\n",
      "City: NYC\n",
      "OrderedDict([('duration', '13.983333333333333'),\n",
      "             ('month', '1'),\n",
      "             ('hour', '0'),\n",
      "             ('day_of_week', 'Friday'),\n",
      "             ('user_type', 'Customer')])\n"
     ]
    }
   ],
   "source": [
    "# Run this cell to check your work\n",
    "city_info = {'Washington': {'in_file': './data/Washington-CapitalBikeshare-2016.csv',\n",
    "                            'out_file': './data/Washington-2016-Summary.csv'},\n",
    "             'Chicago': {'in_file': './data/Chicago-Divvy-2016.csv',\n",
    "                         'out_file': './data/Chicago-2016-Summary.csv'},\n",
    "             'NYC': {'in_file': './data/NYC-CitiBike-2016.csv',\n",
    "                     'out_file': './data/NYC-2016-Summary.csv'}}\n",
    "\n",
    "for city, filenames in city_info.items():\n",
    "    condense_data(filenames['in_file'], filenames['out_file'], city)\n",
    "    print_first_point(filenames['out_file'])"
   ]
  },
  {
   "cell_type": "markdown",
   "metadata": {},
   "source": [
    "> **Tip**: If you save a jupyter Notebook, the output from running code blocks will also be saved. However, the state of your workspace will be reset once a new session is started. Make sure that you run all of the necessary code blocks from your previous session to reestablish variables and functions before picking up where you last left off.\n",
    "\n",
    "<a id='eda'></a>\n",
    "## Exploratory Data Analysis\n",
    "\n",
    "Now that you have the data collected and wrangled, you're ready to start exploring the data. In this section you will write some code to compute descriptive statistics from the data. You will also be introduced to the `matplotlib` library to create some basic histograms of the data.\n",
    "\n",
    "<a id='statistics'></a>\n",
    "### Statistics\n",
    "\n",
    "First, let's compute some basic counts. The first cell below contains a function that uses the csv module to iterate through a provided data file, returning the number of trips made by subscribers and customers. The second cell runs this function on the example Bay Area data in the `/examples/` folder. Modify the cells to answer the question below.\n",
    "\n",
    "**Question 4a**: Which city has the highest number of trips? Which city has the highest proportion of trips made by subscribers? Which city has the highest proportion of trips made by short-term customers?\n",
    "\n",
    "**Answer**:<br>\n",
    "The city with the highest numbers of trips is New York with 276798 trips in total. <br>\n",
    "New York is also the city with the highest proportion of trips made by subscribers (0.89, as percentage 89%). <br>\n",
    "Chicago has the highest proportion of trips made by short-term customers (0.24, as percentage 24%).<br>\n"
   ]
  },
  {
   "cell_type": "code",
   "execution_count": 8,
   "metadata": {
    "collapsed": true
   },
   "outputs": [],
   "source": [
    "def number_of_trips(filename):\n",
    "    \"\"\"\n",
    "    This function reads in a file with trip data and reports the number of\n",
    "    trips made by subscribers, customers, and total overall.\n",
    "    \"\"\"\n",
    "    with open(filename, 'r') as f_in:\n",
    "        # set up csv reader object\n",
    "        reader = csv.DictReader(f_in)\n",
    "        \n",
    "        # initialize count variables\n",
    "        n_subscribers = 0\n",
    "        n_customers = 0\n",
    "        \n",
    "        # tally up ride types\n",
    "        for row in reader:\n",
    "            if row['user_type'] == 'Subscriber':\n",
    "                n_subscribers += 1\n",
    "            else:\n",
    "                n_customers += 1\n",
    "        \n",
    "        # compute total number of rides\n",
    "        n_total = n_subscribers + n_customers\n",
    "        \n",
    "        # return tallies as a tuple\n",
    "        return(n_subscribers, n_customers, n_total)"
   ]
  },
  {
   "cell_type": "code",
   "execution_count": 9,
   "metadata": {},
   "outputs": [
    {
     "name": "stdout",
     "output_type": "stream",
     "text": [
      "(5666, 633, 6299)\n"
     ]
    }
   ],
   "source": [
    "## Modify this and the previous cell to answer Question 4a. Remember to run ##\n",
    "## the function on the cleaned data files you created from Question 3.      ##\n",
    "\n",
    "data_file = './examples/BayArea-Y3-Summary.csv'\n",
    "print(number_of_trips(data_file))"
   ]
  },
  {
   "cell_type": "code",
   "execution_count": 10,
   "metadata": {},
   "outputs": [
    {
     "name": "stdout",
     "output_type": "stream",
     "text": [
      "NYC total trips: 276798 Chicago total trips: 72131 Washington total trips: 66326\n",
      "NYC subcribers proportion: 0.8883590199351151\n",
      "Chicago subcribers proportion: 0.7622520136973008\n",
      "Washington subscribers proportion: 0.7802822422579381\n",
      "NYC customers proportion: 0.11164098006488486\n",
      "Chicago customers proportion: 0.23774798630269925\n",
      "Washington customers proportion: 0.21971775774206193\n"
     ]
    }
   ],
   "source": [
    "# Calculation for answering Question 4a\n",
    "\n",
    "NYC_file ='./data/NYC-2016-Summary.csv'\n",
    "Chicago_file = './data/Chicago-2016-Summary.csv'\n",
    "Washington_file = './data/Washington-2016-Summary.csv'\n",
    "\n",
    "# number of total trips in each city.\n",
    "(nyc_subscribers, nyc_customers, nyc_total) = number_of_trips(NYC_file)\n",
    "(chicago_subscribers, chicago_customers, chicago_total) = number_of_trips(Chicago_file)\n",
    "(washington_subscribers, washington_customers, washington_total) = number_of_trips(Washington_file)\n",
    "\n",
    "print(\"NYC total trips: \" + str(nyc_total) + \" Chicago total trips: \" + str(chicago_total)\n",
    "      + \" Washington total trips: \" + str(washington_total))   \n",
    "\n",
    "# proportion of subscribers in each city.     \n",
    "nyc_subscribers_proportion = nyc_subscribers/nyc_total\n",
    "chicago_subscribers_proportion = chicago_subscribers/chicago_total\n",
    "washington_subscribers_proportion = washington_subscribers/washington_total\n",
    "\n",
    "print(\"NYC subcribers proportion: \" + str(nyc_subscribers_proportion) + \"\\nChicago subcribers proportion: \" \n",
    "      + str(chicago_subscribers_proportion)\n",
    "      + \"\\nWashington subscribers proportion: \" + str(washington_subscribers_proportion))   \n",
    "\n",
    "\n",
    "nyc_customers_proportion = nyc_customers/nyc_total\n",
    "chicago_customers_proportion = chicago_customers/chicago_total\n",
    "washington_customers_proportion = washington_customers/washington_total\n",
    "\n",
    "print(\"NYC customers proportion: \" + str(nyc_customers_proportion) + \"\\nChicago customers proportion: \" \n",
    "      + str(chicago_customers_proportion)\n",
    "      + \"\\nWashington customers proportion: \" + str(washington_customers_proportion)) \n",
    "\n",
    "\n"
   ]
  },
  {
   "cell_type": "markdown",
   "metadata": {},
   "source": [
    "> **Tip**: In order to add additional cells to a notebook, you can use the \"Insert Cell Above\" and \"Insert Cell Below\" options from the menu bar above. There is also an icon in the toolbar for adding new cells, with additional icons for moving the cells up and down the document. By default, new cells are of the code type; you can also specify the cell type (e.g. Code or Markdown) of selected cells from the Cell menu or the dropdown in the toolbar.\n",
    "\n",
    "Now, you will write your own code to continue investigating properties of the data.\n",
    "\n",
    "**Question 4b**: Bike-share systems are designed for riders to take short trips. Most of the time, users are allowed to take trips of 30 minutes or less with no additional charges, with overage charges made for trips of longer than that duration. What is the average trip length for each city? What proportion of rides made in each city are longer than 30 minutes?\n",
    "\n",
    "**Answer**: <br>\n",
    "The average trip length for New York is 15.81 minutes, the proportion of rides longer than 30 minutes is 0.073, in percentage 7.3%.<br>\n",
    "In Chicago the average trip length is 16.56 minutes, while the proportion of long rides is 0.083, in percentage 8.3%. <br>\n",
    "Washington has an average trip length of 18.93 minutes and a proportion of long rides 0.1084, in percentage 10.84%"
   ]
  },
  {
   "cell_type": "code",
   "execution_count": 11,
   "metadata": {
    "collapsed": true,
    "scrolled": true
   },
   "outputs": [],
   "source": [
    "## Use this and additional cells to answer Question 4b.                 ##\n",
    "##                                                                      ##\n",
    "## HINT: The csv module reads in all of the data as strings, including  ##\n",
    "## numeric values. You will need a function to convert the strings      ##\n",
    "## into an appropriate numeric type before you aggregate data.          ##\n",
    "## TIP: For the Bay Area example, the average trip length is 14 minutes ##\n",
    "## and 3.5% of trips are longer than 30 minutes.                        ##\n",
    "\n",
    "def trip_len_avg_and_long_rides_proportion(filename):\n",
    "    \"\"\" \n",
    "    Read in a file with trip data and returns\n",
    "    the average trip_lenght and the proportion of short rides.\n",
    "    Short rides have a duration <= 30 minutes.\n",
    "    \n",
    "    Arguments:\n",
    "    filename(str): the name of the file to read.\n",
    "    \n",
    "    Returns:\n",
    "    tuple(float, float): a tuple with the average trip length and the proportion of short rides\n",
    "    \n",
    "    \"\"\"\n",
    "    with open(filename, 'r') as f_in:\n",
    "        # set up csv reader object\n",
    "        reader = csv.DictReader(f_in)\n",
    "        \n",
    "        #initialize variables\n",
    "        total_trips = 0\n",
    "        total_len= 0\n",
    "        long_rides_num = 0\n",
    "        short_rides_duration = 30.0\n",
    "        epsilon = 0.001\n",
    "        \n",
    "        for row in reader:\n",
    "            total_trips += 1\n",
    "            duration = float(row['duration'])\n",
    "            total_len += duration\n",
    "            if (duration - short_rides_duration) > epsilon:\n",
    "                long_rides_num += 1\n",
    "        \n",
    "        avg_len = total_len / total_trips\n",
    "        long_rides_proportion = long_rides_num /total_trips\n",
    "        \n",
    "        return (avg_len, long_rides_proportion )\n",
    "                \n",
    "            \n",
    "        \n",
    "\n",
    "    "
   ]
  },
  {
   "cell_type": "code",
   "execution_count": 12,
   "metadata": {},
   "outputs": [
    {
     "name": "stdout",
     "output_type": "stream",
     "text": [
      "14.038656929671422\n",
      "0.035243689474519765\n",
      "NYC average trip length: 15.81259299802294\n",
      "NYC proportion of long rides: 0.07302437156337835\n",
      "Chicago average trip length: 16.563629368787335\n",
      "Chicago proportion of long rides: 0.08332062497400562\n",
      "Washington average trip length: 18.93287355913721\n",
      "Washington proportion of long rides: 0.10838886711093688\n"
     ]
    }
   ],
   "source": [
    "#Check function with example data\n",
    "data_file = './examples/BayArea-Y3-Summary.csv'\n",
    "(average, long_rides) = trip_len_avg_and_long_rides_proportion(data_file)\n",
    "print(average)\n",
    "print(long_rides)\n",
    "\n",
    "#Calculate average trip length and proportion of long rides for NYC\n",
    "(NYC_average_trip_len, NYC_long_rides_proportion) = trip_len_avg_and_long_rides_proportion(NYC_file)\n",
    "print(\"NYC average trip length: \" + str(NYC_average_trip_len))\n",
    "print(\"NYC proportion of long rides: \" + str(NYC_long_rides_proportion))\n",
    "\n",
    "#Calculate average trip length and proportion of long rides for Chicago\n",
    "(Chicago_average_trip_len, Chicago_long_rides_proportion) = trip_len_avg_and_long_rides_proportion(Chicago_file)\n",
    "print(\"Chicago average trip length: \" + str(Chicago_average_trip_len))\n",
    "print(\"Chicago proportion of long rides: \" + str(Chicago_long_rides_proportion))\n",
    "\n",
    "#Calculate average trip length and proportion of long rides for Washington\n",
    "(Washington_average_trip_len, Washington_long_rides_proportion) = trip_len_avg_and_long_rides_proportion(Washington_file)\n",
    "print(\"Washington average trip length: \" + str(Washington_average_trip_len))\n",
    "print(\"Washington proportion of long rides: \" + str(Washington_long_rides_proportion))\n"
   ]
  },
  {
   "cell_type": "markdown",
   "metadata": {},
   "source": [
    "**Question 4c**: Dig deeper into the question of trip duration based on ridership. Choose one city. Within that city, which type of user takes longer rides on average: Subscribers or Customers?\n",
    "\n",
    "**Answer**:<br>\n",
    "For the city of New York customers take the longest rides with an average of 32.78 minutes, while the average trip length <br>\n",
    "for subscrisbers is less than a half, only 13.68 minutes."
   ]
  },
  {
   "cell_type": "code",
   "execution_count": 13,
   "metadata": {
    "collapsed": true
   },
   "outputs": [],
   "source": [
    "## Use this and additional cells to answer Question 4c. If you have    ##\n",
    "## not done so yet, consider revising some of your previous code to    ##\n",
    "## make use of functions for reusability.                              ##\n",
    "##                                                                     ##\n",
    "## TIP: For the Bay Area example data, you should find the average     ##\n",
    "## Subscriber trip duration to be 9.5 minutes and the average Customer ##\n",
    "## trip duration to be 54.6 minutes. Do the other cities have this     ##\n",
    "## level of difference?                                                ##\n",
    "\n",
    "def avg_trip_len_subscribers_vs_customers(filename):\n",
    "    \"\"\"\n",
    "    Read in a file with trip data and returns\n",
    "    the average trip_lenght for subscribers and customers\n",
    "   \n",
    "    Arguments:\n",
    "    filename(str): the name of the file to read.\n",
    "    \n",
    "    Returns:\n",
    "    tuple(float, float): a tuple with the average trip length for subscribers (index 0),\n",
    "    and customers (index 1)\n",
    "    \n",
    "    \"\"\"\n",
    "    \n",
    "    with open(filename, 'r') as f_in:\n",
    "        # set up csv reader object\n",
    "        reader = csv.DictReader(f_in)\n",
    "     \n",
    "        number_of_subscribers = 0\n",
    "        number_of_customers = 0\n",
    "        total_length_subscribers = 0\n",
    "        total_length_customers = 0\n",
    "\n",
    "        for row in reader:\n",
    "            if row['user_type'] == 'Subscriber':\n",
    "                number_of_subscribers += 1\n",
    "                total_length_subscribers += float(row['duration'])\n",
    "            else:\n",
    "                number_of_customers += 1\n",
    "                total_length_customers += float(row['duration'])\n",
    "\n",
    "        avg_trip_len_subscribers = total_length_subscribers/number_of_subscribers\n",
    "        avg_trip_len_customers = total_length_customers/number_of_customers\n",
    "\n",
    "        return (avg_trip_len_subscribers, avg_trip_len_customers)\n",
    "\n",
    "            \n",
    "        \n",
    "    \n",
    "    "
   ]
  },
  {
   "cell_type": "code",
   "execution_count": 14,
   "metadata": {},
   "outputs": [
    {
     "name": "stdout",
     "output_type": "stream",
     "text": [
      "(9.512633839275217, 54.55121116377032)\n",
      "NYC subscribers average trip length: 13.680790523907177\n",
      "NYC customers average trip length: 32.77595139473187\n"
     ]
    }
   ],
   "source": [
    "#test avg_trip_len_subscribers_vs_customers with Bay Area data\n",
    "print(avg_trip_len_subscribers_vs_customers(data_file))\n",
    "\n",
    "(NYC_sub_avg_trip_len, NYC_cust_avg_trip_len) = avg_trip_len_subscribers_vs_customers(NYC_file)\n",
    "print(\"NYC subscribers average trip length: \" + str(NYC_sub_avg_trip_len))\n",
    "print(\"NYC customers average trip length: \" + str(NYC_cust_avg_trip_len))"
   ]
  },
  {
   "cell_type": "markdown",
   "metadata": {},
   "source": [
    "<a id='visualizations'></a>\n",
    "### Visualizations\n",
    "\n",
    "The last set of values that you computed should have pulled up an interesting result. While the mean trip time for Subscribers is well under 30 minutes, the mean trip time for Customers is actually _above_ 30 minutes! It will be interesting for us to look at how the trip times are distributed. In order to do this, a new library will be introduced here, `matplotlib`. Run the cell below to load the library and to generate an example plot."
   ]
  },
  {
   "cell_type": "code",
   "execution_count": 15,
   "metadata": {},
   "outputs": [
    {
     "data": {
      "image/png": "[encoded data removed]",
      "text/plain": [
       "<Figure size 432x288 with 1 Axes>"
      ]
     },
     "metadata": {},
     "output_type": "display_data"
    }
   ],
   "source": [
    "# load library\n",
    "import matplotlib.pyplot as plt\n",
    "\n",
    "# this is a 'magic word' that allows for plots to be displayed\n",
    "# inline with the notebook. If you want to know more, see:\n",
    "# http://ipython.readthedocs.io/en/stable/interactive/magics.html\n",
    "%matplotlib inline \n",
    "\n",
    "# example histogram, data taken from bay area sample\n",
    "data = [ 7.65,  8.92,  7.42,  5.50, 16.17,  4.20,  8.98,  9.62, 11.48, 14.33,\n",
    "        19.02, 21.53,  3.90,  7.97,  2.62,  2.67,  3.08, 14.40, 12.90,  7.83,\n",
    "        25.12,  8.30,  4.93, 12.43, 10.60,  6.17, 10.88,  4.78, 15.15,  3.53,\n",
    "         9.43, 13.32, 11.72,  9.85,  5.22, 15.10,  3.95,  3.17,  8.78,  1.88,\n",
    "         4.55, 12.68, 12.38,  9.78,  7.63,  6.45, 17.38, 11.90, 11.52,  8.63,]\n",
    "plt.hist(data)\n",
    "plt.title('Distribution of Trip Durations')\n",
    "plt.xlabel('Duration (m)')\n",
    "plt.show()"
   ]
  },
  {
   "cell_type": "markdown",
   "metadata": {},
   "source": [
    "In the above cell, we collected fifty trip times in a list, and passed this list as the first argument to the `.hist()` function. This function performs the computations and creates plotting objects for generating a histogram, but the plot is actually not rendered until the `.show()` function is executed. The `.title()` and `.xlabel()` functions provide some labeling for plot context.\n",
    "\n",
    "You will now use these functions to create a histogram of the trip times for the city you selected in question 4c. Don't separate the Subscribers and Customers for now: just collect all of the trip times and plot them."
   ]
  },
  {
   "cell_type": "code",
   "execution_count": 16,
   "metadata": {},
   "outputs": [
    {
     "data": {
      "image/png": "[encoded data removed]",
      "text/plain": [
       "<Figure size 432x288 with 1 Axes>"
      ]
     },
     "metadata": {},
     "output_type": "display_data"
    }
   ],
   "source": [
    "## Use this and additional cells to collect all of the trip times as a list ##\n",
    "## and then use pyplot functions to generate a histogram of trip times.     ##\n",
    "%matplotlib inline \n",
    "def trip_times(filename):\n",
    "    with open(filename, 'r') as f_in:\n",
    "        # set up csv reader object\n",
    "        reader = csv.DictReader(f_in)\n",
    "        all_trip_times = []\n",
    "        for row in reader:\n",
    "            all_trip_times.append(float(row['duration']))\n",
    "    return all_trip_times\n",
    "\n",
    "NYC_trip_times = trip_times(NYC_file)\n",
    "plt.hist(NYC_trip_times)\n",
    "plt.title('Distribution of Trip Durations for New York')\n",
    "plt.xlabel('Duration (m)')\n",
    "plt.show()           \n",
    "    \n",
    "\n"
   ]
  },
  {
   "cell_type": "markdown",
   "metadata": {},
   "source": [
    "If you followed the use of the `.hist()` and `.show()` functions exactly like in the example, you're probably looking at a plot that's completely unexpected. The plot consists of one extremely tall bar on the left, maybe a very short second bar, and a whole lot of empty space in the center and right. Take a look at the duration values on the x-axis. This suggests that there are some highly infrequent outliers in the data. Instead of reprocessing the data, you will use additional parameters with the `.hist()` function to limit the range of data that is plotted. Documentation for the function can be found [[here]](https://matplotlib.org/devdocs/api/_as_gen/matplotlib.pyplot.hist.html#matplotlib.pyplot.hist).\n",
    "\n",
    "**Question 5**: Use the parameters of the `.hist()` function to plot the distribution of trip times for the Subscribers in your selected city. Do the same thing for only the Customers. Add limits to the plots so that only trips of duration less than 75 minutes are plotted. As a bonus, set the plots up so that bars are in five-minute wide intervals. For each group, where is the peak of each distribution? How would you describe the shape of each distribution?\n",
    "\n",
    "**Answer**: <br>\n",
    "The distribution of trip durations for Subscribers in New York is right-skewed, with a mode for trip durations between 5 and 10 minutes.<br>\n",
    "The distribution of trip duration for Customers in New York is again right-skewed, but with a peak for number of trips between 20 and 25 minutes.<br>\n"
   ]
  },
  {
   "cell_type": "code",
   "execution_count": 17,
   "metadata": {
    "collapsed": true
   },
   "outputs": [],
   "source": [
    "## Use this and additional cells to answer Question 5. ##\n",
    "\n",
    "def trip_times_per_user_type(filename):\n",
    "    \"\"\"\n",
    "    Returns the trip times for subscribers and customer for the selected file\n",
    "    \n",
    "    Arguments:\n",
    "    filename (str): name of the file to open\n",
    "   \n",
    "    Returns:\n",
    "    trip_times: (tuple(list[float], list[float])): a tuple of lists of float, representing trip times for\n",
    "                subscribers (index 0) and customers (index 1)\n",
    "    \"\"\"\n",
    "    with open(filename, 'r') as f_in:\n",
    "        reader = csv.DictReader(f_in)\n",
    "        subscribers_trip_times = []\n",
    "        customers_trip_times = []\n",
    "        \n",
    "        for row in reader:\n",
    "            trip_time = float(row['duration'])\n",
    "            if row['user_type'] == 'Subscriber':\n",
    "                subscribers_trip_times.append(trip_time)\n",
    "            else:\n",
    "                customers_trip_times.append(trip_time)\n",
    "                \n",
    "    return(subscribers_trip_times, customers_trip_times)            \n",
    "\n"
   ]
  },
  {
   "cell_type": "code",
   "execution_count": 18,
   "metadata": {},
   "outputs": [
    {
     "data": {
      "image/png": "[encoded data removed]",
      "text/plain": [
       "<Figure size 432x288 with 1 Axes>"
      ]
     },
     "metadata": {},
     "output_type": "display_data"
    },
    {
     "data": {
      "image/png": "[encoded data removed]",
      "text/plain": [
       "<Figure size 432x288 with 1 Axes>"
      ]
     },
     "metadata": {},
     "output_type": "display_data"
    }
   ],
   "source": [
    "%matplotlib inline \n",
    "#calculate trip_times for subscribers and customer in NYC\n",
    "(NYC_sub_trip_times, NYC_cust_trip_times) = trip_times_per_user_type(NYC_file)\n",
    "# bins 0 to 75\n",
    "graph_bins = [x*5.0 for x in range(16)]\n",
    "#range - minimum and maximum value to plot\n",
    "graph_range = (0,75)\n",
    "\n",
    "#plot NYC subscribers trip times distribution\n",
    "plt.hist(NYC_sub_trip_times, bins=graph_bins, range=graph_range)\n",
    "plt.title('Distribution of Trip Durations for NYC Subscribers')\n",
    "plt.xlabel('Duration (m)')\n",
    "plt.show()    \n",
    "\n",
    "#plot NYC customers trip times distribution\n",
    "plt.hist(NYC_cust_trip_times, bins=graph_bins, range=graph_range)\n",
    "plt.title('Distribution of Trip Durations for NYC Customers')\n",
    "plt.xlabel('Duration (m)')\n",
    "plt.show() "
   ]
  },
  {
   "cell_type": "markdown",
   "metadata": {
    "collapsed": true
   },
   "source": [
    "<a id='eda_continued'></a>\n",
    "## Performing Your Own Analysis\n",
    "\n",
    "So far, you've performed an initial exploration into the data available. You have compared the relative volume of trips made between three U.S. cities and the ratio of trips made by Subscribers and Customers. For one of these cities, you have investigated differences between Subscribers and Customers in terms of how long a typical trip lasts. Now it is your turn to continue the exploration in a direction that you choose. Here are a few suggestions for questions to explore:\n",
    "\n",
    "- How does ridership differ by month or season? Which month / season has the highest ridership? Does the ratio of Subscriber trips to Customer trips change depending on the month or season?\n",
    "- Is the pattern of ridership different on the weekends versus weekdays? On what days are Subscribers most likely to use the system? What about Customers? Does the average duration of rides change depending on the day of the week?\n",
    "- During what time of day is the system used the most? Is there a difference in usage patterns for Subscribers and Customers?\n",
    "\n",
    "If any of the questions you posed in your answer to question 1 align with the bullet points above, this is a good opportunity to investigate one of them. As part of your investigation, you will need to create a visualization. If you want to create something other than a histogram, then you might want to consult the [Pyplot documentation](https://matplotlib.org/devdocs/api/pyplot_summary.html). In particular, if you are plotting values across a categorical variable (e.g. city, user type), a bar chart will be useful. The [documentation page for `.bar()`](https://matplotlib.org/devdocs/api/_as_gen/matplotlib.pyplot.bar.html#matplotlib.pyplot.bar) includes links at the bottom of the page with examples for you to build off of for your own use.\n",
    "\n",
    "**Question 6**: Continue the investigation by exploring another question that could be answered by the data available. Document the question you want to explore below. Your investigation should involve at least two variables and should compare at least two groups. You should also use at least one visualization as part of your explorations.\n",
    "\n",
    "**Answer**: <br>\n",
    "**New York Bike Share: are there usage per hour differences for Subscribers and Customers?** <br>\n",
    "Plotting the frequency of trips  per hour of day for Subscribers and Customers, reveals a different usage of the bike share service for the two groups.<br>\n",
    "In particular Subscribers make trips mostly around the hour 8 (8 am) and hours 17 and 18 (between 5pm and 6pm). We cannot draw any definitive conclusion, but these are usually starting and ending working hours. <br>\n",
    "Customers instead make trips the most between hours 14-16 (between 2pm and 4 pm), with a peak at hour 15 (3pm). <br>\n",
    "Early hours of the days (between 0 and 5) are periods of low usage of the service for both groups. <br>\n",
    "Plotting the total users frequency (both customers and subscribers) per hour, shows a tendency very similar to those of subscribers, reflecting the fact that Subscribers are the most relevant part of New York Bike Share users, as seen before (89%). <br>\n",
    "**New York Bike Share: which are the favorites week days for Subscribers and Customers?** <br>\n",
    "Considering the number of users per day of the week, there is a significative difference between Subscribers and Customers.<br>\n",
    "Infact Subscribers use the Bike Share Service mostly on work days between Monday and Friday, with a higher number of trips on Wednesday and Thursday, while on the week-end the number of trips declines.<br>\n",
    "Customers instead use the service mostly on week-end, with Saturday showing the highest number of trips. Days between Monday and Friday are less preferred by Customers to make trips."
   ]
  },
  {
   "cell_type": "code",
   "execution_count": 19,
   "metadata": {
    "collapsed": true
   },
   "outputs": [],
   "source": [
    "## Use this and additional cells to continue to explore the dataset. ##\n",
    "## Once you have performed your exploration, document your findings  ##\n",
    "## in the Markdown cell above.\n",
    "def subscriber_customer_total_per_hour(filename):\n",
    "    \"\"\"\n",
    "    Return the number of Subscribers, Customers and total users\n",
    "    per hour of day\n",
    "    \n",
    "    Arguments:\n",
    "    filename(str): the name of the file to open\n",
    "    \n",
    "    Returns:\n",
    "    tuple(list(int), list(int), list(int)): a tuple with 3 lists of integers, the index of the list correspond to\n",
    "    the hour of the day, the value at the index is the frequency of subscribers(first list),\n",
    "    customers(second list) or total users(third list) for that hour.\n",
    "    \n",
    "    \"\"\"\n",
    "    \n",
    "    with open(filename, 'r') as f_in:\n",
    "        reader = csv.DictReader(f_in)\n",
    "        subscribers_per_hour = [0] * 24\n",
    "        customers_per_hour = [0] * 24\n",
    "        total_per_hour = [0] * 24\n",
    "        \n",
    "        for row in reader:\n",
    "            hour_of_day = int(row['hour'])\n",
    "            total_per_hour[hour_of_day] = total_per_hour[hour_of_day] + 1\n",
    "            if row['user_type'] == 'Subscriber':\n",
    "                subscribers_per_hour[hour_of_day] = subscribers_per_hour[hour_of_day] + 1\n",
    "            else:\n",
    "                customers_per_hour[hour_of_day] = customers_per_hour[hour_of_day] + 1\n",
    "                \n",
    "               \n",
    "    \n",
    "    return (subscribers_per_hour, customers_per_hour, total_per_hour)\n",
    "    \n"
   ]
  },
  {
   "cell_type": "code",
   "execution_count": 20,
   "metadata": {},
   "outputs": [
    {
     "data": {
      "image/png": "[encoded data removed]",
      "text/plain": [
       "<Figure size 432x288 with 1 Axes>"
      ]
     },
     "metadata": {},
     "output_type": "display_data"
    },
    {
     "data": {
      "image/png": "[encoded data removed]",
      "text/plain": [
       "<Figure size 432x288 with 1 Axes>"
      ]
     },
     "metadata": {},
     "output_type": "display_data"
    },
    {
     "data": {
      "image/png": "[encoded data removed]",
      "text/plain": [
       "<Figure size 432x288 with 1 Axes>"
      ]
     },
     "metadata": {},
     "output_type": "display_data"
    }
   ],
   "source": [
    "%matplotlib inline\n",
    "(NYC_sub_per_hour, NYC_cust_per_hour, NYC_users_per_hour) = subscriber_customer_total_per_hour(NYC_file)\n",
    "\n",
    "\n",
    "#plot subscribers per hour in NYC\n",
    "hours_of_day = [x for x in range(24)]\n",
    "plt.bar(hours_of_day, NYC_sub_per_hour)\n",
    "plt.ylabel(\"count of Subscribers\")\n",
    "plt.xlabel(\"hour of the day\")\n",
    "plt.title(\"Subscribers per hour in New York\")\n",
    "plt.show()\n",
    "\n",
    "\n",
    "#plot customers per hour in NYC\n",
    "plt.bar(hours_of_day, NYC_cust_per_hour)\n",
    "plt.ylabel(\"count of Customers\")\n",
    "plt.xlabel(\"hour of the day\")\n",
    "plt.title(\"Customers per hour in New York\")\n",
    "plt.show()\n",
    "\n",
    "#plot customers per hour in NYC\n",
    "plt.bar(hours_of_day, NYC_users_per_hour)\n",
    "plt.ylabel(\"count of total users\")\n",
    "plt.xlabel(\"hour of the day\")\n",
    "plt.title(\"Total Users per hour in New York\")\n",
    "plt.show()"
   ]
  },
  {
   "cell_type": "code",
   "execution_count": 21,
   "metadata": {
    "collapsed": true
   },
   "outputs": [],
   "source": [
    "def subscribers_customers_total_per_week_day(filename):\n",
    "    \"\"\"\n",
    "    Return the number of Subscribers, Customers and total users\n",
    "    per month\n",
    "    \n",
    "    Arguments:\n",
    "    filename(str): the name of the file to open\n",
    "    \n",
    "    Returns:\n",
    "    tuple(list(int), list(int), list(int)): a tuple with 3 lists of integers, subscribers(first list),\n",
    "    customers(second list) or total users(third list) for that hour.\n",
    "    \"\"\"\n",
    "    with open(filename, 'r') as f_in:\n",
    "        reader = csv.DictReader(f_in)\n",
    "        \n",
    "        week_day_converter_dict = {'Monday': 0, 'Tuesday': 1, 'Wednesday': 2,\n",
    "                                  'Thursday': 3,'Friday': 4,'Saturday': 5,'Sunday': 6}\n",
    "        \n",
    "        \n",
    "        subscribers_per_week_day = [0] * 7\n",
    "        customers_per_week_day = [0] * 7\n",
    "        total_users_per_week_day = [0] * 7\n",
    "        \n",
    "        for row in reader:\n",
    "            week_day = week_day_converter_dict[row['day_of_week']]\n",
    "            total_users_per_week_day[week_day] += 1\n",
    "            if row['user_type'] == 'Subscriber':\n",
    "                subscribers_per_week_day[week_day] += 1\n",
    "            else:\n",
    "                customers_per_week_day[week_day] += 1\n",
    "        \n",
    "        return (subscribers_per_week_day, customers_per_week_day, total_users_per_week_day)\n",
    "        \n",
    "        \n",
    "\n",
    "    "
   ]
  },
  {
   "cell_type": "code",
   "execution_count": 22,
   "metadata": {},
   "outputs": [
    {
     "data": {
      "image/png": "[encoded data removed]",
      "text/plain": [
       "<Figure size 432x288 with 1 Axes>"
      ]
     },
     "metadata": {},
     "output_type": "display_data"
    },
    {
     "data": {
      "image/png": "[encoded data removed]",
      "text/plain": [
       "<Figure size 432x288 with 1 Axes>"
      ]
     },
     "metadata": {},
     "output_type": "display_data"
    },
    {
     "data": {
      "image/png": "[encoded data removed]",
      "text/plain": [
       "<Figure size 432x288 with 1 Axes>"
      ]
     },
     "metadata": {},
     "output_type": "display_data"
    }
   ],
   "source": [
    "%matplotlib inline\n",
    "# calculate susbcribers, customers and total user per day of week\n",
    "(NYC_sub_wd, NYC_cust_wd, NYC_tot_wd) = subscribers_customers_total_per_week_day(NYC_file)\n",
    "\n",
    "\n",
    "week_day_names = ['Mon', 'Tue', 'Wed', 'Thu', 'Fri', 'Sat', 'Sun']\n",
    "week_days_num = [x for x in range(7)]\n",
    "\n",
    "#plotting subscribers per week day\n",
    "plt.bar(week_days_num, NYC_sub_wd)\n",
    "plt.xticks(week_days_num, week_day_names)\n",
    "plt.ylabel('count of Subscribers')\n",
    "plt.xlabel('Day of Week')\n",
    "plt.title(\"Subscribers per week day in New York\")\n",
    "plt.show()\n",
    "\n",
    "#plotting customers per week day\n",
    "plt.bar(week_days_num, NYC_cust_wd)\n",
    "plt.xticks(week_days_num, week_day_names)\n",
    "plt.ylabel('count of Customers')\n",
    "plt.xlabel('Day of Week')\n",
    "plt.title(\"Customers per week day in New York\")\n",
    "plt.show()\n",
    "\n",
    "\n",
    "#plotting total users per week day\n",
    "plt.bar(week_days_num, NYC_tot_wd)\n",
    "#set the correct label to bars\n",
    "plt.xticks(week_days_num, week_day_names)\n",
    "plt.ylabel('count of total users')\n",
    "plt.xlabel('Day of Week')\n",
    "plt.title(\"Total users per week day in New York\")\n",
    "plt.show()"
   ]
  },
  {
   "cell_type": "markdown",
   "metadata": {},
   "source": [
    "<a id='conclusions'></a>\n",
    "## Conclusions\n",
    "\n",
    "Congratulations on completing the project! This is only a sampling of the data analysis process: from generating questions, wrangling the data, and to exploring the data. Normally, at this point in the data analysis process, you might want to draw conclusions about the data by performing a statistical test or fitting the data to a model for making predictions. There are also a lot of potential analyses that could be performed on the data which are not possible with only the data provided. For example, detailed location data has not been investigated. Where are the most commonly used docks? What are the most common routes? As another example, weather has potential to have a large impact on daily ridership. How much is ridership impacted when there is rain or snow? Are subscribers or customers affected more by changes in weather?\n",
    "\n",
    "**Question 7**: Putting the bike share data aside, think of a topic or field of interest where you would like to be able to apply the techniques of data science. What would you like to be able to learn from your chosen subject?\n",
    "\n",
    "**Answer**:<br>\n",
    "One of the most interesting field in which data science can be of help is in improving the Health Care System in, both reducing the health spending, with better use of resources, and above all offering a better experience to patients.<br>\n",
    "Correct statistics about the total number of access to each hospital ward, the usage of supplies in different period of the year or of the week, the average period of hospital stay, the percentage of success for different therapies or for the same therapy but in used in different conditions, can lead to better strategies in curing patients and to better planning in distributing resources and in organizing and forming the health personnel.<br>\n"
   ]
  },
  {
   "cell_type": "code",
   "execution_count": 23,
   "metadata": {},
   "outputs": [
    {
     "data": {
      "text/plain": [
       "0"
      ]
     },
     "execution_count": 23,
     "metadata": {},
     "output_type": "execute_result"
    }
   ],
   "source": [
    "from subprocess import call\n",
    "call(['python', '-m', 'nbconvert', 'Bike_Share_Analysis.ipynb'])"
   ]
  },
  {
   "cell_type": "code",
   "execution_count": null,
   "metadata": {
    "collapsed": true
   },
   "outputs": [],
   "source": []
  }
 ],
 "metadata": {
  "anaconda-cloud": {},
  "kernelspec": {
   "display_name": "Python [default]",
   "language": "python",
   "name": "python3"
  },
  "language_info": {
   "codemirror_mode": {
    "name": "ipython",
    "version": 3
   },
   "file_extension": ".py",
   "mimetype": "text/x-python",
   "name": "python",
   "nbconvert_exporter": "python",
   "pygments_lexer": "ipython3",
   "version": "3.6.3"
  }
 },
 "nbformat": 4,
 "nbformat_minor": 1
}
